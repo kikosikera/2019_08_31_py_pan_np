{
  "nbformat": 4,
  "nbformat_minor": 0,
  "metadata": {
    "colab": {
      "name": "2019_09_06_pd_np_plt1.ipynb",
      "provenance": [],
      "collapsed_sections": [
        "UJKgcnZtWuC4",
        "k-39ggR-RTAE",
        "hc2OpyMc9MW6",
        "6m1tfu-oGGGo",
        "cEVEYmovRA75"
      ],
      "toc_visible": true
    },
    "kernelspec": {
      "name": "python3",
      "display_name": "Python 3"
    }
  },
  "cells": [
    {
      "cell_type": "markdown",
      "metadata": {
        "id": "8toWkKYrqVjz",
        "colab_type": "text"
      },
      "source": [
        "# Phase 1\n",
        "#### Segmentation\n",
        "TOP 3 Segments"
      ]
    },
    {
      "cell_type": "markdown",
      "metadata": {
        "id": "AXkeO84v3SVd",
        "colab_type": "text"
      },
      "source": [
        "## Find the best Target Segments and Locations for a New Security System\n",
        "### Electric Growers wants to launch a New Home Security System utilizing the right strategy.\n",
        "\n",
        "The project provides the best way to launch a new Home Security System targeting socio-economic segments which have the highest new customers potential.\n",
        "\n",
        "It is a result of an in-depth analysis of the customer data including several variables as a collected survey questions in 6759 markets of US cities/regions."
      ]
    },
    {
      "cell_type": "markdown",
      "metadata": {
        "id": "3jJLP34lz01G",
        "colab_type": "text"
      },
      "source": [
        "### Import Libraries and Datasets"
      ]
    },
    {
      "cell_type": "code",
      "metadata": {
        "id": "8wUecS_j1WGj",
        "colab_type": "code",
        "colab": {}
      },
      "source": [
        "import numpy as np\n",
        "import pandas as pd\n",
        "import matplotlib.pyplot as plt\n",
        "import seaborn as sns"
      ],
      "execution_count": 0,
      "outputs": []
    },
    {
      "cell_type": "code",
      "metadata": {
        "id": "0mMK5KikX3Kb",
        "colab_type": "code",
        "outputId": "6d540bdf-2849-4a47-e201-dacb19caa2c2",
        "colab": {
          "base_uri": "https://localhost:8080/",
          "height": 34
        }
      },
      "source": [
        "from google.colab import drive\n",
        "drive.mount('/gdrive/')"
      ],
      "execution_count": 0,
      "outputs": [
        {
          "output_type": "stream",
          "text": [
            "Drive already mounted at /gdrive/; to attempt to forcibly remount, call drive.mount(\"/gdrive/\", force_remount=True).\n"
          ],
          "name": "stdout"
        }
      ]
    },
    {
      "cell_type": "markdown",
      "metadata": {
        "id": "i57cMv_31rKN",
        "colab_type": "text"
      },
      "source": [
        "Download the datasets and read it all into a pandas dataframe."
      ]
    },
    {
      "cell_type": "code",
      "metadata": {
        "id": "Ps2crAMv5w1d",
        "colab_type": "code",
        "colab": {}
      },
      "source": [
        "# survey - Survey Data will have the segment distribution for the variables providing the right attribute which will be used to calculate propensity indices for the segments or markets\n",
        "df_survey = pd.read_csv(\"/gdrive/My Drive/Colab Notebooks/Data/PROJ/01_pandas/files/final/data/01_survey_data.csv\", sep = ',', low_memory=False)\n",
        "# segments - Segments and their description\n",
        "df_segments = pd.read_csv(\"/gdrive/My Drive/Colab Notebooks/Data/PROJ/01_pandas/files/final/data/02_city_segments.csv\", sep = ',', low_memory=False)\n",
        "# demographics - Market data will have attributes like combine crime rate, population growth, housing growth and penetration of top segments at state city level\n",
        "df_demographics = pd.read_csv(\"/gdrive/My Drive/Colab Notebooks/Data/PROJ/01_pandas/files/final/data/03_citywise_demographics.csv\", sep = ',', low_memory=False)"
      ],
      "execution_count": 0,
      "outputs": []
    },
    {
      "cell_type": "code",
      "metadata": {
        "id": "q64IRpcb-KKz",
        "colab_type": "code",
        "outputId": "4f3e377c-ce99-4271-9d0b-186751121b02",
        "colab": {
          "base_uri": "https://localhost:8080/",
          "height": 119
        }
      },
      "source": [
        "df_survey.shape, list(df_survey), df_survey.notnull().sum()"
      ],
      "execution_count": 0,
      "outputs": [
        {
          "output_type": "execute_result",
          "data": {
            "text/plain": [
              "((2028, 3),\n",
              " ['Segments', 'Variable Name', 'Variable Count'],\n",
              " Segments          2028\n",
              " Variable Name     2028\n",
              " Variable Count    2028\n",
              " dtype: int64)"
            ]
          },
          "metadata": {
            "tags": []
          },
          "execution_count": 314
        }
      ]
    },
    {
      "cell_type": "code",
      "metadata": {
        "id": "F0LE6WlR79xz",
        "colab_type": "code",
        "outputId": "a0fbf7d3-1d78-4f8e-8b96-3d0e9a5d23e1",
        "colab": {
          "base_uri": "https://localhost:8080/",
          "height": 204
        }
      },
      "source": [
        "# survey - Survey Data will have the segment distribution for the variables providing the right attribute which will be used to calculate propensity indices for the segments or markets\n",
        "df_survey.head(5)"
      ],
      "execution_count": 0,
      "outputs": [
        {
          "output_type": "execute_result",
          "data": {
            "text/html": [
              "<div>\n",
              "<style scoped>\n",
              "    .dataframe tbody tr th:only-of-type {\n",
              "        vertical-align: middle;\n",
              "    }\n",
              "\n",
              "    .dataframe tbody tr th {\n",
              "        vertical-align: top;\n",
              "    }\n",
              "\n",
              "    .dataframe thead th {\n",
              "        text-align: right;\n",
              "    }\n",
              "</style>\n",
              "<table border=\"1\" class=\"dataframe\">\n",
              "  <thead>\n",
              "    <tr style=\"text-align: right;\">\n",
              "      <th></th>\n",
              "      <th>Segments</th>\n",
              "      <th>Variable Name</th>\n",
              "      <th>Variable Count</th>\n",
              "    </tr>\n",
              "  </thead>\n",
              "  <tbody>\n",
              "    <tr>\n",
              "      <th>0</th>\n",
              "      <td>Well-heeled Affluents</td>\n",
              "      <td>Attitude: Prefer Auto and Residential with Sam...</td>\n",
              "      <td>1656351</td>\n",
              "    </tr>\n",
              "    <tr>\n",
              "      <th>1</th>\n",
              "      <td>Prosperous Acheivers</td>\n",
              "      <td>Attitude: Prefer Auto and Residential with Sam...</td>\n",
              "      <td>2388550</td>\n",
              "    </tr>\n",
              "    <tr>\n",
              "      <th>2</th>\n",
              "      <td>Young Affluent Mobiles</td>\n",
              "      <td>Attitude: Prefer Auto and Residential with Sam...</td>\n",
              "      <td>3053584</td>\n",
              "    </tr>\n",
              "    <tr>\n",
              "      <th>3</th>\n",
              "      <td>Upscale Matures</td>\n",
              "      <td>Attitude: Prefer Auto and Residential with Sam...</td>\n",
              "      <td>2003181</td>\n",
              "    </tr>\n",
              "    <tr>\n",
              "      <th>4</th>\n",
              "      <td>Elite Households</td>\n",
              "      <td>Attitude: Prefer Auto and Residential with Sam...</td>\n",
              "      <td>2371356</td>\n",
              "    </tr>\n",
              "  </tbody>\n",
              "</table>\n",
              "</div>"
            ],
            "text/plain": [
              "                 Segments  ... Variable Count\n",
              "0   Well-heeled Affluents  ...        1656351\n",
              "1    Prosperous Acheivers  ...        2388550\n",
              "2  Young Affluent Mobiles  ...        3053584\n",
              "3         Upscale Matures  ...        2003181\n",
              "4        Elite Households  ...        2371356\n",
              "\n",
              "[5 rows x 3 columns]"
            ]
          },
          "metadata": {
            "tags": []
          },
          "execution_count": 315
        }
      ]
    },
    {
      "cell_type": "code",
      "metadata": {
        "id": "XrSvqpWPq7zY",
        "colab_type": "code",
        "colab": {}
      },
      "source": [
        "df_survey['Variable Count'] = df_survey['Variable Count'].astype(int)"
      ],
      "execution_count": 0,
      "outputs": []
    },
    {
      "cell_type": "code",
      "metadata": {
        "id": "AyJj1TfRqbgU",
        "colab_type": "code",
        "outputId": "8653602d-4c80-4c56-e0a6-01cfbe57c905",
        "colab": {
          "base_uri": "https://localhost:8080/",
          "height": 34
        }
      },
      "source": [
        "df_survey['Variable Count'].sum()"
      ],
      "execution_count": 0,
      "outputs": [
        {
          "output_type": "execute_result",
          "data": {
            "text/plain": [
              "2027808637"
            ]
          },
          "metadata": {
            "tags": []
          },
          "execution_count": 317
        }
      ]
    },
    {
      "cell_type": "code",
      "metadata": {
        "id": "9F_3Zsnr-OhQ",
        "colab_type": "code",
        "outputId": "d46bcee7-af2f-4e4b-981b-77f494cbff96",
        "colab": {
          "base_uri": "https://localhost:8080/",
          "height": 136
        }
      },
      "source": [
        "df_segments.shape, list(df_segments), df_segments.notnull().sum()"
      ],
      "execution_count": 0,
      "outputs": [
        {
          "output_type": "execute_result",
          "data": {
            "text/plain": [
              "((297240, 4),\n",
              " ['Customer Segment', 'StateFullName', 'City', 'Household Counts'],\n",
              " Customer Segment    297240\n",
              " StateFullName       297240\n",
              " City                297240\n",
              " Household Counts    297240\n",
              " dtype: int64)"
            ]
          },
          "metadata": {
            "tags": []
          },
          "execution_count": 318
        }
      ]
    },
    {
      "cell_type": "code",
      "metadata": {
        "id": "rNvTVxW-9Joa",
        "colab_type": "code",
        "outputId": "a43145b8-f015-4441-f034-1a07f88c0670",
        "colab": {
          "base_uri": "https://localhost:8080/",
          "height": 204
        }
      },
      "source": [
        "# segments - Segments and their description\n",
        "df_segments.head(5)"
      ],
      "execution_count": 0,
      "outputs": [
        {
          "output_type": "execute_result",
          "data": {
            "text/html": [
              "<div>\n",
              "<style scoped>\n",
              "    .dataframe tbody tr th:only-of-type {\n",
              "        vertical-align: middle;\n",
              "    }\n",
              "\n",
              "    .dataframe tbody tr th {\n",
              "        vertical-align: top;\n",
              "    }\n",
              "\n",
              "    .dataframe thead th {\n",
              "        text-align: right;\n",
              "    }\n",
              "</style>\n",
              "<table border=\"1\" class=\"dataframe\">\n",
              "  <thead>\n",
              "    <tr style=\"text-align: right;\">\n",
              "      <th></th>\n",
              "      <th>Customer Segment</th>\n",
              "      <th>StateFullName</th>\n",
              "      <th>City</th>\n",
              "      <th>Household Counts</th>\n",
              "    </tr>\n",
              "  </thead>\n",
              "  <tbody>\n",
              "    <tr>\n",
              "      <th>0</th>\n",
              "      <td>Well-heeled Affluents</td>\n",
              "      <td>Pennsylvania</td>\n",
              "      <td>AARONSBURG</td>\n",
              "      <td>0</td>\n",
              "    </tr>\n",
              "    <tr>\n",
              "      <th>1</th>\n",
              "      <td>Modest Families</td>\n",
              "      <td>Pennsylvania</td>\n",
              "      <td>AARONSBURG</td>\n",
              "      <td>0</td>\n",
              "    </tr>\n",
              "    <tr>\n",
              "      <th>2</th>\n",
              "      <td>Elite Households</td>\n",
              "      <td>Pennsylvania</td>\n",
              "      <td>AARONSBURG</td>\n",
              "      <td>0</td>\n",
              "    </tr>\n",
              "    <tr>\n",
              "      <th>3</th>\n",
              "      <td>Mass Markets</td>\n",
              "      <td>Pennsylvania</td>\n",
              "      <td>AARONSBURG</td>\n",
              "      <td>90</td>\n",
              "    </tr>\n",
              "    <tr>\n",
              "      <th>4</th>\n",
              "      <td>Young Urban Masses</td>\n",
              "      <td>Pennsylvania</td>\n",
              "      <td>AARONSBURG</td>\n",
              "      <td>1</td>\n",
              "    </tr>\n",
              "  </tbody>\n",
              "</table>\n",
              "</div>"
            ],
            "text/plain": [
              "        Customer Segment StateFullName        City  Household Counts\n",
              "0  Well-heeled Affluents  Pennsylvania  AARONSBURG                 0\n",
              "1        Modest Families  Pennsylvania  AARONSBURG                 0\n",
              "2       Elite Households  Pennsylvania  AARONSBURG                 0\n",
              "3           Mass Markets  Pennsylvania  AARONSBURG                90\n",
              "4     Young Urban Masses  Pennsylvania  AARONSBURG                 1"
            ]
          },
          "metadata": {
            "tags": []
          },
          "execution_count": 319
        }
      ]
    },
    {
      "cell_type": "code",
      "metadata": {
        "id": "rALm42if9Sh4",
        "colab_type": "code",
        "outputId": "5a0d9eb1-5281-441d-c355-9dbcced6eb9b",
        "colab": {
          "base_uri": "https://localhost:8080/",
          "height": 595
        }
      },
      "source": [
        "df_demographics.shape, list(df_demographics), df_segments.notnull().sum()"
      ],
      "execution_count": 0,
      "outputs": [
        {
          "output_type": "execute_result",
          "data": {
            "text/plain": [
              "((6759, 28),\n",
              " ['Location',\n",
              "  'State',\n",
              "  'County',\n",
              "  'Land Area',\n",
              "  'WaterArea',\n",
              "  'Latitude',\n",
              "  'Longitude',\n",
              "  'Population Growth Rate',\n",
              "  'WhitePopulation',\n",
              "  'BlackPopulation',\n",
              "  'HispanicPopulation',\n",
              "  'AsianPopulation',\n",
              "  'HawaiianPopulation',\n",
              "  'IndianPopulation',\n",
              "  'OtherPopulation',\n",
              "  'MalePopulation',\n",
              "  'FemalePopulation',\n",
              "  'Number of Burgalaries reported',\n",
              "  'MedianAge',\n",
              "  'Crime Rate',\n",
              "  'Homicide Reported',\n",
              "  'CBSA_Type',\n",
              "  'FinanceNumber',\n",
              "  'Property Crime Rate',\n",
              "  'Housing Construction',\n",
              "  'HouseholdsPerZipCode',\n",
              "  'AverageHouseValue',\n",
              "  'Elevation'],\n",
              " Customer Segment    297240\n",
              " StateFullName       297240\n",
              " City                297240\n",
              " Household Counts    297240\n",
              " dtype: int64)"
            ]
          },
          "metadata": {
            "tags": []
          },
          "execution_count": 320
        }
      ]
    },
    {
      "cell_type": "code",
      "metadata": {
        "id": "HMlq24_K-X6Q",
        "colab_type": "code",
        "outputId": "ddbbab86-07f5-4fad-da5b-939b0df396c8",
        "colab": {
          "base_uri": "https://localhost:8080/",
          "height": 258
        }
      },
      "source": [
        "# Demographics - Market data will have attributes like combine crime rate, population growth, housing growth and penetration of top segments at state city level\n",
        "df_demographics.head(5)"
      ],
      "execution_count": 0,
      "outputs": [
        {
          "output_type": "execute_result",
          "data": {
            "text/html": [
              "<div>\n",
              "<style scoped>\n",
              "    .dataframe tbody tr th:only-of-type {\n",
              "        vertical-align: middle;\n",
              "    }\n",
              "\n",
              "    .dataframe tbody tr th {\n",
              "        vertical-align: top;\n",
              "    }\n",
              "\n",
              "    .dataframe thead th {\n",
              "        text-align: right;\n",
              "    }\n",
              "</style>\n",
              "<table border=\"1\" class=\"dataframe\">\n",
              "  <thead>\n",
              "    <tr style=\"text-align: right;\">\n",
              "      <th></th>\n",
              "      <th>Location</th>\n",
              "      <th>State</th>\n",
              "      <th>County</th>\n",
              "      <th>Land Area</th>\n",
              "      <th>WaterArea</th>\n",
              "      <th>Latitude</th>\n",
              "      <th>Longitude</th>\n",
              "      <th>Population Growth Rate</th>\n",
              "      <th>WhitePopulation</th>\n",
              "      <th>BlackPopulation</th>\n",
              "      <th>HispanicPopulation</th>\n",
              "      <th>AsianPopulation</th>\n",
              "      <th>HawaiianPopulation</th>\n",
              "      <th>IndianPopulation</th>\n",
              "      <th>OtherPopulation</th>\n",
              "      <th>MalePopulation</th>\n",
              "      <th>FemalePopulation</th>\n",
              "      <th>Number of Burgalaries reported</th>\n",
              "      <th>MedianAge</th>\n",
              "      <th>Crime Rate</th>\n",
              "      <th>Homicide Reported</th>\n",
              "      <th>CBSA_Type</th>\n",
              "      <th>FinanceNumber</th>\n",
              "      <th>Property Crime Rate</th>\n",
              "      <th>Housing Construction</th>\n",
              "      <th>HouseholdsPerZipCode</th>\n",
              "      <th>AverageHouseValue</th>\n",
              "      <th>Elevation</th>\n",
              "    </tr>\n",
              "  </thead>\n",
              "  <tbody>\n",
              "    <tr>\n",
              "      <th>0</th>\n",
              "      <td>Alabama|Abbeville</td>\n",
              "      <td>AL</td>\n",
              "      <td>Henry</td>\n",
              "      <td>107.7490</td>\n",
              "      <td>3.1280</td>\n",
              "      <td>31.593513</td>\n",
              "      <td>-85.228148</td>\n",
              "      <td>-1.41%</td>\n",
              "      <td>2186.0</td>\n",
              "      <td>1152.0</td>\n",
              "      <td>78.0</td>\n",
              "      <td>18.0</td>\n",
              "      <td>3.0</td>\n",
              "      <td>25.0</td>\n",
              "      <td>45.0</td>\n",
              "      <td>1647.0</td>\n",
              "      <td>1745.0</td>\n",
              "      <td>4.0</td>\n",
              "      <td>46.2</td>\n",
              "      <td>93</td>\n",
              "      <td>NaN</td>\n",
              "      <td>Metro</td>\n",
              "      <td>10020.0</td>\n",
              "      <td>42.5</td>\n",
              "      <td>0.93%</td>\n",
              "      <td>1412.0</td>\n",
              "      <td>88900.0</td>\n",
              "      <td>499.0</td>\n",
              "    </tr>\n",
              "    <tr>\n",
              "      <th>1</th>\n",
              "      <td>Alabama|Adamsville</td>\n",
              "      <td>AL</td>\n",
              "      <td>Jefferson</td>\n",
              "      <td>17.2545</td>\n",
              "      <td>0.1725</td>\n",
              "      <td>33.592857</td>\n",
              "      <td>-86.994015</td>\n",
              "      <td>-2.09%</td>\n",
              "      <td>2399.0</td>\n",
              "      <td>1511.0</td>\n",
              "      <td>79.0</td>\n",
              "      <td>17.0</td>\n",
              "      <td>3.0</td>\n",
              "      <td>41.0</td>\n",
              "      <td>45.0</td>\n",
              "      <td>1903.0</td>\n",
              "      <td>2068.0</td>\n",
              "      <td>10.0</td>\n",
              "      <td>39.6</td>\n",
              "      <td>403</td>\n",
              "      <td>NaN</td>\n",
              "      <td>Metro</td>\n",
              "      <td>10050.0</td>\n",
              "      <td>186.5</td>\n",
              "      <td>-0.69%</td>\n",
              "      <td>1534.0</td>\n",
              "      <td>97100.0</td>\n",
              "      <td>600.0</td>\n",
              "    </tr>\n",
              "    <tr>\n",
              "      <th>2</th>\n",
              "      <td>Alabama|Addison</td>\n",
              "      <td>AL</td>\n",
              "      <td>Winston</td>\n",
              "      <td>36.8680</td>\n",
              "      <td>0.2910</td>\n",
              "      <td>34.202745</td>\n",
              "      <td>-87.204788</td>\n",
              "      <td>-1.64%</td>\n",
              "      <td>1197.0</td>\n",
              "      <td>2.0</td>\n",
              "      <td>14.0</td>\n",
              "      <td>2.0</td>\n",
              "      <td>0.0</td>\n",
              "      <td>9.0</td>\n",
              "      <td>9.0</td>\n",
              "      <td>613.0</td>\n",
              "      <td>595.0</td>\n",
              "      <td>1.0</td>\n",
              "      <td>40.5</td>\n",
              "      <td>32</td>\n",
              "      <td>NaN</td>\n",
              "      <td>NaN</td>\n",
              "      <td>10060.0</td>\n",
              "      <td>15.5</td>\n",
              "      <td>2.64%</td>\n",
              "      <td>501.0</td>\n",
              "      <td>88700.0</td>\n",
              "      <td>827.0</td>\n",
              "    </tr>\n",
              "    <tr>\n",
              "      <th>3</th>\n",
              "      <td>Alabama|Alabaster</td>\n",
              "      <td>AL</td>\n",
              "      <td>Shelby</td>\n",
              "      <td>18.6895</td>\n",
              "      <td>0.3350</td>\n",
              "      <td>33.218709</td>\n",
              "      <td>-86.783546</td>\n",
              "      <td>1.25%</td>\n",
              "      <td>10545.0</td>\n",
              "      <td>1834.0</td>\n",
              "      <td>1338.0</td>\n",
              "      <td>154.0</td>\n",
              "      <td>12.0</td>\n",
              "      <td>108.0</td>\n",
              "      <td>696.0</td>\n",
              "      <td>6443.0</td>\n",
              "      <td>6670.0</td>\n",
              "      <td>19.0</td>\n",
              "      <td>35.6</td>\n",
              "      <td>670</td>\n",
              "      <td>0.5</td>\n",
              "      <td>Metro</td>\n",
              "      <td>10105.0</td>\n",
              "      <td>306</td>\n",
              "      <td>-2.25%</td>\n",
              "      <td>4590.0</td>\n",
              "      <td>160100.0</td>\n",
              "      <td>524.0</td>\n",
              "    </tr>\n",
              "    <tr>\n",
              "      <th>4</th>\n",
              "      <td>Alabama|Albertville</td>\n",
              "      <td>AL</td>\n",
              "      <td>Marshall</td>\n",
              "      <td>58.7030</td>\n",
              "      <td>0.5325</td>\n",
              "      <td>34.251568</td>\n",
              "      <td>-86.256980</td>\n",
              "      <td>-0.02%</td>\n",
              "      <td>8165.0</td>\n",
              "      <td>260.0</td>\n",
              "      <td>2794.0</td>\n",
              "      <td>62.0</td>\n",
              "      <td>30.0</td>\n",
              "      <td>181.0</td>\n",
              "      <td>1979.0</td>\n",
              "      <td>5206.0</td>\n",
              "      <td>5207.0</td>\n",
              "      <td>5.0</td>\n",
              "      <td>32.4</td>\n",
              "      <td>779</td>\n",
              "      <td>0.5</td>\n",
              "      <td>Micro</td>\n",
              "      <td>10120.0</td>\n",
              "      <td>378</td>\n",
              "      <td>0.70%</td>\n",
              "      <td>3720.0</td>\n",
              "      <td>101700.0</td>\n",
              "      <td>592.0</td>\n",
              "    </tr>\n",
              "  </tbody>\n",
              "</table>\n",
              "</div>"
            ],
            "text/plain": [
              "               Location State  ... AverageHouseValue  Elevation\n",
              "0    Alabama|Abbeville     AL  ...           88900.0      499.0\n",
              "1   Alabama|Adamsville     AL  ...           97100.0      600.0\n",
              "2      Alabama|Addison     AL  ...           88700.0      827.0\n",
              "3    Alabama|Alabaster     AL  ...          160100.0      524.0\n",
              "4  Alabama|Albertville     AL  ...          101700.0      592.0\n",
              "\n",
              "[5 rows x 28 columns]"
            ]
          },
          "metadata": {
            "tags": []
          },
          "execution_count": 321
        }
      ]
    },
    {
      "cell_type": "markdown",
      "metadata": {
        "id": "JRPTprgk9WuA",
        "colab_type": "text"
      },
      "source": [
        "# Exploratory Data Analysis"
      ]
    },
    {
      "cell_type": "markdown",
      "metadata": {
        "id": "-uFvcSe6Am8G",
        "colab_type": "text"
      },
      "source": [
        "#### Segmentation - Top segments and their description\n",
        "Methodology: \n",
        "- Select variables providing the right attributes from the Survey Data\n",
        "- Calculate the penetration of variable data for segments\n",
        "- Using the index, identify the top 3 segments to target"
      ]
    },
    {
      "cell_type": "code",
      "metadata": {
        "id": "BhF2C_CzGtm-",
        "colab_type": "code",
        "outputId": "0bbb16f1-2c33-429d-86b4-ea71cc005df2",
        "colab": {
          "base_uri": "https://localhost:8080/"
        }
      },
      "source": [
        "# On survey: list unique segment names\n",
        " df_survey[\"Segments\"].unique().tolist()"
      ],
      "execution_count": 0,
      "outputs": [
        {
          "output_type": "execute_result",
          "data": {
            "text/plain": [
              "['Well-heeled Affluents',\n",
              " 'Prosperous Acheivers',\n",
              " 'Young Affluent Mobiles',\n",
              " 'Upscale Matures',\n",
              " 'Elite Households',\n",
              " 'Young Upscale Families',\n",
              " 'Elder Midscale Class',\n",
              " 'Comfortable Retirees',\n",
              " 'Mass Markets',\n",
              " 'Young Urban Masses',\n",
              " 'Diverse Workers',\n",
              " 'Modest Families']"
            ]
          },
          "metadata": {
            "tags": []
          },
          "execution_count": 322
        }
      ]
    },
    {
      "cell_type": "code",
      "metadata": {
        "id": "Jmh9HWGOSxSX",
        "colab_type": "code",
        "outputId": "adc9fc7c-0355-47a4-b6a6-3e091cef0e66",
        "colab": {
          "base_uri": "https://localhost:8080/"
        }
      },
      "source": [
        "# On survey: list unique Variable Names(Key Atribbutes)\n",
        " df_survey[\"Variable Name\"].unique().tolist()"
      ],
      "execution_count": 0,
      "outputs": [
        {
          "output_type": "execute_result",
          "data": {
            "text/plain": [
              "['Attitude: Prefer Auto and Residential with Same Carrier ',\n",
              " 'Buy Based on Quality- Not Price- Agree ',\n",
              " 'Buying Electronics- Do As Much Research as Possible- Agree ',\n",
              " 'Change Brands Often for Variety/Novelty- Agree ',\n",
              " \"Don't Buy Based on Advertising- Agree \",\n",
              " 'Has Home/Personal Property Insurance Through an Agent ',\n",
              " 'Has Residential Insurance for Primary Residence ',\n",
              " 'Has Residential Insurance, 1 Policy ',\n",
              " 'Has Residential Insurance, 2 Policies ',\n",
              " 'Has Residential Insurance, All Policies (Total Premium) ',\n",
              " 'Has Residential Insurance, Any Continuous Policy: <1 Year ',\n",
              " 'Has Residential Insurance, Primary Policy, Purchase Ch: Single Company Agent ',\n",
              " 'Has Residential Insurance, Satisfied with Primary Company ',\n",
              " 'Has Residential Insurance, Switch Reason: Better Reputation ',\n",
              " 'Has Residential Insurance, Switch Reason: Combined Policy ',\n",
              " 'Has Residential Insurance, Switch Reason: Lower Price ',\n",
              " 'Has Residential Insurance, Switch Reason: More/Better Policy Features ',\n",
              " 'Has Residential Insurance, Switch Reason: Moved ',\n",
              " 'Has Residential Insurance, Switched Carrier: Did Not Switch Past 3 Years ',\n",
              " 'Has Residential Insurance, Type: Condo/Co-Op ',\n",
              " 'Has Residential Insurance, Type: Homeowners ',\n",
              " 'Has Residential Insurance, Type: Renters ',\n",
              " 'Home Office: Do Not Have an Office Set-Up at Home ',\n",
              " 'Home Office: Have an Office Set-Up at Home ',\n",
              " 'Home Office: Primarily Work From Home ',\n",
              " 'Home Office: Primarily Work Out of an Office or Company Location ',\n",
              " 'Household Composition: 1 Adult- Children <18 ',\n",
              " 'Household Composition: 1 Adult- No Children <18 ',\n",
              " 'Household Composition: Married Couple- Children <18 ',\n",
              " 'Household Composition: Married Couple- Children <18 and 18+ ',\n",
              " 'Household Composition: Married Couple- Children 18+ ',\n",
              " 'Household Composition: Married Couple Only ',\n",
              " 'Household Composition: No Married Couple- Other Adults ',\n",
              " 'Household Income: $10,000-$19,999 ',\n",
              " 'Household Income: $100,000-$149,999 ',\n",
              " 'Household Income: $150,000-$199,999 ',\n",
              " 'Household Income: $20,000-$29,999 ',\n",
              " 'Household Income: $200,000-$249,999 ',\n",
              " 'Household Income: $250,000 or More ',\n",
              " 'Household Income: $30,000-$39,999 ',\n",
              " 'Household Income: $40,000-$49,999 ',\n",
              " 'Household Income: $50,000-$74,999 ',\n",
              " 'Household Income: $75,000-$99,999 ',\n",
              " 'Household Income: Under $10,000 ',\n",
              " 'Household Size: 1 Person ',\n",
              " 'Household Size: 2 People ',\n",
              " 'Household Size: 3 or 4 People ',\n",
              " 'Household Size: 5+ People ',\n",
              " 'Householder Age: 18-24 ',\n",
              " 'Householder Age: 18-34 ',\n",
              " 'Householder Age: 18-49 ',\n",
              " 'Householder Age: 25-34 ',\n",
              " 'Householder Age: 25-54 ',\n",
              " 'Householder Age: 35-44 ',\n",
              " 'Householder Age: 35-54 ',\n",
              " 'Householder Age: 45-54 ',\n",
              " 'Householder Age: 50+ ',\n",
              " 'Householder Age: 55+ ',\n",
              " 'Householder Age: 55-64 ',\n",
              " 'Householder Age: 65-74 ',\n",
              " 'Householder Age: 75+ ',\n",
              " 'Householder Marital Status: Married ',\n",
              " 'Householder Marital Status: Other ',\n",
              " 'Householder Marital Status: Single ',\n",
              " 'I am Among First of my Friends to try new Technology Products- Agree ',\n",
              " 'I am Willing to Pay More for Top Quality Electronics- Agree ',\n",
              " 'Internet Ads Appear at Inconvenient Moments- Agree ',\n",
              " 'Internet Ads Are Alike- Agree ',\n",
              " 'Internet Ads Are Amusing- Agree ',\n",
              " 'Internet Ads Are Repeated too Often- Agree ',\n",
              " 'Internet Ads Give Good Info on New Products/Services- Agree ',\n",
              " 'Internet Ads Give Good Information on Consumer Product Use- Agree ',\n",
              " 'Internet Ads Give Useful Info on Bargains- Agree ',\n",
              " 'Internet Ads Have No Credibility- Agree ',\n",
              " 'Internet Yellow Pages- Electronic Equipment- Supplies & Service- 1yr ',\n",
              " 'Internet Yellow Pages- Home Improvement & Repairs- 1yr ',\n",
              " 'IPA $1 million-$2 million',\n",
              " 'IPA $100K-$249K',\n",
              " 'IPA $2 million+',\n",
              " 'IPA $250K-$499K',\n",
              " 'IPA $25K-$49K',\n",
              " 'IPA $500K-$749K',\n",
              " 'IPA $50K-$74K',\n",
              " 'IPA $750K-$999K',\n",
              " 'IPA $75K-$99K',\n",
              " 'IPA < $25K',\n",
              " 'Length of Residence: 1-4 Years ',\n",
              " 'Length of Residence: 5 Years or More ',\n",
              " 'Length of Residence: Less than 1 Year ',\n",
              " 'Like to Shop Around Before Making a Purchase- Agree ',\n",
              " 'Magazine Ads Are Alike- Agree ',\n",
              " 'Magazine Ads Are Repeated too Often- Agree ',\n",
              " 'Magazine Ads Give Good Info on Consumer Product Use- Agree ',\n",
              " 'Magazine Ads Give Good Info on New Products/Services- Agree ',\n",
              " 'Magazine Ads Give Useful Information on Bargains- Agree ',\n",
              " 'Magazine Ads Have No Credibility- Agree ',\n",
              " 'Make Any Home Improvement- 1yr ',\n",
              " 'Make Home Improvements- $500+- 1yr ',\n",
              " 'Make Home Improvements- <$500- 1yr ',\n",
              " 'Media Trusted the Most- Internet ',\n",
              " 'Media Trusted the Most- Magazines ',\n",
              " 'Media Trusted the Most- Newspapers ',\n",
              " 'Media Trusted the Most- Radio ',\n",
              " 'Media Trusted the Most- Television ',\n",
              " 'Newspaper Ads Are Alike- Agree ',\n",
              " 'Newspaper Ads Are Amusing- Agree ',\n",
              " 'Newspaper Ads Are Repeated too Often- Agree ',\n",
              " 'Newspaper Ads Give Good Info on Consumer Products Use- Agree ',\n",
              " 'Newspaper Ads Give Good Info on New Products/Services- Agree ',\n",
              " 'Newspaper Ads Give Useful Info on Bargains- Agree ',\n",
              " 'Newspaper Ads Have No Credibility- Agree ',\n",
              " 'Number of Children 0-17 Living at Home: 1 ',\n",
              " 'Number of Children 0-17 Living at Home: 2 ',\n",
              " 'Number of Children 0-17 Living at Home: 3 ',\n",
              " 'Number of Children 0-17 Living at Home: 4 ',\n",
              " 'Number of Children 0-17 Living at Home: 5+ ',\n",
              " 'Number of Children 0-17 Living at Home: Any Child ',\n",
              " 'Number of Children 0-17 Living at Home: None ',\n",
              " 'Often Seek Advice of Others Before Buying- Agree ',\n",
              " 'Order Any Items by Internet- $200+- 1yr ',\n",
              " 'Order Any Items by Internet- $50+- 1yr ',\n",
              " 'Order Any Items by Internet- <$50- 1yr ',\n",
              " 'Order Any Items by Internet- 1yr ',\n",
              " 'Order from Bestbuy.com- 1yr ',\n",
              " 'Order from costco.com- 1yr ',\n",
              " 'Order from homedepot.com- 1yr ',\n",
              " 'Order from Walmart.com- 1yr ',\n",
              " 'Own Burglar Alarm ',\n",
              " 'People Ask Me for Purchasing Advice- Agree ',\n",
              " 'Prefer Products With the Latest Technology- Agree ',\n",
              " 'Prefer To Shop At Specialized Stores- Agree ',\n",
              " 'Price Is More Important than Brand Names- Agree ',\n",
              " 'Radio Ads Appear at Inconvenient Moments- Agree ',\n",
              " 'Radio Ads Are Alike- Agree ',\n",
              " 'Radio Ads Are Repeated too Often- Agree ',\n",
              " 'Radio Ads Give Good Info on Consumer Prod Use- Agree ',\n",
              " 'Radio Ads Give Good Info on New Products/Services- Agree ',\n",
              " 'Radio Ads Give Useful Info on Bargains- Agree ',\n",
              " 'Radio Ads Have No Credibility- Agree ',\n",
              " 'Residential Insurance, Preferred Service Channel: Local Agent ',\n",
              " 'Residential Insurance, Preferred Service Channel: Phone ',\n",
              " 'Residential Insurance, Preferred Service Channel: Website ',\n",
              " 'Shop at Ace Hardware- 1yr ',\n",
              " 'Shop at Best Buy- 1yr ',\n",
              " 'Shop at Costco- 6mo ',\n",
              " 'Shop at Home Depot- 1yr ',\n",
              " 'Shop at Target- 3mo ',\n",
              " 'Shop at Wal-Mart- 3mo ',\n",
              " 'Tenure: Own Home ',\n",
              " 'Tenure: Rents Home ',\n",
              " 'TV Ads Appear at Inconvenient Moments- Agree ',\n",
              " 'TV Ads Are Alike- Agree ',\n",
              " 'TV Ads Are Amusing- Agree ',\n",
              " 'TV Ads Are Repeated too Often- Agree ',\n",
              " 'TV Ads Give Good Info on Consumer Prod Use- Agree ',\n",
              " 'TV Ads Give Good Info on New Products/Services- Agree ',\n",
              " 'TV Ads Give Useful Info on Bargains- Agree ',\n",
              " 'TV Ads Have No Credibility- Agree ',\n",
              " 'Typically Read Online Reviews Before Purchasing Online - Agree ',\n",
              " 'Value of Owned Home: $100,000 - $149,999 ',\n",
              " 'Value of Owned Home: $150,000 - $199,999 ',\n",
              " 'Value of Owned Home: $200,000 - $499,999 ',\n",
              " 'Value of Owned Home: $50,000 - $99,999 ',\n",
              " 'Value of Owned Home: $500,000+ ',\n",
              " 'Value of Owned Home: Under $50,000 ',\n",
              " 'Wait for Others to Try Things Before I Buy- Agree ',\n",
              " 'Will Buy on Credit Rather than Wait- Agree ',\n",
              " 'Will Switch Brands to Use a Cents-Off Coupon- Agree ',\n",
              " 'Would like to buy Security Devices']"
            ]
          },
          "metadata": {
            "tags": []
          },
          "execution_count": 323
        }
      ]
    },
    {
      "cell_type": "markdown",
      "metadata": {
        "id": "GHDOm5B6TttN",
        "colab_type": "text"
      },
      "source": [
        "####Based on discussions with Stakeholders, 5 Key Attributes are selected Determine Top Segments\n",
        "\n",
        "1. Household counts\n",
        "2. Wants to buy security devices\n",
        "3. Will switch brands\n",
        "4. High(750-2M) and Medium(100-749K) IPA (Income Producing Asset)\n",
        "5. Willing to pay more for top quality electronics\n",
        "----------------------------------------------------------\n",
        "#### Final Segmentation\n",
        "Combined survey and segments dataset generated for further analysis\n"
      ]
    },
    {
      "cell_type": "markdown",
      "metadata": {
        "id": "UJKgcnZtWuC4",
        "colab_type": "text"
      },
      "source": [
        "### 1.Household counts"
      ]
    },
    {
      "cell_type": "code",
      "metadata": {
        "id": "fR-zjHtMW_89",
        "colab_type": "code",
        "outputId": "8726b8fb-f0bd-4484-a2b7-fc96eb1e2247",
        "colab": {
          "base_uri": "https://localhost:8080/",
          "height": 204
        }
      },
      "source": [
        "# From Segments and their description\n",
        "df_segments.head(5)"
      ],
      "execution_count": 0,
      "outputs": [
        {
          "output_type": "execute_result",
          "data": {
            "text/html": [
              "<div>\n",
              "<style scoped>\n",
              "    .dataframe tbody tr th:only-of-type {\n",
              "        vertical-align: middle;\n",
              "    }\n",
              "\n",
              "    .dataframe tbody tr th {\n",
              "        vertical-align: top;\n",
              "    }\n",
              "\n",
              "    .dataframe thead th {\n",
              "        text-align: right;\n",
              "    }\n",
              "</style>\n",
              "<table border=\"1\" class=\"dataframe\">\n",
              "  <thead>\n",
              "    <tr style=\"text-align: right;\">\n",
              "      <th></th>\n",
              "      <th>Customer Segment</th>\n",
              "      <th>StateFullName</th>\n",
              "      <th>City</th>\n",
              "      <th>Household Counts</th>\n",
              "    </tr>\n",
              "  </thead>\n",
              "  <tbody>\n",
              "    <tr>\n",
              "      <th>0</th>\n",
              "      <td>Well-heeled Affluents</td>\n",
              "      <td>Pennsylvania</td>\n",
              "      <td>AARONSBURG</td>\n",
              "      <td>0</td>\n",
              "    </tr>\n",
              "    <tr>\n",
              "      <th>1</th>\n",
              "      <td>Modest Families</td>\n",
              "      <td>Pennsylvania</td>\n",
              "      <td>AARONSBURG</td>\n",
              "      <td>0</td>\n",
              "    </tr>\n",
              "    <tr>\n",
              "      <th>2</th>\n",
              "      <td>Elite Households</td>\n",
              "      <td>Pennsylvania</td>\n",
              "      <td>AARONSBURG</td>\n",
              "      <td>0</td>\n",
              "    </tr>\n",
              "    <tr>\n",
              "      <th>3</th>\n",
              "      <td>Mass Markets</td>\n",
              "      <td>Pennsylvania</td>\n",
              "      <td>AARONSBURG</td>\n",
              "      <td>90</td>\n",
              "    </tr>\n",
              "    <tr>\n",
              "      <th>4</th>\n",
              "      <td>Young Urban Masses</td>\n",
              "      <td>Pennsylvania</td>\n",
              "      <td>AARONSBURG</td>\n",
              "      <td>1</td>\n",
              "    </tr>\n",
              "  </tbody>\n",
              "</table>\n",
              "</div>"
            ],
            "text/plain": [
              "        Customer Segment StateFullName        City  Household Counts\n",
              "0  Well-heeled Affluents  Pennsylvania  AARONSBURG                 0\n",
              "1        Modest Families  Pennsylvania  AARONSBURG                 0\n",
              "2       Elite Households  Pennsylvania  AARONSBURG                 0\n",
              "3           Mass Markets  Pennsylvania  AARONSBURG                90\n",
              "4     Young Urban Masses  Pennsylvania  AARONSBURG                 1"
            ]
          },
          "metadata": {
            "tags": []
          },
          "execution_count": 324
        }
      ]
    },
    {
      "cell_type": "code",
      "metadata": {
        "id": "K4-5UadWXoB3",
        "colab_type": "code",
        "colab": {}
      },
      "source": [
        "df_segments_hc = df_segments.drop(['StateFullName','City'], axis=1)"
      ],
      "execution_count": 0,
      "outputs": []
    },
    {
      "cell_type": "code",
      "metadata": {
        "id": "7lPEE28_7krB",
        "colab_type": "code",
        "colab": {}
      },
      "source": [
        "df_segments_hc = df_segments_hc.rename(columns={'Customer Segment': 'Segments'})"
      ],
      "execution_count": 0,
      "outputs": []
    },
    {
      "cell_type": "code",
      "metadata": {
        "id": "bRdjUeRrX1Sx",
        "colab_type": "code",
        "outputId": "15888459-a125-47fe-c27d-b1bd888f2152",
        "colab": {
          "base_uri": "https://localhost:8080/",
          "height": 204
        }
      },
      "source": [
        "df_segments_hc.head(5)"
      ],
      "execution_count": 0,
      "outputs": [
        {
          "output_type": "execute_result",
          "data": {
            "text/html": [
              "<div>\n",
              "<style scoped>\n",
              "    .dataframe tbody tr th:only-of-type {\n",
              "        vertical-align: middle;\n",
              "    }\n",
              "\n",
              "    .dataframe tbody tr th {\n",
              "        vertical-align: top;\n",
              "    }\n",
              "\n",
              "    .dataframe thead th {\n",
              "        text-align: right;\n",
              "    }\n",
              "</style>\n",
              "<table border=\"1\" class=\"dataframe\">\n",
              "  <thead>\n",
              "    <tr style=\"text-align: right;\">\n",
              "      <th></th>\n",
              "      <th>Segments</th>\n",
              "      <th>Household Counts</th>\n",
              "    </tr>\n",
              "  </thead>\n",
              "  <tbody>\n",
              "    <tr>\n",
              "      <th>0</th>\n",
              "      <td>Well-heeled Affluents</td>\n",
              "      <td>0</td>\n",
              "    </tr>\n",
              "    <tr>\n",
              "      <th>1</th>\n",
              "      <td>Modest Families</td>\n",
              "      <td>0</td>\n",
              "    </tr>\n",
              "    <tr>\n",
              "      <th>2</th>\n",
              "      <td>Elite Households</td>\n",
              "      <td>0</td>\n",
              "    </tr>\n",
              "    <tr>\n",
              "      <th>3</th>\n",
              "      <td>Mass Markets</td>\n",
              "      <td>90</td>\n",
              "    </tr>\n",
              "    <tr>\n",
              "      <th>4</th>\n",
              "      <td>Young Urban Masses</td>\n",
              "      <td>1</td>\n",
              "    </tr>\n",
              "  </tbody>\n",
              "</table>\n",
              "</div>"
            ],
            "text/plain": [
              "                Segments  Household Counts\n",
              "0  Well-heeled Affluents                 0\n",
              "1        Modest Families                 0\n",
              "2       Elite Households                 0\n",
              "3           Mass Markets                90\n",
              "4     Young Urban Masses                 1"
            ]
          },
          "metadata": {
            "tags": []
          },
          "execution_count": 327
        }
      ]
    },
    {
      "cell_type": "code",
      "metadata": {
        "id": "kcikaLdhX-Wk",
        "colab_type": "code",
        "colab": {}
      },
      "source": [
        "# Segments X Household Counts\n",
        "\n",
        "df_segments_hc_seg = df_segments_hc.groupby('Segments')[['Household Counts']].sum()"
      ],
      "execution_count": 0,
      "outputs": []
    },
    {
      "cell_type": "code",
      "metadata": {
        "id": "4BYViRns_1dH",
        "colab_type": "code",
        "outputId": "3118f0d5-cb8a-4476-b44b-843065e1b892",
        "colab": {
          "base_uri": "https://localhost:8080/",
          "height": 452
        }
      },
      "source": [
        "df_segments_hc_seg"
      ],
      "execution_count": 0,
      "outputs": [
        {
          "output_type": "execute_result",
          "data": {
            "text/html": [
              "<div>\n",
              "<style scoped>\n",
              "    .dataframe tbody tr th:only-of-type {\n",
              "        vertical-align: middle;\n",
              "    }\n",
              "\n",
              "    .dataframe tbody tr th {\n",
              "        vertical-align: top;\n",
              "    }\n",
              "\n",
              "    .dataframe thead th {\n",
              "        text-align: right;\n",
              "    }\n",
              "</style>\n",
              "<table border=\"1\" class=\"dataframe\">\n",
              "  <thead>\n",
              "    <tr style=\"text-align: right;\">\n",
              "      <th></th>\n",
              "      <th>Household Counts</th>\n",
              "    </tr>\n",
              "    <tr>\n",
              "      <th>Segments</th>\n",
              "      <th></th>\n",
              "    </tr>\n",
              "  </thead>\n",
              "  <tbody>\n",
              "    <tr>\n",
              "      <th>Comfortable Retirees</th>\n",
              "      <td>3502870</td>\n",
              "    </tr>\n",
              "    <tr>\n",
              "      <th>Diverse Workers</th>\n",
              "      <td>9067386</td>\n",
              "    </tr>\n",
              "    <tr>\n",
              "      <th>Elder Midscale Class</th>\n",
              "      <td>5126538</td>\n",
              "    </tr>\n",
              "    <tr>\n",
              "      <th>Elite Households</th>\n",
              "      <td>3782280</td>\n",
              "    </tr>\n",
              "    <tr>\n",
              "      <th>Mass Markets</th>\n",
              "      <td>8944892</td>\n",
              "    </tr>\n",
              "    <tr>\n",
              "      <th>Modest Families</th>\n",
              "      <td>3922926</td>\n",
              "    </tr>\n",
              "    <tr>\n",
              "      <th>Prosperous Acheivers</th>\n",
              "      <td>3653326</td>\n",
              "    </tr>\n",
              "    <tr>\n",
              "      <th>Upscale Matures</th>\n",
              "      <td>2990662</td>\n",
              "    </tr>\n",
              "    <tr>\n",
              "      <th>Well-heeled Affluents</th>\n",
              "      <td>2647809</td>\n",
              "    </tr>\n",
              "    <tr>\n",
              "      <th>Young Affluent Mobiles</th>\n",
              "      <td>5455273</td>\n",
              "    </tr>\n",
              "    <tr>\n",
              "      <th>Young Upscale Families</th>\n",
              "      <td>6370407</td>\n",
              "    </tr>\n",
              "    <tr>\n",
              "      <th>Young Urban Masses</th>\n",
              "      <td>6709160</td>\n",
              "    </tr>\n",
              "  </tbody>\n",
              "</table>\n",
              "</div>"
            ],
            "text/plain": [
              "                        Household Counts\n",
              "Segments                                \n",
              "Comfortable Retirees             3502870\n",
              "Diverse Workers                  9067386\n",
              "Elder Midscale Class             5126538\n",
              "Elite Households                 3782280\n",
              "Mass Markets                     8944892\n",
              "Modest Families                  3922926\n",
              "Prosperous Acheivers             3653326\n",
              "Upscale Matures                  2990662\n",
              "Well-heeled Affluents            2647809\n",
              "Young Affluent Mobiles           5455273\n",
              "Young Upscale Families           6370407\n",
              "Young Urban Masses               6709160"
            ]
          },
          "metadata": {
            "tags": []
          },
          "execution_count": 329
        }
      ]
    },
    {
      "cell_type": "markdown",
      "metadata": {
        "id": "k-39ggR-RTAE",
        "colab_type": "text"
      },
      "source": [
        "### 2.Wants to buy security devices"
      ]
    },
    {
      "cell_type": "code",
      "metadata": {
        "id": "_uLhl0Wjd_XB",
        "colab_type": "code",
        "cellView": "both",
        "colab": {}
      },
      "source": [
        "# From Survey Data\n",
        "# Survey Data will have the segment distribution for the variables providing the right attribute which will be used to calculate propensity indices for the segments or markets\n",
        "df_survey_wb = df_survey[df_survey['Segments'].str.contains('') & df_survey['Variable Name'].str.contains('Would like to buy')]"
      ],
      "execution_count": 0,
      "outputs": []
    },
    {
      "cell_type": "code",
      "metadata": {
        "id": "ZT3eySiglKrn",
        "colab_type": "code",
        "outputId": "fb9f5228-f2a0-4fce-933b-a6b7c63070f7",
        "cellView": "both",
        "colab": {
          "base_uri": "https://localhost:8080/",
          "height": 421
        }
      },
      "source": [
        "df_survey_wb.head(15)"
      ],
      "execution_count": 0,
      "outputs": [
        {
          "output_type": "execute_result",
          "data": {
            "text/html": [
              "<div>\n",
              "<style scoped>\n",
              "    .dataframe tbody tr th:only-of-type {\n",
              "        vertical-align: middle;\n",
              "    }\n",
              "\n",
              "    .dataframe tbody tr th {\n",
              "        vertical-align: top;\n",
              "    }\n",
              "\n",
              "    .dataframe thead th {\n",
              "        text-align: right;\n",
              "    }\n",
              "</style>\n",
              "<table border=\"1\" class=\"dataframe\">\n",
              "  <thead>\n",
              "    <tr style=\"text-align: right;\">\n",
              "      <th></th>\n",
              "      <th>Segments</th>\n",
              "      <th>Variable Name</th>\n",
              "      <th>Variable Count</th>\n",
              "    </tr>\n",
              "  </thead>\n",
              "  <tbody>\n",
              "    <tr>\n",
              "      <th>2016</th>\n",
              "      <td>Well-heeled Affluents</td>\n",
              "      <td>Would like to buy Security Devices</td>\n",
              "      <td>1176191</td>\n",
              "    </tr>\n",
              "    <tr>\n",
              "      <th>2017</th>\n",
              "      <td>Prosperous Acheivers</td>\n",
              "      <td>Would like to buy Security Devices</td>\n",
              "      <td>849727</td>\n",
              "    </tr>\n",
              "    <tr>\n",
              "      <th>2018</th>\n",
              "      <td>Young Affluent Mobiles</td>\n",
              "      <td>Would like to buy Security Devices</td>\n",
              "      <td>427550</td>\n",
              "    </tr>\n",
              "    <tr>\n",
              "      <th>2019</th>\n",
              "      <td>Upscale Matures</td>\n",
              "      <td>Would like to buy Security Devices</td>\n",
              "      <td>451118</td>\n",
              "    </tr>\n",
              "    <tr>\n",
              "      <th>2020</th>\n",
              "      <td>Elite Households</td>\n",
              "      <td>Would like to buy Security Devices</td>\n",
              "      <td>773110</td>\n",
              "    </tr>\n",
              "    <tr>\n",
              "      <th>2021</th>\n",
              "      <td>Young Upscale Families</td>\n",
              "      <td>Would like to buy Security Devices</td>\n",
              "      <td>367450</td>\n",
              "    </tr>\n",
              "    <tr>\n",
              "      <th>2022</th>\n",
              "      <td>Elder Midscale Class</td>\n",
              "      <td>Would like to buy Security Devices</td>\n",
              "      <td>424447</td>\n",
              "    </tr>\n",
              "    <tr>\n",
              "      <th>2023</th>\n",
              "      <td>Comfortable Retirees</td>\n",
              "      <td>Would like to buy Security Devices</td>\n",
              "      <td>121346</td>\n",
              "    </tr>\n",
              "    <tr>\n",
              "      <th>2024</th>\n",
              "      <td>Mass Markets</td>\n",
              "      <td>Would like to buy Security Devices</td>\n",
              "      <td>807344</td>\n",
              "    </tr>\n",
              "    <tr>\n",
              "      <th>2025</th>\n",
              "      <td>Young Urban Masses</td>\n",
              "      <td>Would like to buy Security Devices</td>\n",
              "      <td>136007</td>\n",
              "    </tr>\n",
              "    <tr>\n",
              "      <th>2026</th>\n",
              "      <td>Diverse Workers</td>\n",
              "      <td>Would like to buy Security Devices</td>\n",
              "      <td>327728</td>\n",
              "    </tr>\n",
              "    <tr>\n",
              "      <th>2027</th>\n",
              "      <td>Modest Families</td>\n",
              "      <td>Would like to buy Security Devices</td>\n",
              "      <td>224353</td>\n",
              "    </tr>\n",
              "  </tbody>\n",
              "</table>\n",
              "</div>"
            ],
            "text/plain": [
              "                    Segments  ... Variable Count\n",
              "2016   Well-heeled Affluents  ...        1176191\n",
              "2017    Prosperous Acheivers  ...         849727\n",
              "2018  Young Affluent Mobiles  ...         427550\n",
              "2019         Upscale Matures  ...         451118\n",
              "2020        Elite Households  ...         773110\n",
              "2021  Young Upscale Families  ...         367450\n",
              "2022    Elder Midscale Class  ...         424447\n",
              "2023    Comfortable Retirees  ...         121346\n",
              "2024            Mass Markets  ...         807344\n",
              "2025      Young Urban Masses  ...         136007\n",
              "2026         Diverse Workers  ...         327728\n",
              "2027         Modest Families  ...         224353\n",
              "\n",
              "[12 rows x 3 columns]"
            ]
          },
          "metadata": {
            "tags": []
          },
          "execution_count": 331
        }
      ]
    },
    {
      "cell_type": "code",
      "metadata": {
        "id": "yDytOAxxVYg9",
        "colab_type": "code",
        "outputId": "07c8fb85-cadd-4aa8-c3da-884effc12dcd",
        "colab": {
          "base_uri": "https://localhost:8080/",
          "height": 34
        }
      },
      "source": [
        "df_survey_wb['Variable Count'].sum()"
      ],
      "execution_count": 0,
      "outputs": [
        {
          "output_type": "execute_result",
          "data": {
            "text/plain": [
              "6086371"
            ]
          },
          "metadata": {
            "tags": []
          },
          "execution_count": 332
        }
      ]
    },
    {
      "cell_type": "code",
      "metadata": {
        "id": "JdvGFJf-l2zy",
        "colab_type": "code",
        "outputId": "3c78313c-deb3-40f7-fa92-10c5a4bacddb",
        "colab": {
          "base_uri": "https://localhost:8080/",
          "height": 34
        }
      },
      "source": [
        "df_survey_wb['Variable Name'].unique().tolist()"
      ],
      "execution_count": 0,
      "outputs": [
        {
          "output_type": "execute_result",
          "data": {
            "text/plain": [
              "['Would like to buy Security Devices']"
            ]
          },
          "metadata": {
            "tags": []
          },
          "execution_count": 333
        }
      ]
    },
    {
      "cell_type": "code",
      "metadata": {
        "id": "c3OR2k0a8OaH",
        "colab_type": "code",
        "colab": {}
      },
      "source": [
        "df_survey_wb = df_survey_wb.rename(columns={'Variable Count': 'Wants to buy Security Devices'})"
      ],
      "execution_count": 0,
      "outputs": []
    },
    {
      "cell_type": "code",
      "metadata": {
        "id": "ZdWT2G74PCUj",
        "colab_type": "code",
        "colab": {}
      },
      "source": [
        "# Segments X Wants to buy Security Devices\n",
        "df_survey_wb_seg = df_survey_wb.groupby('Segments')[['Wants to buy Security Devices']].sum()"
      ],
      "execution_count": 0,
      "outputs": []
    },
    {
      "cell_type": "code",
      "metadata": {
        "id": "MXUReK4wAGht",
        "colab_type": "code",
        "outputId": "a6215e70-44fb-41d6-b1de-031caacbaaeb",
        "colab": {
          "base_uri": "https://localhost:8080/",
          "height": 452
        }
      },
      "source": [
        "df_survey_wb_seg"
      ],
      "execution_count": 0,
      "outputs": [
        {
          "output_type": "execute_result",
          "data": {
            "text/html": [
              "<div>\n",
              "<style scoped>\n",
              "    .dataframe tbody tr th:only-of-type {\n",
              "        vertical-align: middle;\n",
              "    }\n",
              "\n",
              "    .dataframe tbody tr th {\n",
              "        vertical-align: top;\n",
              "    }\n",
              "\n",
              "    .dataframe thead th {\n",
              "        text-align: right;\n",
              "    }\n",
              "</style>\n",
              "<table border=\"1\" class=\"dataframe\">\n",
              "  <thead>\n",
              "    <tr style=\"text-align: right;\">\n",
              "      <th></th>\n",
              "      <th>Wants to buy Security Devices</th>\n",
              "    </tr>\n",
              "    <tr>\n",
              "      <th>Segments</th>\n",
              "      <th></th>\n",
              "    </tr>\n",
              "  </thead>\n",
              "  <tbody>\n",
              "    <tr>\n",
              "      <th>Comfortable Retirees</th>\n",
              "      <td>121346</td>\n",
              "    </tr>\n",
              "    <tr>\n",
              "      <th>Diverse Workers</th>\n",
              "      <td>327728</td>\n",
              "    </tr>\n",
              "    <tr>\n",
              "      <th>Elder Midscale Class</th>\n",
              "      <td>424447</td>\n",
              "    </tr>\n",
              "    <tr>\n",
              "      <th>Elite Households</th>\n",
              "      <td>773110</td>\n",
              "    </tr>\n",
              "    <tr>\n",
              "      <th>Mass Markets</th>\n",
              "      <td>807344</td>\n",
              "    </tr>\n",
              "    <tr>\n",
              "      <th>Modest Families</th>\n",
              "      <td>224353</td>\n",
              "    </tr>\n",
              "    <tr>\n",
              "      <th>Prosperous Acheivers</th>\n",
              "      <td>849727</td>\n",
              "    </tr>\n",
              "    <tr>\n",
              "      <th>Upscale Matures</th>\n",
              "      <td>451118</td>\n",
              "    </tr>\n",
              "    <tr>\n",
              "      <th>Well-heeled Affluents</th>\n",
              "      <td>1176191</td>\n",
              "    </tr>\n",
              "    <tr>\n",
              "      <th>Young Affluent Mobiles</th>\n",
              "      <td>427550</td>\n",
              "    </tr>\n",
              "    <tr>\n",
              "      <th>Young Upscale Families</th>\n",
              "      <td>367450</td>\n",
              "    </tr>\n",
              "    <tr>\n",
              "      <th>Young Urban Masses</th>\n",
              "      <td>136007</td>\n",
              "    </tr>\n",
              "  </tbody>\n",
              "</table>\n",
              "</div>"
            ],
            "text/plain": [
              "                        Wants to buy Security Devices\n",
              "Segments                                             \n",
              "Comfortable Retirees                           121346\n",
              "Diverse Workers                                327728\n",
              "Elder Midscale Class                           424447\n",
              "Elite Households                               773110\n",
              "Mass Markets                                   807344\n",
              "Modest Families                                224353\n",
              "Prosperous Acheivers                           849727\n",
              "Upscale Matures                                451118\n",
              "Well-heeled Affluents                         1176191\n",
              "Young Affluent Mobiles                         427550\n",
              "Young Upscale Families                         367450\n",
              "Young Urban Masses                             136007"
            ]
          },
          "metadata": {
            "tags": []
          },
          "execution_count": 336
        }
      ]
    },
    {
      "cell_type": "code",
      "metadata": {
        "id": "BHAM5cA99-zT",
        "colab_type": "code",
        "outputId": "98951efb-867f-48fd-fe2d-db382a988a5a",
        "colab": {
          "base_uri": "https://localhost:8080/",
          "height": 452
        }
      },
      "source": [
        "pd.concat([df_segments_hc_seg, df_survey_wb_seg], axis=1)"
      ],
      "execution_count": 0,
      "outputs": [
        {
          "output_type": "execute_result",
          "data": {
            "text/html": [
              "<div>\n",
              "<style scoped>\n",
              "    .dataframe tbody tr th:only-of-type {\n",
              "        vertical-align: middle;\n",
              "    }\n",
              "\n",
              "    .dataframe tbody tr th {\n",
              "        vertical-align: top;\n",
              "    }\n",
              "\n",
              "    .dataframe thead th {\n",
              "        text-align: right;\n",
              "    }\n",
              "</style>\n",
              "<table border=\"1\" class=\"dataframe\">\n",
              "  <thead>\n",
              "    <tr style=\"text-align: right;\">\n",
              "      <th></th>\n",
              "      <th>Household Counts</th>\n",
              "      <th>Wants to buy Security Devices</th>\n",
              "    </tr>\n",
              "    <tr>\n",
              "      <th>Segments</th>\n",
              "      <th></th>\n",
              "      <th></th>\n",
              "    </tr>\n",
              "  </thead>\n",
              "  <tbody>\n",
              "    <tr>\n",
              "      <th>Comfortable Retirees</th>\n",
              "      <td>3502870</td>\n",
              "      <td>121346</td>\n",
              "    </tr>\n",
              "    <tr>\n",
              "      <th>Diverse Workers</th>\n",
              "      <td>9067386</td>\n",
              "      <td>327728</td>\n",
              "    </tr>\n",
              "    <tr>\n",
              "      <th>Elder Midscale Class</th>\n",
              "      <td>5126538</td>\n",
              "      <td>424447</td>\n",
              "    </tr>\n",
              "    <tr>\n",
              "      <th>Elite Households</th>\n",
              "      <td>3782280</td>\n",
              "      <td>773110</td>\n",
              "    </tr>\n",
              "    <tr>\n",
              "      <th>Mass Markets</th>\n",
              "      <td>8944892</td>\n",
              "      <td>807344</td>\n",
              "    </tr>\n",
              "    <tr>\n",
              "      <th>Modest Families</th>\n",
              "      <td>3922926</td>\n",
              "      <td>224353</td>\n",
              "    </tr>\n",
              "    <tr>\n",
              "      <th>Prosperous Acheivers</th>\n",
              "      <td>3653326</td>\n",
              "      <td>849727</td>\n",
              "    </tr>\n",
              "    <tr>\n",
              "      <th>Upscale Matures</th>\n",
              "      <td>2990662</td>\n",
              "      <td>451118</td>\n",
              "    </tr>\n",
              "    <tr>\n",
              "      <th>Well-heeled Affluents</th>\n",
              "      <td>2647809</td>\n",
              "      <td>1176191</td>\n",
              "    </tr>\n",
              "    <tr>\n",
              "      <th>Young Affluent Mobiles</th>\n",
              "      <td>5455273</td>\n",
              "      <td>427550</td>\n",
              "    </tr>\n",
              "    <tr>\n",
              "      <th>Young Upscale Families</th>\n",
              "      <td>6370407</td>\n",
              "      <td>367450</td>\n",
              "    </tr>\n",
              "    <tr>\n",
              "      <th>Young Urban Masses</th>\n",
              "      <td>6709160</td>\n",
              "      <td>136007</td>\n",
              "    </tr>\n",
              "  </tbody>\n",
              "</table>\n",
              "</div>"
            ],
            "text/plain": [
              "                        Household Counts  Wants to buy Security Devices\n",
              "Segments                                                               \n",
              "Comfortable Retirees             3502870                         121346\n",
              "Diverse Workers                  9067386                         327728\n",
              "Elder Midscale Class             5126538                         424447\n",
              "Elite Households                 3782280                         773110\n",
              "Mass Markets                     8944892                         807344\n",
              "Modest Families                  3922926                         224353\n",
              "Prosperous Acheivers             3653326                         849727\n",
              "Upscale Matures                  2990662                         451118\n",
              "Well-heeled Affluents            2647809                        1176191\n",
              "Young Affluent Mobiles           5455273                         427550\n",
              "Young Upscale Families           6370407                         367450\n",
              "Young Urban Masses               6709160                         136007"
            ]
          },
          "metadata": {
            "tags": []
          },
          "execution_count": 337
        }
      ]
    },
    {
      "cell_type": "markdown",
      "metadata": {
        "id": "hc2OpyMc9MW6",
        "colab_type": "text"
      },
      "source": [
        "### 3.Will Switch brands"
      ]
    },
    {
      "cell_type": "code",
      "metadata": {
        "id": "m10cObtt9psL",
        "colab_type": "code",
        "colab": {}
      },
      "source": [
        "# From Survey Data\n",
        "# Survey Data will have the segment distribution for the variables providing the right attribute which will be used to calculate propensity indices for the segments or markets\n",
        "df_survey_ws = df_survey[df_survey['Segments'].str.contains('') & df_survey['Variable Name'].str.contains('Will Switch Brands')]"
      ],
      "execution_count": 0,
      "outputs": []
    },
    {
      "cell_type": "code",
      "metadata": {
        "id": "xiQxX1eoC_FJ",
        "colab_type": "code",
        "outputId": "d4ba1d46-b1b3-4e8c-9240-2490b96a0bc7",
        "colab": {
          "base_uri": "https://localhost:8080/"
        }
      },
      "source": [
        "df_survey_ws.head(15)"
      ],
      "execution_count": 0,
      "outputs": [
        {
          "output_type": "execute_result",
          "data": {
            "text/html": [
              "<div>\n",
              "<style scoped>\n",
              "    .dataframe tbody tr th:only-of-type {\n",
              "        vertical-align: middle;\n",
              "    }\n",
              "\n",
              "    .dataframe tbody tr th {\n",
              "        vertical-align: top;\n",
              "    }\n",
              "\n",
              "    .dataframe thead th {\n",
              "        text-align: right;\n",
              "    }\n",
              "</style>\n",
              "<table border=\"1\" class=\"dataframe\">\n",
              "  <thead>\n",
              "    <tr style=\"text-align: right;\">\n",
              "      <th></th>\n",
              "      <th>Segments</th>\n",
              "      <th>Variable Name</th>\n",
              "      <th>Variable Count</th>\n",
              "    </tr>\n",
              "  </thead>\n",
              "  <tbody>\n",
              "    <tr>\n",
              "      <th>2004</th>\n",
              "      <td>Well-heeled Affluents</td>\n",
              "      <td>Will Switch Brands to Use a Cents-Off Coupon- ...</td>\n",
              "      <td>522831</td>\n",
              "    </tr>\n",
              "    <tr>\n",
              "      <th>2005</th>\n",
              "      <td>Prosperous Acheivers</td>\n",
              "      <td>Will Switch Brands to Use a Cents-Off Coupon- ...</td>\n",
              "      <td>704491</td>\n",
              "    </tr>\n",
              "    <tr>\n",
              "      <th>2006</th>\n",
              "      <td>Young Affluent Mobiles</td>\n",
              "      <td>Will Switch Brands to Use a Cents-Off Coupon- ...</td>\n",
              "      <td>1345477</td>\n",
              "    </tr>\n",
              "    <tr>\n",
              "      <th>2007</th>\n",
              "      <td>Upscale Matures</td>\n",
              "      <td>Will Switch Brands to Use a Cents-Off Coupon- ...</td>\n",
              "      <td>596014</td>\n",
              "    </tr>\n",
              "    <tr>\n",
              "      <th>2008</th>\n",
              "      <td>Elite Households</td>\n",
              "      <td>Will Switch Brands to Use a Cents-Off Coupon- ...</td>\n",
              "      <td>887918</td>\n",
              "    </tr>\n",
              "    <tr>\n",
              "      <th>2009</th>\n",
              "      <td>Young Upscale Families</td>\n",
              "      <td>Will Switch Brands to Use a Cents-Off Coupon- ...</td>\n",
              "      <td>1472441</td>\n",
              "    </tr>\n",
              "    <tr>\n",
              "      <th>2010</th>\n",
              "      <td>Elder Midscale Class</td>\n",
              "      <td>Will Switch Brands to Use a Cents-Off Coupon- ...</td>\n",
              "      <td>1081551</td>\n",
              "    </tr>\n",
              "    <tr>\n",
              "      <th>2011</th>\n",
              "      <td>Comfortable Retirees</td>\n",
              "      <td>Will Switch Brands to Use a Cents-Off Coupon- ...</td>\n",
              "      <td>759639</td>\n",
              "    </tr>\n",
              "    <tr>\n",
              "      <th>2012</th>\n",
              "      <td>Mass Markets</td>\n",
              "      <td>Will Switch Brands to Use a Cents-Off Coupon- ...</td>\n",
              "      <td>2168742</td>\n",
              "    </tr>\n",
              "    <tr>\n",
              "      <th>2013</th>\n",
              "      <td>Young Urban Masses</td>\n",
              "      <td>Will Switch Brands to Use a Cents-Off Coupon- ...</td>\n",
              "      <td>1686936</td>\n",
              "    </tr>\n",
              "    <tr>\n",
              "      <th>2014</th>\n",
              "      <td>Diverse Workers</td>\n",
              "      <td>Will Switch Brands to Use a Cents-Off Coupon- ...</td>\n",
              "      <td>2286425</td>\n",
              "    </tr>\n",
              "    <tr>\n",
              "      <th>2015</th>\n",
              "      <td>Modest Families</td>\n",
              "      <td>Will Switch Brands to Use a Cents-Off Coupon- ...</td>\n",
              "      <td>1076186</td>\n",
              "    </tr>\n",
              "  </tbody>\n",
              "</table>\n",
              "</div>"
            ],
            "text/plain": [
              "                    Segments  ... Variable Count\n",
              "2004   Well-heeled Affluents  ...         522831\n",
              "2005    Prosperous Acheivers  ...         704491\n",
              "2006  Young Affluent Mobiles  ...        1345477\n",
              "2007         Upscale Matures  ...         596014\n",
              "2008        Elite Households  ...         887918\n",
              "2009  Young Upscale Families  ...        1472441\n",
              "2010    Elder Midscale Class  ...        1081551\n",
              "2011    Comfortable Retirees  ...         759639\n",
              "2012            Mass Markets  ...        2168742\n",
              "2013      Young Urban Masses  ...        1686936\n",
              "2014         Diverse Workers  ...        2286425\n",
              "2015         Modest Families  ...        1076186\n",
              "\n",
              "[12 rows x 3 columns]"
            ]
          },
          "metadata": {
            "tags": []
          },
          "execution_count": 339
        }
      ]
    },
    {
      "cell_type": "code",
      "metadata": {
        "id": "3j5LONz1DG7x",
        "colab_type": "code",
        "outputId": "3ed97c9b-f597-4d8d-ed76-6fcc4accd759",
        "colab": {
          "base_uri": "https://localhost:8080/"
        }
      },
      "source": [
        "df_survey_ws['Variable Count'].sum()"
      ],
      "execution_count": 0,
      "outputs": [
        {
          "output_type": "execute_result",
          "data": {
            "text/plain": [
              "14588651"
            ]
          },
          "metadata": {
            "tags": []
          },
          "execution_count": 340
        }
      ]
    },
    {
      "cell_type": "code",
      "metadata": {
        "id": "EwMFzm5ODZGw",
        "colab_type": "code",
        "outputId": "a74133cd-bea2-49b3-c8a0-6c405e554c50",
        "colab": {
          "base_uri": "https://localhost:8080/"
        }
      },
      "source": [
        "df_survey_ws['Variable Name'].unique().tolist()"
      ],
      "execution_count": 0,
      "outputs": [
        {
          "output_type": "execute_result",
          "data": {
            "text/plain": [
              "['Will Switch Brands to Use a Cents-Off Coupon- Agree ']"
            ]
          },
          "metadata": {
            "tags": []
          },
          "execution_count": 341
        }
      ]
    },
    {
      "cell_type": "code",
      "metadata": {
        "id": "DpMQlRL3Dsj0",
        "colab_type": "code",
        "colab": {}
      },
      "source": [
        "df_survey_ws = df_survey_ws.rename(columns={'Variable Count': 'Will Switch Brands'})"
      ],
      "execution_count": 0,
      "outputs": []
    },
    {
      "cell_type": "code",
      "metadata": {
        "id": "cGEijz9iEBR-",
        "colab_type": "code",
        "colab": {}
      },
      "source": [
        "# Segments X Will Switch Brands\n",
        "df_survey_ws_seg = df_survey_ws.groupby('Segments')[['Will Switch Brands']].sum()"
      ],
      "execution_count": 0,
      "outputs": []
    },
    {
      "cell_type": "code",
      "metadata": {
        "id": "IfGS9i81ELEj",
        "colab_type": "code",
        "outputId": "258a53e6-a332-4322-e34b-28872fd8240f",
        "colab": {
          "base_uri": "https://localhost:8080/"
        }
      },
      "source": [
        "df_survey_ws_seg"
      ],
      "execution_count": 0,
      "outputs": [
        {
          "output_type": "execute_result",
          "data": {
            "text/html": [
              "<div>\n",
              "<style scoped>\n",
              "    .dataframe tbody tr th:only-of-type {\n",
              "        vertical-align: middle;\n",
              "    }\n",
              "\n",
              "    .dataframe tbody tr th {\n",
              "        vertical-align: top;\n",
              "    }\n",
              "\n",
              "    .dataframe thead th {\n",
              "        text-align: right;\n",
              "    }\n",
              "</style>\n",
              "<table border=\"1\" class=\"dataframe\">\n",
              "  <thead>\n",
              "    <tr style=\"text-align: right;\">\n",
              "      <th></th>\n",
              "      <th>Will Switch Brands</th>\n",
              "    </tr>\n",
              "    <tr>\n",
              "      <th>Segments</th>\n",
              "      <th></th>\n",
              "    </tr>\n",
              "  </thead>\n",
              "  <tbody>\n",
              "    <tr>\n",
              "      <th>Comfortable Retirees</th>\n",
              "      <td>759639</td>\n",
              "    </tr>\n",
              "    <tr>\n",
              "      <th>Diverse Workers</th>\n",
              "      <td>2286425</td>\n",
              "    </tr>\n",
              "    <tr>\n",
              "      <th>Elder Midscale Class</th>\n",
              "      <td>1081551</td>\n",
              "    </tr>\n",
              "    <tr>\n",
              "      <th>Elite Households</th>\n",
              "      <td>887918</td>\n",
              "    </tr>\n",
              "    <tr>\n",
              "      <th>Mass Markets</th>\n",
              "      <td>2168742</td>\n",
              "    </tr>\n",
              "    <tr>\n",
              "      <th>Modest Families</th>\n",
              "      <td>1076186</td>\n",
              "    </tr>\n",
              "    <tr>\n",
              "      <th>Prosperous Acheivers</th>\n",
              "      <td>704491</td>\n",
              "    </tr>\n",
              "    <tr>\n",
              "      <th>Upscale Matures</th>\n",
              "      <td>596014</td>\n",
              "    </tr>\n",
              "    <tr>\n",
              "      <th>Well-heeled Affluents</th>\n",
              "      <td>522831</td>\n",
              "    </tr>\n",
              "    <tr>\n",
              "      <th>Young Affluent Mobiles</th>\n",
              "      <td>1345477</td>\n",
              "    </tr>\n",
              "    <tr>\n",
              "      <th>Young Upscale Families</th>\n",
              "      <td>1472441</td>\n",
              "    </tr>\n",
              "    <tr>\n",
              "      <th>Young Urban Masses</th>\n",
              "      <td>1686936</td>\n",
              "    </tr>\n",
              "  </tbody>\n",
              "</table>\n",
              "</div>"
            ],
            "text/plain": [
              "                        Will Switch Brands\n",
              "Segments                                  \n",
              "Comfortable Retirees                759639\n",
              "Diverse Workers                    2286425\n",
              "Elder Midscale Class               1081551\n",
              "Elite Households                    887918\n",
              "Mass Markets                       2168742\n",
              "Modest Families                    1076186\n",
              "Prosperous Acheivers                704491\n",
              "Upscale Matures                     596014\n",
              "Well-heeled Affluents               522831\n",
              "Young Affluent Mobiles             1345477\n",
              "Young Upscale Families             1472441\n",
              "Young Urban Masses                 1686936"
            ]
          },
          "metadata": {
            "tags": []
          },
          "execution_count": 344
        }
      ]
    },
    {
      "cell_type": "code",
      "metadata": {
        "id": "cB3ybXpLEQNL",
        "colab_type": "code",
        "outputId": "e849c2c7-9f33-4d44-c510-31db4a52dbee",
        "colab": {
          "base_uri": "https://localhost:8080/"
        }
      },
      "source": [
        "pd.concat([df_segments_hc_seg, df_survey_wb_seg, df_survey_ws_seg], axis=1)"
      ],
      "execution_count": 0,
      "outputs": [
        {
          "output_type": "execute_result",
          "data": {
            "text/html": [
              "<div>\n",
              "<style scoped>\n",
              "    .dataframe tbody tr th:only-of-type {\n",
              "        vertical-align: middle;\n",
              "    }\n",
              "\n",
              "    .dataframe tbody tr th {\n",
              "        vertical-align: top;\n",
              "    }\n",
              "\n",
              "    .dataframe thead th {\n",
              "        text-align: right;\n",
              "    }\n",
              "</style>\n",
              "<table border=\"1\" class=\"dataframe\">\n",
              "  <thead>\n",
              "    <tr style=\"text-align: right;\">\n",
              "      <th></th>\n",
              "      <th>Household Counts</th>\n",
              "      <th>Wants to buy Security Devices</th>\n",
              "      <th>Will Switch Brands</th>\n",
              "    </tr>\n",
              "    <tr>\n",
              "      <th>Segments</th>\n",
              "      <th></th>\n",
              "      <th></th>\n",
              "      <th></th>\n",
              "    </tr>\n",
              "  </thead>\n",
              "  <tbody>\n",
              "    <tr>\n",
              "      <th>Comfortable Retirees</th>\n",
              "      <td>3502870</td>\n",
              "      <td>121346</td>\n",
              "      <td>759639</td>\n",
              "    </tr>\n",
              "    <tr>\n",
              "      <th>Diverse Workers</th>\n",
              "      <td>9067386</td>\n",
              "      <td>327728</td>\n",
              "      <td>2286425</td>\n",
              "    </tr>\n",
              "    <tr>\n",
              "      <th>Elder Midscale Class</th>\n",
              "      <td>5126538</td>\n",
              "      <td>424447</td>\n",
              "      <td>1081551</td>\n",
              "    </tr>\n",
              "    <tr>\n",
              "      <th>Elite Households</th>\n",
              "      <td>3782280</td>\n",
              "      <td>773110</td>\n",
              "      <td>887918</td>\n",
              "    </tr>\n",
              "    <tr>\n",
              "      <th>Mass Markets</th>\n",
              "      <td>8944892</td>\n",
              "      <td>807344</td>\n",
              "      <td>2168742</td>\n",
              "    </tr>\n",
              "    <tr>\n",
              "      <th>Modest Families</th>\n",
              "      <td>3922926</td>\n",
              "      <td>224353</td>\n",
              "      <td>1076186</td>\n",
              "    </tr>\n",
              "    <tr>\n",
              "      <th>Prosperous Acheivers</th>\n",
              "      <td>3653326</td>\n",
              "      <td>849727</td>\n",
              "      <td>704491</td>\n",
              "    </tr>\n",
              "    <tr>\n",
              "      <th>Upscale Matures</th>\n",
              "      <td>2990662</td>\n",
              "      <td>451118</td>\n",
              "      <td>596014</td>\n",
              "    </tr>\n",
              "    <tr>\n",
              "      <th>Well-heeled Affluents</th>\n",
              "      <td>2647809</td>\n",
              "      <td>1176191</td>\n",
              "      <td>522831</td>\n",
              "    </tr>\n",
              "    <tr>\n",
              "      <th>Young Affluent Mobiles</th>\n",
              "      <td>5455273</td>\n",
              "      <td>427550</td>\n",
              "      <td>1345477</td>\n",
              "    </tr>\n",
              "    <tr>\n",
              "      <th>Young Upscale Families</th>\n",
              "      <td>6370407</td>\n",
              "      <td>367450</td>\n",
              "      <td>1472441</td>\n",
              "    </tr>\n",
              "    <tr>\n",
              "      <th>Young Urban Masses</th>\n",
              "      <td>6709160</td>\n",
              "      <td>136007</td>\n",
              "      <td>1686936</td>\n",
              "    </tr>\n",
              "  </tbody>\n",
              "</table>\n",
              "</div>"
            ],
            "text/plain": [
              "                        Household Counts  ...  Will Switch Brands\n",
              "Segments                                  ...                    \n",
              "Comfortable Retirees             3502870  ...              759639\n",
              "Diverse Workers                  9067386  ...             2286425\n",
              "Elder Midscale Class             5126538  ...             1081551\n",
              "Elite Households                 3782280  ...              887918\n",
              "Mass Markets                     8944892  ...             2168742\n",
              "Modest Families                  3922926  ...             1076186\n",
              "Prosperous Acheivers             3653326  ...              704491\n",
              "Upscale Matures                  2990662  ...              596014\n",
              "Well-heeled Affluents            2647809  ...              522831\n",
              "Young Affluent Mobiles           5455273  ...             1345477\n",
              "Young Upscale Families           6370407  ...             1472441\n",
              "Young Urban Masses               6709160  ...             1686936\n",
              "\n",
              "[12 rows x 3 columns]"
            ]
          },
          "metadata": {
            "tags": []
          },
          "execution_count": 345
        }
      ]
    },
    {
      "cell_type": "markdown",
      "metadata": {
        "id": "6m1tfu-oGGGo",
        "colab_type": "text"
      },
      "source": [
        "### 4.High(750-2M) and Medium(100-749K) IPA(Income Producing Asset)"
      ]
    },
    {
      "cell_type": "code",
      "metadata": {
        "id": "j3SMENrpGn_p",
        "colab_type": "code",
        "colab": {}
      },
      "source": [
        "# From Survey Data\n",
        "# Survey Data will have the segment distribution for the variables providing the right attribute which will be used to calculate propensity indices for the segments or markets\n",
        "df_survey_ipa = df_survey[df_survey['Segments'].str.contains('') & df_survey['Variable Name'].str.contains('IPA')]"
      ],
      "execution_count": 0,
      "outputs": []
    },
    {
      "cell_type": "code",
      "metadata": {
        "id": "tOtFulxfGyt5",
        "colab_type": "code",
        "outputId": "98dcb5e8-68d5-42e0-828c-5dec2fd97ac8",
        "colab": {
          "base_uri": "https://localhost:8080/",
          "height": 187
        }
      },
      "source": [
        "df_survey_ipa['Variable Name'].unique().tolist()"
      ],
      "execution_count": 0,
      "outputs": [
        {
          "output_type": "execute_result",
          "data": {
            "text/plain": [
              "['IPA $1 million-$2 million',\n",
              " 'IPA $100K-$249K',\n",
              " 'IPA $2 million+',\n",
              " 'IPA $250K-$499K',\n",
              " 'IPA $25K-$49K',\n",
              " 'IPA $500K-$749K',\n",
              " 'IPA $50K-$74K',\n",
              " 'IPA $750K-$999K',\n",
              " 'IPA $75K-$99K',\n",
              " 'IPA < $25K']"
            ]
          },
          "metadata": {
            "tags": []
          },
          "execution_count": 347
        }
      ]
    },
    {
      "cell_type": "code",
      "metadata": {
        "id": "Adwgkg7wJoWu",
        "colab_type": "code",
        "colab": {}
      },
      "source": [
        "df_survey_ipa = df_survey_ipa.set_index(\"Variable Name\")\n",
        "df_survey_ipa = df_survey_ipa.drop(['IPA $25K-$49K',\n",
        "                                    'IPA $50K-$74K',\n",
        "                                    'IPA $75K-$99K',\n",
        "                                    'IPA < $25K'], axis=0)\n",
        "df_survey_ipa = df_survey_ipa.set_index(\"Segments\")"
      ],
      "execution_count": 0,
      "outputs": []
    },
    {
      "cell_type": "code",
      "metadata": {
        "id": "_GmKCz_jVU9p",
        "colab_type": "code",
        "outputId": "0be2639c-bda4-402d-f166-e457b058294a",
        "colab": {
          "base_uri": "https://localhost:8080/",
          "height": 1000
        }
      },
      "source": [
        "df_survey_ipa"
      ],
      "execution_count": 0,
      "outputs": [
        {
          "output_type": "execute_result",
          "data": {
            "text/html": [
              "<div>\n",
              "<style scoped>\n",
              "    .dataframe tbody tr th:only-of-type {\n",
              "        vertical-align: middle;\n",
              "    }\n",
              "\n",
              "    .dataframe tbody tr th {\n",
              "        vertical-align: top;\n",
              "    }\n",
              "\n",
              "    .dataframe thead th {\n",
              "        text-align: right;\n",
              "    }\n",
              "</style>\n",
              "<table border=\"1\" class=\"dataframe\">\n",
              "  <thead>\n",
              "    <tr style=\"text-align: right;\">\n",
              "      <th></th>\n",
              "      <th>Variable Count</th>\n",
              "    </tr>\n",
              "    <tr>\n",
              "      <th>Segments</th>\n",
              "      <th></th>\n",
              "    </tr>\n",
              "  </thead>\n",
              "  <tbody>\n",
              "    <tr>\n",
              "      <th>Well-heeled Affluents</th>\n",
              "      <td>473362</td>\n",
              "    </tr>\n",
              "    <tr>\n",
              "      <th>Prosperous Acheivers</th>\n",
              "      <td>544477</td>\n",
              "    </tr>\n",
              "    <tr>\n",
              "      <th>Young Affluent Mobiles</th>\n",
              "      <td>475265</td>\n",
              "    </tr>\n",
              "    <tr>\n",
              "      <th>Upscale Matures</th>\n",
              "      <td>238146</td>\n",
              "    </tr>\n",
              "    <tr>\n",
              "      <th>Elite Households</th>\n",
              "      <td>305084</td>\n",
              "    </tr>\n",
              "    <tr>\n",
              "      <th>Young Upscale Families</th>\n",
              "      <td>0</td>\n",
              "    </tr>\n",
              "    <tr>\n",
              "      <th>Elder Midscale Class</th>\n",
              "      <td>18056</td>\n",
              "    </tr>\n",
              "    <tr>\n",
              "      <th>Comfortable Retirees</th>\n",
              "      <td>797</td>\n",
              "    </tr>\n",
              "    <tr>\n",
              "      <th>Mass Markets</th>\n",
              "      <td>0</td>\n",
              "    </tr>\n",
              "    <tr>\n",
              "      <th>Young Urban Masses</th>\n",
              "      <td>0</td>\n",
              "    </tr>\n",
              "    <tr>\n",
              "      <th>Diverse Workers</th>\n",
              "      <td>0</td>\n",
              "    </tr>\n",
              "    <tr>\n",
              "      <th>Modest Families</th>\n",
              "      <td>0</td>\n",
              "    </tr>\n",
              "    <tr>\n",
              "      <th>Well-heeled Affluents</th>\n",
              "      <td>0</td>\n",
              "    </tr>\n",
              "    <tr>\n",
              "      <th>Prosperous Acheivers</th>\n",
              "      <td>1086671</td>\n",
              "    </tr>\n",
              "    <tr>\n",
              "      <th>Young Affluent Mobiles</th>\n",
              "      <td>471794</td>\n",
              "    </tr>\n",
              "    <tr>\n",
              "      <th>Upscale Matures</th>\n",
              "      <td>1133938</td>\n",
              "    </tr>\n",
              "    <tr>\n",
              "      <th>Elite Households</th>\n",
              "      <td>1548079</td>\n",
              "    </tr>\n",
              "    <tr>\n",
              "      <th>Young Upscale Families</th>\n",
              "      <td>2133126</td>\n",
              "    </tr>\n",
              "    <tr>\n",
              "      <th>Elder Midscale Class</th>\n",
              "      <td>539793</td>\n",
              "    </tr>\n",
              "    <tr>\n",
              "      <th>Comfortable Retirees</th>\n",
              "      <td>91327</td>\n",
              "    </tr>\n",
              "    <tr>\n",
              "      <th>Mass Markets</th>\n",
              "      <td>123992</td>\n",
              "    </tr>\n",
              "    <tr>\n",
              "      <th>Young Urban Masses</th>\n",
              "      <td>58152</td>\n",
              "    </tr>\n",
              "    <tr>\n",
              "      <th>Diverse Workers</th>\n",
              "      <td>0</td>\n",
              "    </tr>\n",
              "    <tr>\n",
              "      <th>Modest Families</th>\n",
              "      <td>0</td>\n",
              "    </tr>\n",
              "    <tr>\n",
              "      <th>Well-heeled Affluents</th>\n",
              "      <td>1416776</td>\n",
              "    </tr>\n",
              "    <tr>\n",
              "      <th>Prosperous Acheivers</th>\n",
              "      <td>40351</td>\n",
              "    </tr>\n",
              "    <tr>\n",
              "      <th>Young Affluent Mobiles</th>\n",
              "      <td>33720</td>\n",
              "    </tr>\n",
              "    <tr>\n",
              "      <th>Upscale Matures</th>\n",
              "      <td>18585</td>\n",
              "    </tr>\n",
              "    <tr>\n",
              "      <th>Elite Households</th>\n",
              "      <td>24959</td>\n",
              "    </tr>\n",
              "    <tr>\n",
              "      <th>Young Upscale Families</th>\n",
              "      <td>0</td>\n",
              "    </tr>\n",
              "    <tr>\n",
              "      <th>...</th>\n",
              "      <td>...</td>\n",
              "    </tr>\n",
              "    <tr>\n",
              "      <th>Elder Midscale Class</th>\n",
              "      <td>132497</td>\n",
              "    </tr>\n",
              "    <tr>\n",
              "      <th>Comfortable Retirees</th>\n",
              "      <td>24425</td>\n",
              "    </tr>\n",
              "    <tr>\n",
              "      <th>Mass Markets</th>\n",
              "      <td>0</td>\n",
              "    </tr>\n",
              "    <tr>\n",
              "      <th>Young Urban Masses</th>\n",
              "      <td>0</td>\n",
              "    </tr>\n",
              "    <tr>\n",
              "      <th>Diverse Workers</th>\n",
              "      <td>0</td>\n",
              "    </tr>\n",
              "    <tr>\n",
              "      <th>Modest Families</th>\n",
              "      <td>0</td>\n",
              "    </tr>\n",
              "    <tr>\n",
              "      <th>Well-heeled Affluents</th>\n",
              "      <td>322035</td>\n",
              "    </tr>\n",
              "    <tr>\n",
              "      <th>Prosperous Acheivers</th>\n",
              "      <td>460072</td>\n",
              "    </tr>\n",
              "    <tr>\n",
              "      <th>Young Affluent Mobiles</th>\n",
              "      <td>495709</td>\n",
              "    </tr>\n",
              "    <tr>\n",
              "      <th>Upscale Matures</th>\n",
              "      <td>247443</td>\n",
              "    </tr>\n",
              "    <tr>\n",
              "      <th>Elite Households</th>\n",
              "      <td>287559</td>\n",
              "    </tr>\n",
              "    <tr>\n",
              "      <th>Young Upscale Families</th>\n",
              "      <td>0</td>\n",
              "    </tr>\n",
              "    <tr>\n",
              "      <th>Elder Midscale Class</th>\n",
              "      <td>45936</td>\n",
              "    </tr>\n",
              "    <tr>\n",
              "      <th>Comfortable Retirees</th>\n",
              "      <td>797</td>\n",
              "    </tr>\n",
              "    <tr>\n",
              "      <th>Mass Markets</th>\n",
              "      <td>0</td>\n",
              "    </tr>\n",
              "    <tr>\n",
              "      <th>Young Urban Masses</th>\n",
              "      <td>0</td>\n",
              "    </tr>\n",
              "    <tr>\n",
              "      <th>Diverse Workers</th>\n",
              "      <td>0</td>\n",
              "    </tr>\n",
              "    <tr>\n",
              "      <th>Modest Families</th>\n",
              "      <td>0</td>\n",
              "    </tr>\n",
              "    <tr>\n",
              "      <th>Well-heeled Affluents</th>\n",
              "      <td>256460</td>\n",
              "    </tr>\n",
              "    <tr>\n",
              "      <th>Prosperous Acheivers</th>\n",
              "      <td>342463</td>\n",
              "    </tr>\n",
              "    <tr>\n",
              "      <th>Young Affluent Mobiles</th>\n",
              "      <td>326048</td>\n",
              "    </tr>\n",
              "    <tr>\n",
              "      <th>Upscale Matures</th>\n",
              "      <td>199917</td>\n",
              "    </tr>\n",
              "    <tr>\n",
              "      <th>Elite Households</th>\n",
              "      <td>174447</td>\n",
              "    </tr>\n",
              "    <tr>\n",
              "      <th>Young Upscale Families</th>\n",
              "      <td>0</td>\n",
              "    </tr>\n",
              "    <tr>\n",
              "      <th>Elder Midscale Class</th>\n",
              "      <td>23898</td>\n",
              "    </tr>\n",
              "    <tr>\n",
              "      <th>Comfortable Retirees</th>\n",
              "      <td>2124</td>\n",
              "    </tr>\n",
              "    <tr>\n",
              "      <th>Mass Markets</th>\n",
              "      <td>0</td>\n",
              "    </tr>\n",
              "    <tr>\n",
              "      <th>Young Urban Masses</th>\n",
              "      <td>0</td>\n",
              "    </tr>\n",
              "    <tr>\n",
              "      <th>Diverse Workers</th>\n",
              "      <td>0</td>\n",
              "    </tr>\n",
              "    <tr>\n",
              "      <th>Modest Families</th>\n",
              "      <td>0</td>\n",
              "    </tr>\n",
              "  </tbody>\n",
              "</table>\n",
              "<p>72 rows × 1 columns</p>\n",
              "</div>"
            ],
            "text/plain": [
              "                        Variable Count\n",
              "Segments                              \n",
              "Well-heeled Affluents           473362\n",
              "Prosperous Acheivers            544477\n",
              "Young Affluent Mobiles          475265\n",
              "Upscale Matures                 238146\n",
              "Elite Households                305084\n",
              "Young Upscale Families               0\n",
              "Elder Midscale Class             18056\n",
              "Comfortable Retirees               797\n",
              "Mass Markets                         0\n",
              "Young Urban Masses                   0\n",
              "Diverse Workers                      0\n",
              "Modest Families                      0\n",
              "Well-heeled Affluents                0\n",
              "Prosperous Acheivers           1086671\n",
              "Young Affluent Mobiles          471794\n",
              "Upscale Matures                1133938\n",
              "Elite Households               1548079\n",
              "Young Upscale Families         2133126\n",
              "Elder Midscale Class            539793\n",
              "Comfortable Retirees             91327\n",
              "Mass Markets                    123992\n",
              "Young Urban Masses               58152\n",
              "Diverse Workers                      0\n",
              "Modest Families                      0\n",
              "Well-heeled Affluents          1416776\n",
              "Prosperous Acheivers             40351\n",
              "Young Affluent Mobiles           33720\n",
              "Upscale Matures                  18585\n",
              "Elite Households                 24959\n",
              "Young Upscale Families               0\n",
              "...                                ...\n",
              "Elder Midscale Class            132497\n",
              "Comfortable Retirees             24425\n",
              "Mass Markets                         0\n",
              "Young Urban Masses                   0\n",
              "Diverse Workers                      0\n",
              "Modest Families                      0\n",
              "Well-heeled Affluents           322035\n",
              "Prosperous Acheivers            460072\n",
              "Young Affluent Mobiles          495709\n",
              "Upscale Matures                 247443\n",
              "Elite Households                287559\n",
              "Young Upscale Families               0\n",
              "Elder Midscale Class             45936\n",
              "Comfortable Retirees               797\n",
              "Mass Markets                         0\n",
              "Young Urban Masses                   0\n",
              "Diverse Workers                      0\n",
              "Modest Families                      0\n",
              "Well-heeled Affluents           256460\n",
              "Prosperous Acheivers            342463\n",
              "Young Affluent Mobiles          326048\n",
              "Upscale Matures                 199917\n",
              "Elite Households                174447\n",
              "Young Upscale Families               0\n",
              "Elder Midscale Class             23898\n",
              "Comfortable Retirees              2124\n",
              "Mass Markets                         0\n",
              "Young Urban Masses                   0\n",
              "Diverse Workers                      0\n",
              "Modest Families                      0\n",
              "\n",
              "[72 rows x 1 columns]"
            ]
          },
          "metadata": {
            "tags": []
          },
          "execution_count": 349
        }
      ]
    },
    {
      "cell_type": "code",
      "metadata": {
        "id": "FEpNIsovMDUi",
        "colab_type": "code",
        "colab": {}
      },
      "source": [
        "df_survey_ipa = df_survey_ipa.rename(columns={'Variable Count': 'High & Medium IPA'})"
      ],
      "execution_count": 0,
      "outputs": []
    },
    {
      "cell_type": "code",
      "metadata": {
        "id": "niC95DChOY7N",
        "colab_type": "code",
        "colab": {}
      },
      "source": [
        "# Segments X High & Medium IPA\n",
        "df_survey_ipa_seg = df_survey_ipa.groupby('Segments')[['High & Medium IPA']].sum()"
      ],
      "execution_count": 0,
      "outputs": []
    },
    {
      "cell_type": "code",
      "metadata": {
        "id": "gDK70cIFOlK3",
        "colab_type": "code",
        "outputId": "7d682f31-4f12-494a-8274-63fc90f8bc5e",
        "colab": {
          "base_uri": "https://localhost:8080/",
          "height": 452
        }
      },
      "source": [
        "df_survey_ipa_seg"
      ],
      "execution_count": 0,
      "outputs": [
        {
          "output_type": "execute_result",
          "data": {
            "text/html": [
              "<div>\n",
              "<style scoped>\n",
              "    .dataframe tbody tr th:only-of-type {\n",
              "        vertical-align: middle;\n",
              "    }\n",
              "\n",
              "    .dataframe tbody tr th {\n",
              "        vertical-align: top;\n",
              "    }\n",
              "\n",
              "    .dataframe thead th {\n",
              "        text-align: right;\n",
              "    }\n",
              "</style>\n",
              "<table border=\"1\" class=\"dataframe\">\n",
              "  <thead>\n",
              "    <tr style=\"text-align: right;\">\n",
              "      <th></th>\n",
              "      <th>High &amp; Medium IPA</th>\n",
              "    </tr>\n",
              "    <tr>\n",
              "      <th>Segments</th>\n",
              "      <th></th>\n",
              "    </tr>\n",
              "  </thead>\n",
              "  <tbody>\n",
              "    <tr>\n",
              "      <th>Comfortable Retirees</th>\n",
              "      <td>119470</td>\n",
              "    </tr>\n",
              "    <tr>\n",
              "      <th>Diverse Workers</th>\n",
              "      <td>0</td>\n",
              "    </tr>\n",
              "    <tr>\n",
              "      <th>Elder Midscale Class</th>\n",
              "      <td>760180</td>\n",
              "    </tr>\n",
              "    <tr>\n",
              "      <th>Elite Households</th>\n",
              "      <td>3651132</td>\n",
              "    </tr>\n",
              "    <tr>\n",
              "      <th>Mass Markets</th>\n",
              "      <td>123992</td>\n",
              "    </tr>\n",
              "    <tr>\n",
              "      <th>Modest Families</th>\n",
              "      <td>0</td>\n",
              "    </tr>\n",
              "    <tr>\n",
              "      <th>Prosperous Acheivers</th>\n",
              "      <td>3480767</td>\n",
              "    </tr>\n",
              "    <tr>\n",
              "      <th>Upscale Matures</th>\n",
              "      <td>2657359</td>\n",
              "    </tr>\n",
              "    <tr>\n",
              "      <th>Well-heeled Affluents</th>\n",
              "      <td>2569518</td>\n",
              "    </tr>\n",
              "    <tr>\n",
              "      <th>Young Affluent Mobiles</th>\n",
              "      <td>1952550</td>\n",
              "    </tr>\n",
              "    <tr>\n",
              "      <th>Young Upscale Families</th>\n",
              "      <td>2977446</td>\n",
              "    </tr>\n",
              "    <tr>\n",
              "      <th>Young Urban Masses</th>\n",
              "      <td>58152</td>\n",
              "    </tr>\n",
              "  </tbody>\n",
              "</table>\n",
              "</div>"
            ],
            "text/plain": [
              "                        High & Medium IPA\n",
              "Segments                                 \n",
              "Comfortable Retirees               119470\n",
              "Diverse Workers                         0\n",
              "Elder Midscale Class               760180\n",
              "Elite Households                  3651132\n",
              "Mass Markets                       123992\n",
              "Modest Families                         0\n",
              "Prosperous Acheivers              3480767\n",
              "Upscale Matures                   2657359\n",
              "Well-heeled Affluents             2569518\n",
              "Young Affluent Mobiles            1952550\n",
              "Young Upscale Families            2977446\n",
              "Young Urban Masses                  58152"
            ]
          },
          "metadata": {
            "tags": []
          },
          "execution_count": 352
        }
      ]
    },
    {
      "cell_type": "code",
      "metadata": {
        "id": "BXiTcON_O1mr",
        "colab_type": "code",
        "outputId": "f687a45d-d378-476b-df83-24bc0e404bf6",
        "colab": {
          "base_uri": "https://localhost:8080/",
          "height": 452
        }
      },
      "source": [
        "pd.concat([df_segments_hc_seg, df_survey_wb_seg, df_survey_ws_seg, df_survey_ipa_seg], axis=1)"
      ],
      "execution_count": 0,
      "outputs": [
        {
          "output_type": "execute_result",
          "data": {
            "text/html": [
              "<div>\n",
              "<style scoped>\n",
              "    .dataframe tbody tr th:only-of-type {\n",
              "        vertical-align: middle;\n",
              "    }\n",
              "\n",
              "    .dataframe tbody tr th {\n",
              "        vertical-align: top;\n",
              "    }\n",
              "\n",
              "    .dataframe thead th {\n",
              "        text-align: right;\n",
              "    }\n",
              "</style>\n",
              "<table border=\"1\" class=\"dataframe\">\n",
              "  <thead>\n",
              "    <tr style=\"text-align: right;\">\n",
              "      <th></th>\n",
              "      <th>Household Counts</th>\n",
              "      <th>Wants to buy Security Devices</th>\n",
              "      <th>Will Switch Brands</th>\n",
              "      <th>High &amp; Medium IPA</th>\n",
              "    </tr>\n",
              "    <tr>\n",
              "      <th>Segments</th>\n",
              "      <th></th>\n",
              "      <th></th>\n",
              "      <th></th>\n",
              "      <th></th>\n",
              "    </tr>\n",
              "  </thead>\n",
              "  <tbody>\n",
              "    <tr>\n",
              "      <th>Comfortable Retirees</th>\n",
              "      <td>3502870</td>\n",
              "      <td>121346</td>\n",
              "      <td>759639</td>\n",
              "      <td>119470</td>\n",
              "    </tr>\n",
              "    <tr>\n",
              "      <th>Diverse Workers</th>\n",
              "      <td>9067386</td>\n",
              "      <td>327728</td>\n",
              "      <td>2286425</td>\n",
              "      <td>0</td>\n",
              "    </tr>\n",
              "    <tr>\n",
              "      <th>Elder Midscale Class</th>\n",
              "      <td>5126538</td>\n",
              "      <td>424447</td>\n",
              "      <td>1081551</td>\n",
              "      <td>760180</td>\n",
              "    </tr>\n",
              "    <tr>\n",
              "      <th>Elite Households</th>\n",
              "      <td>3782280</td>\n",
              "      <td>773110</td>\n",
              "      <td>887918</td>\n",
              "      <td>3651132</td>\n",
              "    </tr>\n",
              "    <tr>\n",
              "      <th>Mass Markets</th>\n",
              "      <td>8944892</td>\n",
              "      <td>807344</td>\n",
              "      <td>2168742</td>\n",
              "      <td>123992</td>\n",
              "    </tr>\n",
              "    <tr>\n",
              "      <th>Modest Families</th>\n",
              "      <td>3922926</td>\n",
              "      <td>224353</td>\n",
              "      <td>1076186</td>\n",
              "      <td>0</td>\n",
              "    </tr>\n",
              "    <tr>\n",
              "      <th>Prosperous Acheivers</th>\n",
              "      <td>3653326</td>\n",
              "      <td>849727</td>\n",
              "      <td>704491</td>\n",
              "      <td>3480767</td>\n",
              "    </tr>\n",
              "    <tr>\n",
              "      <th>Upscale Matures</th>\n",
              "      <td>2990662</td>\n",
              "      <td>451118</td>\n",
              "      <td>596014</td>\n",
              "      <td>2657359</td>\n",
              "    </tr>\n",
              "    <tr>\n",
              "      <th>Well-heeled Affluents</th>\n",
              "      <td>2647809</td>\n",
              "      <td>1176191</td>\n",
              "      <td>522831</td>\n",
              "      <td>2569518</td>\n",
              "    </tr>\n",
              "    <tr>\n",
              "      <th>Young Affluent Mobiles</th>\n",
              "      <td>5455273</td>\n",
              "      <td>427550</td>\n",
              "      <td>1345477</td>\n",
              "      <td>1952550</td>\n",
              "    </tr>\n",
              "    <tr>\n",
              "      <th>Young Upscale Families</th>\n",
              "      <td>6370407</td>\n",
              "      <td>367450</td>\n",
              "      <td>1472441</td>\n",
              "      <td>2977446</td>\n",
              "    </tr>\n",
              "    <tr>\n",
              "      <th>Young Urban Masses</th>\n",
              "      <td>6709160</td>\n",
              "      <td>136007</td>\n",
              "      <td>1686936</td>\n",
              "      <td>58152</td>\n",
              "    </tr>\n",
              "  </tbody>\n",
              "</table>\n",
              "</div>"
            ],
            "text/plain": [
              "                        Household Counts  ...  High & Medium IPA\n",
              "Segments                                  ...                   \n",
              "Comfortable Retirees             3502870  ...             119470\n",
              "Diverse Workers                  9067386  ...                  0\n",
              "Elder Midscale Class             5126538  ...             760180\n",
              "Elite Households                 3782280  ...            3651132\n",
              "Mass Markets                     8944892  ...             123992\n",
              "Modest Families                  3922926  ...                  0\n",
              "Prosperous Acheivers             3653326  ...            3480767\n",
              "Upscale Matures                  2990662  ...            2657359\n",
              "Well-heeled Affluents            2647809  ...            2569518\n",
              "Young Affluent Mobiles           5455273  ...            1952550\n",
              "Young Upscale Families           6370407  ...            2977446\n",
              "Young Urban Masses               6709160  ...              58152\n",
              "\n",
              "[12 rows x 4 columns]"
            ]
          },
          "metadata": {
            "tags": []
          },
          "execution_count": 353
        }
      ]
    },
    {
      "cell_type": "markdown",
      "metadata": {
        "id": "cEVEYmovRA75",
        "colab_type": "text"
      },
      "source": [
        "### 5.Willing to pay more for top quality electronics"
      ]
    },
    {
      "cell_type": "code",
      "metadata": {
        "colab_type": "code",
        "cellView": "both",
        "id": "U5gWbrrvRfsx",
        "colab": {}
      },
      "source": [
        "# From Survey Data\n",
        "# Survey Data will have the segment distribution for the variables providing the right attribute which will be used to calculate propensity indices for the segments or markets\n",
        "df_survey_wp = df_survey[df_survey['Segments'].str.contains('') & df_survey['Variable Name'].str.contains('Pay More')]"
      ],
      "execution_count": 0,
      "outputs": []
    },
    {
      "cell_type": "code",
      "metadata": {
        "colab_type": "code",
        "outputId": "7931b1da-f4c0-4c96-e489-f2a79296ab76",
        "cellView": "both",
        "id": "ZfAV1f7QRfs6",
        "colab": {
          "base_uri": "https://localhost:8080/",
          "height": 421
        }
      },
      "source": [
        "df_survey_wp.head(15)"
      ],
      "execution_count": 0,
      "outputs": [
        {
          "output_type": "execute_result",
          "data": {
            "text/html": [
              "<div>\n",
              "<style scoped>\n",
              "    .dataframe tbody tr th:only-of-type {\n",
              "        vertical-align: middle;\n",
              "    }\n",
              "\n",
              "    .dataframe tbody tr th {\n",
              "        vertical-align: top;\n",
              "    }\n",
              "\n",
              "    .dataframe thead th {\n",
              "        text-align: right;\n",
              "    }\n",
              "</style>\n",
              "<table border=\"1\" class=\"dataframe\">\n",
              "  <thead>\n",
              "    <tr style=\"text-align: right;\">\n",
              "      <th></th>\n",
              "      <th>Segments</th>\n",
              "      <th>Variable Name</th>\n",
              "      <th>Variable Count</th>\n",
              "    </tr>\n",
              "  </thead>\n",
              "  <tbody>\n",
              "    <tr>\n",
              "      <th>780</th>\n",
              "      <td>Well-heeled Affluents</td>\n",
              "      <td>I am Willing to Pay More for Top Quality Elect...</td>\n",
              "      <td>756944</td>\n",
              "    </tr>\n",
              "    <tr>\n",
              "      <th>781</th>\n",
              "      <td>Prosperous Acheivers</td>\n",
              "      <td>I am Willing to Pay More for Top Quality Elect...</td>\n",
              "      <td>953399</td>\n",
              "    </tr>\n",
              "    <tr>\n",
              "      <th>782</th>\n",
              "      <td>Young Affluent Mobiles</td>\n",
              "      <td>I am Willing to Pay More for Top Quality Elect...</td>\n",
              "      <td>1685141</td>\n",
              "    </tr>\n",
              "    <tr>\n",
              "      <th>783</th>\n",
              "      <td>Upscale Matures</td>\n",
              "      <td>I am Willing to Pay More for Top Quality Elect...</td>\n",
              "      <td>647027</td>\n",
              "    </tr>\n",
              "    <tr>\n",
              "      <th>784</th>\n",
              "      <td>Elite Households</td>\n",
              "      <td>I am Willing to Pay More for Top Quality Elect...</td>\n",
              "      <td>1153657</td>\n",
              "    </tr>\n",
              "    <tr>\n",
              "      <th>785</th>\n",
              "      <td>Young Upscale Families</td>\n",
              "      <td>I am Willing to Pay More for Top Quality Elect...</td>\n",
              "      <td>1768303</td>\n",
              "    </tr>\n",
              "    <tr>\n",
              "      <th>786</th>\n",
              "      <td>Elder Midscale Class</td>\n",
              "      <td>I am Willing to Pay More for Top Quality Elect...</td>\n",
              "      <td>1001329</td>\n",
              "    </tr>\n",
              "    <tr>\n",
              "      <th>787</th>\n",
              "      <td>Comfortable Retirees</td>\n",
              "      <td>I am Willing to Pay More for Top Quality Elect...</td>\n",
              "      <td>537362</td>\n",
              "    </tr>\n",
              "    <tr>\n",
              "      <th>788</th>\n",
              "      <td>Mass Markets</td>\n",
              "      <td>I am Willing to Pay More for Top Quality Elect...</td>\n",
              "      <td>2239097</td>\n",
              "    </tr>\n",
              "    <tr>\n",
              "      <th>789</th>\n",
              "      <td>Young Urban Masses</td>\n",
              "      <td>I am Willing to Pay More for Top Quality Elect...</td>\n",
              "      <td>1705368</td>\n",
              "    </tr>\n",
              "    <tr>\n",
              "      <th>790</th>\n",
              "      <td>Diverse Workers</td>\n",
              "      <td>I am Willing to Pay More for Top Quality Elect...</td>\n",
              "      <td>1920240</td>\n",
              "    </tr>\n",
              "    <tr>\n",
              "      <th>791</th>\n",
              "      <td>Modest Families</td>\n",
              "      <td>I am Willing to Pay More for Top Quality Elect...</td>\n",
              "      <td>867047</td>\n",
              "    </tr>\n",
              "  </tbody>\n",
              "</table>\n",
              "</div>"
            ],
            "text/plain": [
              "                   Segments  ... Variable Count\n",
              "780   Well-heeled Affluents  ...         756944\n",
              "781    Prosperous Acheivers  ...         953399\n",
              "782  Young Affluent Mobiles  ...        1685141\n",
              "783         Upscale Matures  ...         647027\n",
              "784        Elite Households  ...        1153657\n",
              "785  Young Upscale Families  ...        1768303\n",
              "786    Elder Midscale Class  ...        1001329\n",
              "787    Comfortable Retirees  ...         537362\n",
              "788            Mass Markets  ...        2239097\n",
              "789      Young Urban Masses  ...        1705368\n",
              "790         Diverse Workers  ...        1920240\n",
              "791         Modest Families  ...         867047\n",
              "\n",
              "[12 rows x 3 columns]"
            ]
          },
          "metadata": {
            "tags": []
          },
          "execution_count": 355
        }
      ]
    },
    {
      "cell_type": "code",
      "metadata": {
        "colab_type": "code",
        "outputId": "0049ecdc-5edb-4b3e-c660-547ea68c4ff2",
        "id": "d5_z14vDRftA",
        "colab": {
          "base_uri": "https://localhost:8080/",
          "height": 34
        }
      },
      "source": [
        "df_survey_wp['Variable Count'].sum()"
      ],
      "execution_count": 0,
      "outputs": [
        {
          "output_type": "execute_result",
          "data": {
            "text/plain": [
              "15234914"
            ]
          },
          "metadata": {
            "tags": []
          },
          "execution_count": 356
        }
      ]
    },
    {
      "cell_type": "code",
      "metadata": {
        "colab_type": "code",
        "outputId": "689672e4-045b-4947-d2a6-329462e942d6",
        "id": "lQqCCT58RftH",
        "colab": {
          "base_uri": "https://localhost:8080/",
          "height": 34
        }
      },
      "source": [
        "df_survey_wp['Variable Name'].unique().tolist()"
      ],
      "execution_count": 0,
      "outputs": [
        {
          "output_type": "execute_result",
          "data": {
            "text/plain": [
              "['I am Willing to Pay More for Top Quality Electronics- Agree ']"
            ]
          },
          "metadata": {
            "tags": []
          },
          "execution_count": 357
        }
      ]
    },
    {
      "cell_type": "code",
      "metadata": {
        "colab_type": "code",
        "id": "R3nT35A-RftL",
        "colab": {}
      },
      "source": [
        "df_survey_wp = df_survey_wp.rename(columns={'Variable Count': 'Pay more to buy Top Quality Electronics'})"
      ],
      "execution_count": 0,
      "outputs": []
    },
    {
      "cell_type": "code",
      "metadata": {
        "colab_type": "code",
        "id": "fRs4SwY5RftP",
        "colab": {}
      },
      "source": [
        "# Segments X Pay more to buy Top Quality Electronics\n",
        "df_survey_wp_seg = df_survey_wp.groupby('Segments')[['Pay more to buy Top Quality Electronics']].sum()"
      ],
      "execution_count": 0,
      "outputs": []
    },
    {
      "cell_type": "code",
      "metadata": {
        "colab_type": "code",
        "outputId": "dce05836-8576-421c-e2a2-88201ec92315",
        "id": "6eL9RlPjRftT",
        "colab": {
          "base_uri": "https://localhost:8080/",
          "height": 452
        }
      },
      "source": [
        "df_survey_wp_seg"
      ],
      "execution_count": 0,
      "outputs": [
        {
          "output_type": "execute_result",
          "data": {
            "text/html": [
              "<div>\n",
              "<style scoped>\n",
              "    .dataframe tbody tr th:only-of-type {\n",
              "        vertical-align: middle;\n",
              "    }\n",
              "\n",
              "    .dataframe tbody tr th {\n",
              "        vertical-align: top;\n",
              "    }\n",
              "\n",
              "    .dataframe thead th {\n",
              "        text-align: right;\n",
              "    }\n",
              "</style>\n",
              "<table border=\"1\" class=\"dataframe\">\n",
              "  <thead>\n",
              "    <tr style=\"text-align: right;\">\n",
              "      <th></th>\n",
              "      <th>Pay more to buy Top Quality Electronics</th>\n",
              "    </tr>\n",
              "    <tr>\n",
              "      <th>Segments</th>\n",
              "      <th></th>\n",
              "    </tr>\n",
              "  </thead>\n",
              "  <tbody>\n",
              "    <tr>\n",
              "      <th>Comfortable Retirees</th>\n",
              "      <td>537362</td>\n",
              "    </tr>\n",
              "    <tr>\n",
              "      <th>Diverse Workers</th>\n",
              "      <td>1920240</td>\n",
              "    </tr>\n",
              "    <tr>\n",
              "      <th>Elder Midscale Class</th>\n",
              "      <td>1001329</td>\n",
              "    </tr>\n",
              "    <tr>\n",
              "      <th>Elite Households</th>\n",
              "      <td>1153657</td>\n",
              "    </tr>\n",
              "    <tr>\n",
              "      <th>Mass Markets</th>\n",
              "      <td>2239097</td>\n",
              "    </tr>\n",
              "    <tr>\n",
              "      <th>Modest Families</th>\n",
              "      <td>867047</td>\n",
              "    </tr>\n",
              "    <tr>\n",
              "      <th>Prosperous Acheivers</th>\n",
              "      <td>953399</td>\n",
              "    </tr>\n",
              "    <tr>\n",
              "      <th>Upscale Matures</th>\n",
              "      <td>647027</td>\n",
              "    </tr>\n",
              "    <tr>\n",
              "      <th>Well-heeled Affluents</th>\n",
              "      <td>756944</td>\n",
              "    </tr>\n",
              "    <tr>\n",
              "      <th>Young Affluent Mobiles</th>\n",
              "      <td>1685141</td>\n",
              "    </tr>\n",
              "    <tr>\n",
              "      <th>Young Upscale Families</th>\n",
              "      <td>1768303</td>\n",
              "    </tr>\n",
              "    <tr>\n",
              "      <th>Young Urban Masses</th>\n",
              "      <td>1705368</td>\n",
              "    </tr>\n",
              "  </tbody>\n",
              "</table>\n",
              "</div>"
            ],
            "text/plain": [
              "                        Pay more to buy Top Quality Electronics\n",
              "Segments                                                       \n",
              "Comfortable Retirees                                     537362\n",
              "Diverse Workers                                         1920240\n",
              "Elder Midscale Class                                    1001329\n",
              "Elite Households                                        1153657\n",
              "Mass Markets                                            2239097\n",
              "Modest Families                                          867047\n",
              "Prosperous Acheivers                                     953399\n",
              "Upscale Matures                                          647027\n",
              "Well-heeled Affluents                                    756944\n",
              "Young Affluent Mobiles                                  1685141\n",
              "Young Upscale Families                                  1768303\n",
              "Young Urban Masses                                      1705368"
            ]
          },
          "metadata": {
            "tags": []
          },
          "execution_count": 360
        }
      ]
    },
    {
      "cell_type": "code",
      "metadata": {
        "id": "JwwTGIpTS2LC",
        "colab_type": "code",
        "outputId": "609985a1-40f2-4e34-821c-c54a34cab191",
        "colab": {
          "base_uri": "https://localhost:8080/",
          "height": 452
        }
      },
      "source": [
        "pd.concat([df_segments_hc_seg, df_survey_wb_seg, df_survey_ws_seg, df_survey_ipa_seg, df_survey_wp_seg], axis=1)"
      ],
      "execution_count": 0,
      "outputs": [
        {
          "output_type": "execute_result",
          "data": {
            "text/html": [
              "<div>\n",
              "<style scoped>\n",
              "    .dataframe tbody tr th:only-of-type {\n",
              "        vertical-align: middle;\n",
              "    }\n",
              "\n",
              "    .dataframe tbody tr th {\n",
              "        vertical-align: top;\n",
              "    }\n",
              "\n",
              "    .dataframe thead th {\n",
              "        text-align: right;\n",
              "    }\n",
              "</style>\n",
              "<table border=\"1\" class=\"dataframe\">\n",
              "  <thead>\n",
              "    <tr style=\"text-align: right;\">\n",
              "      <th></th>\n",
              "      <th>Household Counts</th>\n",
              "      <th>Wants to buy Security Devices</th>\n",
              "      <th>Will Switch Brands</th>\n",
              "      <th>High &amp; Medium IPA</th>\n",
              "      <th>Pay more to buy Top Quality Electronics</th>\n",
              "    </tr>\n",
              "    <tr>\n",
              "      <th>Segments</th>\n",
              "      <th></th>\n",
              "      <th></th>\n",
              "      <th></th>\n",
              "      <th></th>\n",
              "      <th></th>\n",
              "    </tr>\n",
              "  </thead>\n",
              "  <tbody>\n",
              "    <tr>\n",
              "      <th>Comfortable Retirees</th>\n",
              "      <td>3502870</td>\n",
              "      <td>121346</td>\n",
              "      <td>759639</td>\n",
              "      <td>119470</td>\n",
              "      <td>537362</td>\n",
              "    </tr>\n",
              "    <tr>\n",
              "      <th>Diverse Workers</th>\n",
              "      <td>9067386</td>\n",
              "      <td>327728</td>\n",
              "      <td>2286425</td>\n",
              "      <td>0</td>\n",
              "      <td>1920240</td>\n",
              "    </tr>\n",
              "    <tr>\n",
              "      <th>Elder Midscale Class</th>\n",
              "      <td>5126538</td>\n",
              "      <td>424447</td>\n",
              "      <td>1081551</td>\n",
              "      <td>760180</td>\n",
              "      <td>1001329</td>\n",
              "    </tr>\n",
              "    <tr>\n",
              "      <th>Elite Households</th>\n",
              "      <td>3782280</td>\n",
              "      <td>773110</td>\n",
              "      <td>887918</td>\n",
              "      <td>3651132</td>\n",
              "      <td>1153657</td>\n",
              "    </tr>\n",
              "    <tr>\n",
              "      <th>Mass Markets</th>\n",
              "      <td>8944892</td>\n",
              "      <td>807344</td>\n",
              "      <td>2168742</td>\n",
              "      <td>123992</td>\n",
              "      <td>2239097</td>\n",
              "    </tr>\n",
              "    <tr>\n",
              "      <th>Modest Families</th>\n",
              "      <td>3922926</td>\n",
              "      <td>224353</td>\n",
              "      <td>1076186</td>\n",
              "      <td>0</td>\n",
              "      <td>867047</td>\n",
              "    </tr>\n",
              "    <tr>\n",
              "      <th>Prosperous Acheivers</th>\n",
              "      <td>3653326</td>\n",
              "      <td>849727</td>\n",
              "      <td>704491</td>\n",
              "      <td>3480767</td>\n",
              "      <td>953399</td>\n",
              "    </tr>\n",
              "    <tr>\n",
              "      <th>Upscale Matures</th>\n",
              "      <td>2990662</td>\n",
              "      <td>451118</td>\n",
              "      <td>596014</td>\n",
              "      <td>2657359</td>\n",
              "      <td>647027</td>\n",
              "    </tr>\n",
              "    <tr>\n",
              "      <th>Well-heeled Affluents</th>\n",
              "      <td>2647809</td>\n",
              "      <td>1176191</td>\n",
              "      <td>522831</td>\n",
              "      <td>2569518</td>\n",
              "      <td>756944</td>\n",
              "    </tr>\n",
              "    <tr>\n",
              "      <th>Young Affluent Mobiles</th>\n",
              "      <td>5455273</td>\n",
              "      <td>427550</td>\n",
              "      <td>1345477</td>\n",
              "      <td>1952550</td>\n",
              "      <td>1685141</td>\n",
              "    </tr>\n",
              "    <tr>\n",
              "      <th>Young Upscale Families</th>\n",
              "      <td>6370407</td>\n",
              "      <td>367450</td>\n",
              "      <td>1472441</td>\n",
              "      <td>2977446</td>\n",
              "      <td>1768303</td>\n",
              "    </tr>\n",
              "    <tr>\n",
              "      <th>Young Urban Masses</th>\n",
              "      <td>6709160</td>\n",
              "      <td>136007</td>\n",
              "      <td>1686936</td>\n",
              "      <td>58152</td>\n",
              "      <td>1705368</td>\n",
              "    </tr>\n",
              "  </tbody>\n",
              "</table>\n",
              "</div>"
            ],
            "text/plain": [
              "                        Household Counts  ...  Pay more to buy Top Quality Electronics\n",
              "Segments                                  ...                                         \n",
              "Comfortable Retirees             3502870  ...                                   537362\n",
              "Diverse Workers                  9067386  ...                                  1920240\n",
              "Elder Midscale Class             5126538  ...                                  1001329\n",
              "Elite Households                 3782280  ...                                  1153657\n",
              "Mass Markets                     8944892  ...                                  2239097\n",
              "Modest Families                  3922926  ...                                   867047\n",
              "Prosperous Acheivers             3653326  ...                                   953399\n",
              "Upscale Matures                  2990662  ...                                   647027\n",
              "Well-heeled Affluents            2647809  ...                                   756944\n",
              "Young Affluent Mobiles           5455273  ...                                  1685141\n",
              "Young Upscale Families           6370407  ...                                  1768303\n",
              "Young Urban Masses               6709160  ...                                  1705368\n",
              "\n",
              "[12 rows x 5 columns]"
            ]
          },
          "metadata": {
            "tags": []
          },
          "execution_count": 361
        }
      ]
    },
    {
      "cell_type": "markdown",
      "metadata": {
        "id": "QwJFwPOpTKEI",
        "colab_type": "text"
      },
      "source": [
        "### Final Segmentation\n",
        "Combined survey and segments dataset generated for further analysis"
      ]
    },
    {
      "cell_type": "code",
      "metadata": {
        "id": "Mq2Sklt_U02U",
        "colab_type": "code",
        "colab": {}
      },
      "source": [
        "# Dataset ready for further analysis\n",
        "df_segmentation = pd.concat([df_segments_hc_seg, df_survey_wb_seg, df_survey_ws_seg, df_survey_ipa_seg, df_survey_wp_seg], axis=1)"
      ],
      "execution_count": 0,
      "outputs": []
    },
    {
      "cell_type": "code",
      "metadata": {
        "id": "60UmaFs3YTM1",
        "colab_type": "code",
        "outputId": "62b6c0f8-a34f-40f2-f99d-ac6a19b2fb9b",
        "colab": {
          "base_uri": "https://localhost:8080/",
          "height": 452
        }
      },
      "source": [
        "df_segmentation"
      ],
      "execution_count": 0,
      "outputs": [
        {
          "output_type": "execute_result",
          "data": {
            "text/html": [
              "<div>\n",
              "<style scoped>\n",
              "    .dataframe tbody tr th:only-of-type {\n",
              "        vertical-align: middle;\n",
              "    }\n",
              "\n",
              "    .dataframe tbody tr th {\n",
              "        vertical-align: top;\n",
              "    }\n",
              "\n",
              "    .dataframe thead th {\n",
              "        text-align: right;\n",
              "    }\n",
              "</style>\n",
              "<table border=\"1\" class=\"dataframe\">\n",
              "  <thead>\n",
              "    <tr style=\"text-align: right;\">\n",
              "      <th></th>\n",
              "      <th>Household Counts</th>\n",
              "      <th>Wants to buy Security Devices</th>\n",
              "      <th>Will Switch Brands</th>\n",
              "      <th>High &amp; Medium IPA</th>\n",
              "      <th>Pay more to buy Top Quality Electronics</th>\n",
              "    </tr>\n",
              "    <tr>\n",
              "      <th>Segments</th>\n",
              "      <th></th>\n",
              "      <th></th>\n",
              "      <th></th>\n",
              "      <th></th>\n",
              "      <th></th>\n",
              "    </tr>\n",
              "  </thead>\n",
              "  <tbody>\n",
              "    <tr>\n",
              "      <th>Comfortable Retirees</th>\n",
              "      <td>3502870</td>\n",
              "      <td>121346</td>\n",
              "      <td>759639</td>\n",
              "      <td>119470</td>\n",
              "      <td>537362</td>\n",
              "    </tr>\n",
              "    <tr>\n",
              "      <th>Diverse Workers</th>\n",
              "      <td>9067386</td>\n",
              "      <td>327728</td>\n",
              "      <td>2286425</td>\n",
              "      <td>0</td>\n",
              "      <td>1920240</td>\n",
              "    </tr>\n",
              "    <tr>\n",
              "      <th>Elder Midscale Class</th>\n",
              "      <td>5126538</td>\n",
              "      <td>424447</td>\n",
              "      <td>1081551</td>\n",
              "      <td>760180</td>\n",
              "      <td>1001329</td>\n",
              "    </tr>\n",
              "    <tr>\n",
              "      <th>Elite Households</th>\n",
              "      <td>3782280</td>\n",
              "      <td>773110</td>\n",
              "      <td>887918</td>\n",
              "      <td>3651132</td>\n",
              "      <td>1153657</td>\n",
              "    </tr>\n",
              "    <tr>\n",
              "      <th>Mass Markets</th>\n",
              "      <td>8944892</td>\n",
              "      <td>807344</td>\n",
              "      <td>2168742</td>\n",
              "      <td>123992</td>\n",
              "      <td>2239097</td>\n",
              "    </tr>\n",
              "    <tr>\n",
              "      <th>Modest Families</th>\n",
              "      <td>3922926</td>\n",
              "      <td>224353</td>\n",
              "      <td>1076186</td>\n",
              "      <td>0</td>\n",
              "      <td>867047</td>\n",
              "    </tr>\n",
              "    <tr>\n",
              "      <th>Prosperous Acheivers</th>\n",
              "      <td>3653326</td>\n",
              "      <td>849727</td>\n",
              "      <td>704491</td>\n",
              "      <td>3480767</td>\n",
              "      <td>953399</td>\n",
              "    </tr>\n",
              "    <tr>\n",
              "      <th>Upscale Matures</th>\n",
              "      <td>2990662</td>\n",
              "      <td>451118</td>\n",
              "      <td>596014</td>\n",
              "      <td>2657359</td>\n",
              "      <td>647027</td>\n",
              "    </tr>\n",
              "    <tr>\n",
              "      <th>Well-heeled Affluents</th>\n",
              "      <td>2647809</td>\n",
              "      <td>1176191</td>\n",
              "      <td>522831</td>\n",
              "      <td>2569518</td>\n",
              "      <td>756944</td>\n",
              "    </tr>\n",
              "    <tr>\n",
              "      <th>Young Affluent Mobiles</th>\n",
              "      <td>5455273</td>\n",
              "      <td>427550</td>\n",
              "      <td>1345477</td>\n",
              "      <td>1952550</td>\n",
              "      <td>1685141</td>\n",
              "    </tr>\n",
              "    <tr>\n",
              "      <th>Young Upscale Families</th>\n",
              "      <td>6370407</td>\n",
              "      <td>367450</td>\n",
              "      <td>1472441</td>\n",
              "      <td>2977446</td>\n",
              "      <td>1768303</td>\n",
              "    </tr>\n",
              "    <tr>\n",
              "      <th>Young Urban Masses</th>\n",
              "      <td>6709160</td>\n",
              "      <td>136007</td>\n",
              "      <td>1686936</td>\n",
              "      <td>58152</td>\n",
              "      <td>1705368</td>\n",
              "    </tr>\n",
              "  </tbody>\n",
              "</table>\n",
              "</div>"
            ],
            "text/plain": [
              "                        Household Counts  ...  Pay more to buy Top Quality Electronics\n",
              "Segments                                  ...                                         \n",
              "Comfortable Retirees             3502870  ...                                   537362\n",
              "Diverse Workers                  9067386  ...                                  1920240\n",
              "Elder Midscale Class             5126538  ...                                  1001329\n",
              "Elite Households                 3782280  ...                                  1153657\n",
              "Mass Markets                     8944892  ...                                  2239097\n",
              "Modest Families                  3922926  ...                                   867047\n",
              "Prosperous Acheivers             3653326  ...                                   953399\n",
              "Upscale Matures                  2990662  ...                                   647027\n",
              "Well-heeled Affluents            2647809  ...                                   756944\n",
              "Young Affluent Mobiles           5455273  ...                                  1685141\n",
              "Young Upscale Families           6370407  ...                                  1768303\n",
              "Young Urban Masses               6709160  ...                                  1705368\n",
              "\n",
              "[12 rows x 5 columns]"
            ]
          },
          "metadata": {
            "tags": []
          },
          "execution_count": 380
        }
      ]
    },
    {
      "cell_type": "code",
      "metadata": {
        "id": "mv-Y6pocuM-c",
        "colab_type": "code",
        "colab": {}
      },
      "source": [
        "# After Dataframe df_segmentation created, save as(write) .csv file to plot visualization\n",
        "df_segmentation.to_csv(r\"/gdrive/My Drive/Colab Notebooks/Data/PROJ/01_pandas/files/final/data/04_segmentation.csv\", sep = ',')"
      ],
      "execution_count": 0,
      "outputs": []
    },
    {
      "cell_type": "code",
      "metadata": {
        "id": "C4-4rYWQvI_r",
        "colab_type": "code",
        "colab": {}
      },
      "source": [
        "# Connect to Tabpy\n",
        "# pip install tabpy"
      ],
      "execution_count": 0,
      "outputs": []
    },
    {
      "cell_type": "code",
      "metadata": {
        "id": "PH9QWkYJGLiC",
        "colab_type": "code",
        "outputId": "0fc2b53e-ba34-47dd-c06d-78d8a542f5b0",
        "colab": {
          "base_uri": "https://localhost:8080/",
          "height": 784
        }
      },
      "source": [
        "%%HTML\n",
        "<div style=\"border-right: 600px solid WhiteSmoke;\"><div style=\"border-left: 100px solid WhiteSmoke;\"><div style=\"border-top: 20px solid WhiteSmoke;\"><div style=\"border-bottom: 20px solid WhiteSmoke;\"><param name=\"showShareOptions\" value=\"false\" />\n",
        "<div class='tableauPlaceholder' id='viz1568508408660' style='position: relative'><noscript><a href='#'><img alt=' ' src='https:&#47;&#47;public.tableau.com&#47;static&#47;images&#47;20&#47;2019_09_06_pd_01_df_segmentation_15685006350930&#47;Dashboard&#47;1_rss.png' style='border: none' /></a></noscript><object class='tableauViz'  style='display:none;'><param name=\"showShareOptions\" value=\"false\" /><param name='host_url' value='https%3A%2F%2Fpublic.tableau.com%2F' /> <param name='embed_code_version' value='3' /> <param name='site_root' value='' /><param name='name' value='2019_09_06_pd_01_df_segmentation_15685006350930&#47;Dashboard' /><param name='tabs' value='no' /><param name='toolbar' value='yes' /><param name='static_image' value='https:&#47;&#47;public.tableau.com&#47;static&#47;images&#47;20&#47;2019_09_06_pd_01_df_segmentation_15685006350930&#47;Dashboard&#47;1.png' /> <param name='animate_transition' value='yes' /><param name='display_static_image' value='yes' /><param name='display_spinner' value='yes' /><param name='display_overlay' value='yes' /><param name='display_count' value='yes' /></object></div>                <script type='text/javascript'>                    var divElement = document.getElementById('viz1568508408660');                    var vizElement = divElement.getElementsByTagName('object')[0];                    vizElement.style.width='800px';vizElement.style.height='727px';                    var scriptElement = document.createElement('script');                    scriptElement.src = 'https://public.tableau.com/javascripts/api/viz_v1.js';                    vizElement.parentNode.insertBefore(scriptElement, vizElement);                </script>"
      ],
      "execution_count": 0,
      "outputs": [
        {
          "output_type": "display_data",
          "data": {
            "text/html": [
              "<div style=\"border-right: 600px solid WhiteSmoke;\"><div style=\"border-left: 100px solid WhiteSmoke;\"><div style=\"border-top: 20px solid WhiteSmoke;\"><div style=\"border-bottom: 20px solid WhiteSmoke;\"><param name=\"showShareOptions\" value=\"false\" />\n",
              "<div class='tableauPlaceholder' id='viz1568508408660' style='position: relative'><noscript><a href='#'><img alt=' ' src='https:&#47;&#47;public.tableau.com&#47;static&#47;images&#47;20&#47;2019_09_06_pd_01_df_segmentation_15685006350930&#47;Dashboard&#47;1_rss.png' style='border: none' /></a></noscript><object class='tableauViz'  style='display:none;'><param name=\"showShareOptions\" value=\"false\" /><param name='host_url' value='https%3A%2F%2Fpublic.tableau.com%2F' /> <param name='embed_code_version' value='3' /> <param name='site_root' value='' /><param name='name' value='2019_09_06_pd_01_df_segmentation_15685006350930&#47;Dashboard' /><param name='tabs' value='no' /><param name='toolbar' value='yes' /><param name='static_image' value='https:&#47;&#47;public.tableau.com&#47;static&#47;images&#47;20&#47;2019_09_06_pd_01_df_segmentation_15685006350930&#47;Dashboard&#47;1.png' /> <param name='animate_transition' value='yes' /><param name='display_static_image' value='yes' /><param name='display_spinner' value='yes' /><param name='display_overlay' value='yes' /><param name='display_count' value='yes' /></object></div>                <script type='text/javascript'>                    var divElement = document.getElementById('viz1568508408660');                    var vizElement = divElement.getElementsByTagName('object')[0];                    vizElement.style.width='800px';vizElement.style.height='727px';                    var scriptElement = document.createElement('script');                    scriptElement.src = 'https://public.tableau.com/javascripts/api/viz_v1.js';                    vizElement.parentNode.insertBefore(scriptElement, vizElement);                </script>"
            ],
            "text/plain": [
              "<IPython.core.display.HTML object>"
            ]
          },
          "metadata": {
            "tags": []
          }
        }
      ]
    },
    {
      "cell_type": "code",
      "metadata": {
        "id": "U8rosX-MMLMA",
        "colab_type": "code",
        "outputId": "41f6faeb-5e69-4bc5-8f6b-b2eb56634b8a",
        "colab": {
          "base_uri": "https://localhost:8080/",
          "height": 452
        }
      },
      "source": [
        "# Rescale them to the same magnitude\n",
        "df_segmentation_per.loc[:,:]= df_segmentation.loc[:,:]/df_segmentation.loc[:,:].sum()\n",
        "df_segmentation_per.round(2) "
      ],
      "execution_count": 0,
      "outputs": [
        {
          "output_type": "execute_result",
          "data": {
            "text/html": [
              "<div>\n",
              "<style scoped>\n",
              "    .dataframe tbody tr th:only-of-type {\n",
              "        vertical-align: middle;\n",
              "    }\n",
              "\n",
              "    .dataframe tbody tr th {\n",
              "        vertical-align: top;\n",
              "    }\n",
              "\n",
              "    .dataframe thead th {\n",
              "        text-align: right;\n",
              "    }\n",
              "</style>\n",
              "<table border=\"1\" class=\"dataframe\">\n",
              "  <thead>\n",
              "    <tr style=\"text-align: right;\">\n",
              "      <th></th>\n",
              "      <th>Household Counts</th>\n",
              "      <th>Wants to buy Security Devices</th>\n",
              "      <th>Will Switch Brands</th>\n",
              "      <th>High &amp; Medium IPA</th>\n",
              "      <th>Pay more to buy Top Quality Electronics</th>\n",
              "    </tr>\n",
              "    <tr>\n",
              "      <th>Segments</th>\n",
              "      <th></th>\n",
              "      <th></th>\n",
              "      <th></th>\n",
              "      <th></th>\n",
              "      <th></th>\n",
              "    </tr>\n",
              "  </thead>\n",
              "  <tbody>\n",
              "    <tr>\n",
              "      <th>Comfortable Retirees</th>\n",
              "      <td>0.06</td>\n",
              "      <td>0.02</td>\n",
              "      <td>0.05</td>\n",
              "      <td>0.01</td>\n",
              "      <td>0.04</td>\n",
              "    </tr>\n",
              "    <tr>\n",
              "      <th>Diverse Workers</th>\n",
              "      <td>0.15</td>\n",
              "      <td>0.05</td>\n",
              "      <td>0.16</td>\n",
              "      <td>0.00</td>\n",
              "      <td>0.13</td>\n",
              "    </tr>\n",
              "    <tr>\n",
              "      <th>Elder Midscale Class</th>\n",
              "      <td>0.08</td>\n",
              "      <td>0.07</td>\n",
              "      <td>0.07</td>\n",
              "      <td>0.04</td>\n",
              "      <td>0.07</td>\n",
              "    </tr>\n",
              "    <tr>\n",
              "      <th>Elite Households</th>\n",
              "      <td>0.06</td>\n",
              "      <td>0.13</td>\n",
              "      <td>0.06</td>\n",
              "      <td>0.20</td>\n",
              "      <td>0.08</td>\n",
              "    </tr>\n",
              "    <tr>\n",
              "      <th>Mass Markets</th>\n",
              "      <td>0.14</td>\n",
              "      <td>0.13</td>\n",
              "      <td>0.15</td>\n",
              "      <td>0.01</td>\n",
              "      <td>0.15</td>\n",
              "    </tr>\n",
              "    <tr>\n",
              "      <th>Modest Families</th>\n",
              "      <td>0.06</td>\n",
              "      <td>0.04</td>\n",
              "      <td>0.07</td>\n",
              "      <td>0.00</td>\n",
              "      <td>0.06</td>\n",
              "    </tr>\n",
              "    <tr>\n",
              "      <th>Prosperous Acheivers</th>\n",
              "      <td>0.06</td>\n",
              "      <td>0.14</td>\n",
              "      <td>0.05</td>\n",
              "      <td>0.19</td>\n",
              "      <td>0.06</td>\n",
              "    </tr>\n",
              "    <tr>\n",
              "      <th>Upscale Matures</th>\n",
              "      <td>0.05</td>\n",
              "      <td>0.07</td>\n",
              "      <td>0.04</td>\n",
              "      <td>0.14</td>\n",
              "      <td>0.04</td>\n",
              "    </tr>\n",
              "    <tr>\n",
              "      <th>Well-heeled Affluents</th>\n",
              "      <td>0.04</td>\n",
              "      <td>0.19</td>\n",
              "      <td>0.04</td>\n",
              "      <td>0.14</td>\n",
              "      <td>0.05</td>\n",
              "    </tr>\n",
              "    <tr>\n",
              "      <th>Young Affluent Mobiles</th>\n",
              "      <td>0.09</td>\n",
              "      <td>0.07</td>\n",
              "      <td>0.09</td>\n",
              "      <td>0.11</td>\n",
              "      <td>0.11</td>\n",
              "    </tr>\n",
              "    <tr>\n",
              "      <th>Young Upscale Families</th>\n",
              "      <td>0.10</td>\n",
              "      <td>0.06</td>\n",
              "      <td>0.10</td>\n",
              "      <td>0.16</td>\n",
              "      <td>0.12</td>\n",
              "    </tr>\n",
              "    <tr>\n",
              "      <th>Young Urban Masses</th>\n",
              "      <td>0.11</td>\n",
              "      <td>0.02</td>\n",
              "      <td>0.12</td>\n",
              "      <td>0.00</td>\n",
              "      <td>0.11</td>\n",
              "    </tr>\n",
              "  </tbody>\n",
              "</table>\n",
              "</div>"
            ],
            "text/plain": [
              "                        Household Counts  ...  Pay more to buy Top Quality Electronics\n",
              "Segments                                  ...                                         \n",
              "Comfortable Retirees                0.06  ...                                     0.04\n",
              "Diverse Workers                     0.15  ...                                     0.13\n",
              "Elder Midscale Class                0.08  ...                                     0.07\n",
              "Elite Households                    0.06  ...                                     0.08\n",
              "Mass Markets                        0.14  ...                                     0.15\n",
              "Modest Families                     0.06  ...                                     0.06\n",
              "Prosperous Acheivers                0.06  ...                                     0.06\n",
              "Upscale Matures                     0.05  ...                                     0.04\n",
              "Well-heeled Affluents               0.04  ...                                     0.05\n",
              "Young Affluent Mobiles              0.09  ...                                     0.11\n",
              "Young Upscale Families              0.10  ...                                     0.12\n",
              "Young Urban Masses                  0.11  ...                                     0.11\n",
              "\n",
              "[12 rows x 5 columns]"
            ]
          },
          "metadata": {
            "tags": []
          },
          "execution_count": 526
        }
      ]
    },
    {
      "cell_type": "code",
      "metadata": {
        "id": "2j4NUx-pmGkb",
        "colab_type": "code",
        "colab": {}
      },
      "source": [
        "# Percentage share of segments in each attribute\n",
        "df_segmentation_per.to_csv(r\"/gdrive/My Drive/Colab Notebooks/Data/PROJ/01_pandas/files/final/data/05_segmentation_perc.csv\", sep = ',')"
      ],
      "execution_count": 0,
      "outputs": []
    },
    {
      "cell_type": "code",
      "metadata": {
        "id": "abJQiIuFnra6",
        "colab_type": "code",
        "outputId": "9836a34e-1307-49c3-81be-017d06d770da",
        "colab": {
          "base_uri": "https://localhost:8080/",
          "height": 484
        }
      },
      "source": [
        "%%HTML\n",
        "<div style=\"border-right: 600px solid WhiteSmoke;\"><div style=\"border-left: 100px solid WhiteSmoke;\"><div style=\"border-top: 20px solid WhiteSmoke;\"><div style=\"border-bottom: 20px solid WhiteSmoke;\"><param name=\"showShareOptions\" value=\"false\" />\n",
        "<div class='tableauPlaceholder' id='viz1568567918402' style='position: relative'><noscript><a href='#'><img alt=' ' src='https:&#47;&#47;public.tableau.com&#47;static&#47;images&#47;20&#47;2019_09_06_pd_01_df_segmentation_perc&#47;Dashboard2&#47;1_rss.png' style='border: none' /></a></noscript><object class='tableauViz'  style='display:none;'><param name='host_url' value='https%3A%2F%2Fpublic.tableau.com%2F' /> <param name='embed_code_version' value='3' /> <param name='site_root' value='' /><param name=\"showShareOptions\" value=\"false\" /><param name='name' value='2019_09_06_pd_01_df_segmentation_perc&#47;Dashboard2' /><param name='tabs' value='no' /><param name='toolbar' value='yes' /><param name='static_image' value='https:&#47;&#47;public.tableau.com&#47;static&#47;images&#47;20&#47;2019_09_06_pd_01_df_segmentation_perc&#47;Dashboard2&#47;1.png' /> <param name='animate_transition' value='yes' /><param name='display_static_image' value='yes' /><param name='display_spinner' value='yes' /><param name='display_overlay' value='yes' /><param name='display_count' value='yes' /><param name='filter' value='publish=yes' /></object></div>                <script type='text/javascript'>                    var divElement = document.getElementById('viz1568567918402');                    var vizElement = divElement.getElementsByTagName('object')[0];                    vizElement.style.width='800px';vizElement.style.height='427px';                    var scriptElement = document.createElement('script');                    scriptElement.src = 'https://public.tableau.com/javascripts/api/viz_v1.js';                    vizElement.parentNode.insertBefore(scriptElement, vizElement);                </script>"
      ],
      "execution_count": 0,
      "outputs": [
        {
          "output_type": "display_data",
          "data": {
            "text/html": [
              "<div style=\"border-right: 600px solid WhiteSmoke;\"><div style=\"border-left: 100px solid WhiteSmoke;\"><div style=\"border-top: 20px solid WhiteSmoke;\"><div style=\"border-bottom: 20px solid WhiteSmoke;\"><param name=\"showShareOptions\" value=\"false\" />\n",
              "<div class='tableauPlaceholder' id='viz1568567918402' style='position: relative'><noscript><a href='#'><img alt=' ' src='https:&#47;&#47;public.tableau.com&#47;static&#47;images&#47;20&#47;2019_09_06_pd_01_df_segmentation_perc&#47;Dashboard2&#47;1_rss.png' style='border: none' /></a></noscript><object class='tableauViz'  style='display:none;'><param name='host_url' value='https%3A%2F%2Fpublic.tableau.com%2F' /> <param name='embed_code_version' value='3' /> <param name='site_root' value='' /><param name=\"showShareOptions\" value=\"false\" /><param name='name' value='2019_09_06_pd_01_df_segmentation_perc&#47;Dashboard2' /><param name='tabs' value='no' /><param name='toolbar' value='yes' /><param name='static_image' value='https:&#47;&#47;public.tableau.com&#47;static&#47;images&#47;20&#47;2019_09_06_pd_01_df_segmentation_perc&#47;Dashboard2&#47;1.png' /> <param name='animate_transition' value='yes' /><param name='display_static_image' value='yes' /><param name='display_spinner' value='yes' /><param name='display_overlay' value='yes' /><param name='display_count' value='yes' /><param name='filter' value='publish=yes' /></object></div>                <script type='text/javascript'>                    var divElement = document.getElementById('viz1568567918402');                    var vizElement = divElement.getElementsByTagName('object')[0];                    vizElement.style.width='800px';vizElement.style.height='427px';                    var scriptElement = document.createElement('script');                    scriptElement.src = 'https://public.tableau.com/javascripts/api/viz_v1.js';                    vizElement.parentNode.insertBefore(scriptElement, vizElement);                </script>"
            ],
            "text/plain": [
              "<IPython.core.display.HTML object>"
            ]
          },
          "metadata": {
            "tags": []
          }
        }
      ]
    },
    {
      "cell_type": "code",
      "metadata": {
        "id": "lWtdjOCqmu8k",
        "colab_type": "code",
        "colab": {}
      },
      "source": [
        "# Weighted scoring method\n",
        "# Based on relevance degree, apply appropriate weights to variables to calculate final weighted average scores\n",
        "df_segmentation_we_25 = df_segmentation_per[['Household Counts','Will Switch Brands']]*0.25\n",
        "df_segmentation_we_10 = df_segmentation_per[['High & Medium IPA','Pay more to buy Top Quality Electronics']]*0.10\n",
        "df_segmentation_we_30 = df_segmentation_per[['Wants to buy Security Devices']]*0.30"
      ],
      "execution_count": 0,
      "outputs": []
    },
    {
      "cell_type": "code",
      "metadata": {
        "id": "ghWeCIXPLc91",
        "colab_type": "code",
        "colab": {}
      },
      "source": [
        "df_segmentation_we = pd.concat([df_segmentation_we_25, df_segmentation_we_10, df_segmentation_we_30], axis=1)\n",
        "df_segmentation_we = df_segmentation_we[['Household Counts',\n",
        " 'Wants to buy Security Devices',\n",
        " 'Will Switch Brands',\n",
        " 'High & Medium IPA',\n",
        " 'Pay more to buy Top Quality Electronics']]\n",
        "df_segmentation_we['Total'] = df_segmentation_we.sum(axis=1)\n",
        "df_segmentation_we.sort_values('Total', axis = 0, ascending = False, \n",
        "                 inplace = True, na_position ='last')"
      ],
      "execution_count": 0,
      "outputs": []
    },
    {
      "cell_type": "code",
      "metadata": {
        "id": "C9B2Xv_rhF3y",
        "colab_type": "code",
        "colab": {}
      },
      "source": [
        "df_segmentation_we.to_csv(r\"/gdrive/My Drive/Colab Notebooks/Data/PROJ/01_pandas/files/final/data/06_segmentation_perc_we.csv\", sep = ',')"
      ],
      "execution_count": 0,
      "outputs": []
    },
    {
      "cell_type": "code",
      "metadata": {
        "id": "TwpBWpC9ktXN",
        "colab_type": "code",
        "outputId": "27e958de-5a62-4a23-b84f-6d64dc9b0a24",
        "colab": {
          "base_uri": "https://localhost:8080/",
          "height": 421
        }
      },
      "source": [
        "df_segmentation_we = pd.read_csv(\"/gdrive/My Drive/Colab Notebooks/Data/PROJ/01_pandas/files/final/data/06_segmentation_perc_we.csv\", sep = ',', low_memory=False)\n",
        "df_segmentation_we.sort_values('Total', axis = 0, ascending = False, \n",
        "                 inplace = True, na_position ='last')\n",
        "df_segmentation_we = df_segmentation_we.round(3)\n",
        "df_segmentation_we"
      ],
      "execution_count": 0,
      "outputs": [
        {
          "output_type": "execute_result",
          "data": {
            "text/html": [
              "<div>\n",
              "<style scoped>\n",
              "    .dataframe tbody tr th:only-of-type {\n",
              "        vertical-align: middle;\n",
              "    }\n",
              "\n",
              "    .dataframe tbody tr th {\n",
              "        vertical-align: top;\n",
              "    }\n",
              "\n",
              "    .dataframe thead th {\n",
              "        text-align: right;\n",
              "    }\n",
              "</style>\n",
              "<table border=\"1\" class=\"dataframe\">\n",
              "  <thead>\n",
              "    <tr style=\"text-align: right;\">\n",
              "      <th></th>\n",
              "      <th>Segments</th>\n",
              "      <th>Household Counts</th>\n",
              "      <th>Wants to buy Security Devices</th>\n",
              "      <th>Will Switch Brands</th>\n",
              "      <th>High &amp; Medium IPA</th>\n",
              "      <th>Pay more to buy Top Quality Electronics</th>\n",
              "      <th>Total</th>\n",
              "    </tr>\n",
              "  </thead>\n",
              "  <tbody>\n",
              "    <tr>\n",
              "      <th>0</th>\n",
              "      <td>Mass Markets</td>\n",
              "      <td>0.036</td>\n",
              "      <td>0.040</td>\n",
              "      <td>0.037</td>\n",
              "      <td>0.001</td>\n",
              "      <td>0.015</td>\n",
              "      <td>0.128</td>\n",
              "    </tr>\n",
              "    <tr>\n",
              "      <th>1</th>\n",
              "      <td>Diverse Workers</td>\n",
              "      <td>0.036</td>\n",
              "      <td>0.016</td>\n",
              "      <td>0.039</td>\n",
              "      <td>0.000</td>\n",
              "      <td>0.013</td>\n",
              "      <td>0.104</td>\n",
              "    </tr>\n",
              "    <tr>\n",
              "      <th>3</th>\n",
              "      <td>Well-heeled Affluents</td>\n",
              "      <td>0.011</td>\n",
              "      <td>0.058</td>\n",
              "      <td>0.009</td>\n",
              "      <td>0.014</td>\n",
              "      <td>0.005</td>\n",
              "      <td>0.097</td>\n",
              "    </tr>\n",
              "    <tr>\n",
              "      <th>2</th>\n",
              "      <td>Young Upscale Families</td>\n",
              "      <td>0.026</td>\n",
              "      <td>0.018</td>\n",
              "      <td>0.025</td>\n",
              "      <td>0.016</td>\n",
              "      <td>0.012</td>\n",
              "      <td>0.097</td>\n",
              "    </tr>\n",
              "    <tr>\n",
              "      <th>4</th>\n",
              "      <td>Elite Households</td>\n",
              "      <td>0.015</td>\n",
              "      <td>0.038</td>\n",
              "      <td>0.015</td>\n",
              "      <td>0.020</td>\n",
              "      <td>0.008</td>\n",
              "      <td>0.096</td>\n",
              "    </tr>\n",
              "    <tr>\n",
              "      <th>5</th>\n",
              "      <td>Prosperous Acheivers</td>\n",
              "      <td>0.015</td>\n",
              "      <td>0.042</td>\n",
              "      <td>0.012</td>\n",
              "      <td>0.019</td>\n",
              "      <td>0.006</td>\n",
              "      <td>0.094</td>\n",
              "    </tr>\n",
              "    <tr>\n",
              "      <th>6</th>\n",
              "      <td>Young Affluent Mobiles</td>\n",
              "      <td>0.022</td>\n",
              "      <td>0.021</td>\n",
              "      <td>0.023</td>\n",
              "      <td>0.011</td>\n",
              "      <td>0.011</td>\n",
              "      <td>0.088</td>\n",
              "    </tr>\n",
              "    <tr>\n",
              "      <th>7</th>\n",
              "      <td>Young Urban Masses</td>\n",
              "      <td>0.027</td>\n",
              "      <td>0.007</td>\n",
              "      <td>0.029</td>\n",
              "      <td>0.000</td>\n",
              "      <td>0.011</td>\n",
              "      <td>0.074</td>\n",
              "    </tr>\n",
              "    <tr>\n",
              "      <th>8</th>\n",
              "      <td>Elder Midscale Class</td>\n",
              "      <td>0.021</td>\n",
              "      <td>0.021</td>\n",
              "      <td>0.019</td>\n",
              "      <td>0.004</td>\n",
              "      <td>0.007</td>\n",
              "      <td>0.071</td>\n",
              "    </tr>\n",
              "    <tr>\n",
              "      <th>9</th>\n",
              "      <td>Upscale Matures</td>\n",
              "      <td>0.012</td>\n",
              "      <td>0.022</td>\n",
              "      <td>0.010</td>\n",
              "      <td>0.014</td>\n",
              "      <td>0.004</td>\n",
              "      <td>0.063</td>\n",
              "    </tr>\n",
              "    <tr>\n",
              "      <th>10</th>\n",
              "      <td>Modest Families</td>\n",
              "      <td>0.016</td>\n",
              "      <td>0.011</td>\n",
              "      <td>0.018</td>\n",
              "      <td>0.000</td>\n",
              "      <td>0.006</td>\n",
              "      <td>0.051</td>\n",
              "    </tr>\n",
              "    <tr>\n",
              "      <th>11</th>\n",
              "      <td>Comfortable Retirees</td>\n",
              "      <td>0.014</td>\n",
              "      <td>0.006</td>\n",
              "      <td>0.013</td>\n",
              "      <td>0.001</td>\n",
              "      <td>0.004</td>\n",
              "      <td>0.037</td>\n",
              "    </tr>\n",
              "  </tbody>\n",
              "</table>\n",
              "</div>"
            ],
            "text/plain": [
              "                  Segments  ...  Total\n",
              "0             Mass Markets  ...  0.128\n",
              "1          Diverse Workers  ...  0.104\n",
              "3    Well-heeled Affluents  ...  0.097\n",
              "2   Young Upscale Families  ...  0.097\n",
              "4         Elite Households  ...  0.096\n",
              "5     Prosperous Acheivers  ...  0.094\n",
              "6   Young Affluent Mobiles  ...  0.088\n",
              "7       Young Urban Masses  ...  0.074\n",
              "8     Elder Midscale Class  ...  0.071\n",
              "9          Upscale Matures  ...  0.063\n",
              "10         Modest Families  ...  0.051\n",
              "11    Comfortable Retirees  ...  0.037\n",
              "\n",
              "[12 rows x 7 columns]"
            ]
          },
          "metadata": {
            "tags": []
          },
          "execution_count": 603
        }
      ]
    },
    {
      "cell_type": "markdown",
      "metadata": {
        "id": "MuHhnuYTg0L1",
        "colab_type": "text"
      },
      "source": [
        "#### Segmentation Criteria\n",
        "\n",
        "After applied the appropriate weights to the variables a total weighted score results the Top 3 Customer Segments to target:\n",
        "\n",
        "\n",
        "\n"
      ]
    },
    {
      "cell_type": "code",
      "metadata": {
        "id": "ZYYfPmVbYo2h",
        "colab_type": "code",
        "outputId": "0439e010-25d1-41e0-c9f7-9907ef979857",
        "colab": {
          "base_uri": "https://localhost:8080/",
          "height": 457
        }
      },
      "source": [
        "%%HTML\n",
        "<iframe width=\"420\" height=\"436\" src=\"https://app.powerbi.com/view?r=eyJrIjoiMTAwODYzOWYtYzY5ZC00NjJmLTljZTAtMmJhYmVkMGE0ZDdkIiwidCI6ImMzYTZiMzgzLTg0ZjctNDYyYi1hMWEzLTlhODU0M2EzYzMyYSIsImMiOjZ9\" frameborder=\"0\" allowFullScreen=\"true\"></iframe>"
      ],
      "execution_count": 0,
      "outputs": [
        {
          "output_type": "display_data",
          "data": {
            "text/html": [
              "<iframe width=\"420\" height=\"436\" src=\"https://app.powerbi.com/view?r=eyJrIjoiMTAwODYzOWYtYzY5ZC00NjJmLTljZTAtMmJhYmVkMGE0ZDdkIiwidCI6ImMzYTZiMzgzLTg0ZjctNDYyYi1hMWEzLTlhODU0M2EzYzMyYSIsImMiOjZ9\" frameborder=\"0\" allowFullScreen=\"true\"></iframe>"
            ],
            "text/plain": [
              "<IPython.core.display.HTML object>"
            ]
          },
          "metadata": {
            "tags": []
          }
        }
      ]
    },
    {
      "cell_type": "code",
      "metadata": {
        "id": "8gr2kJA-qUHr",
        "colab_type": "code",
        "outputId": "a0fd4cc4-c446-4760-b8cf-e5c860375e6e",
        "colab": {
          "base_uri": "https://localhost:8080/",
          "height": 384
        }
      },
      "source": [
        "%%HTML\n",
        "<div style=\"border-right: 600px solid WhiteSmoke;\"><div style=\"border-left: 100px solid WhiteSmoke;\"><div style=\"border-top: 20px solid WhiteSmoke;\"><div style=\"border-bottom: 20px solid WhiteSmoke;\"><param name=\"showShareOptions\" value=\"false\" />\n",
        "<div class='tableauPlaceholder' id='viz1568580100057' style='position: relative'><noscript><a href='#'><img alt=' ' src='https:&#47;&#47;public.tableau.com&#47;static&#47;images&#47;20&#47;2019_09_06_pd_top3&#47;Dashboard1&#47;1_rss.png' style='border: none' /></a></noscript><object class='tableauViz'  style='display:none;'><param name='host_url' value='https%3A%2F%2Fpublic.tableau.com%2F' /> <param name='embed_code_version' value='3' /> <param name='site_root' value='' /><param name=\"showShareOptions\" value=\"false\" /><param name='name' value='2019_09_06_pd_top3&#47;Dashboard1' /><param name='tabs' value='no' /><param name='toolbar' value='yes' /><param name='static_image' value='https:&#47;&#47;public.tableau.com&#47;static&#47;images&#47;20&#47;2019_09_06_pd_top3&#47;Dashboard1&#47;1.png' /> <param name='animate_transition' value='yes' /><param name='display_static_image' value='yes' /><param name='display_spinner' value='yes' /><param name='display_overlay' value='yes' /><param name='display_count' value='yes' /><param name='filter' value='publish=yes' /></object></div>                <script type='text/javascript'>                    var divElement = document.getElementById('viz1568580100057');                    var vizElement = divElement.getElementsByTagName('object')[0];                    vizElement.style.width='800px';vizElement.style.height='327px';                    var scriptElement = document.createElement('script');                    scriptElement.src = 'https://public.tableau.com/javascripts/api/viz_v1.js';                    vizElement.parentNode.insertBefore(scriptElement, vizElement);                </script>"
      ],
      "execution_count": 0,
      "outputs": [
        {
          "output_type": "display_data",
          "data": {
            "text/html": [
              "<div style=\"border-right: 600px solid WhiteSmoke;\"><div style=\"border-left: 100px solid WhiteSmoke;\"><div style=\"border-top: 20px solid WhiteSmoke;\"><div style=\"border-bottom: 20px solid WhiteSmoke;\"><param name=\"showShareOptions\" value=\"false\" />\n",
              "<div class='tableauPlaceholder' id='viz1568580100057' style='position: relative'><noscript><a href='#'><img alt=' ' src='https:&#47;&#47;public.tableau.com&#47;static&#47;images&#47;20&#47;2019_09_06_pd_top3&#47;Dashboard1&#47;1_rss.png' style='border: none' /></a></noscript><object class='tableauViz'  style='display:none;'><param name='host_url' value='https%3A%2F%2Fpublic.tableau.com%2F' /> <param name='embed_code_version' value='3' /> <param name='site_root' value='' /><param name=\"showShareOptions\" value=\"false\" /><param name='name' value='2019_09_06_pd_top3&#47;Dashboard1' /><param name='tabs' value='no' /><param name='toolbar' value='yes' /><param name='static_image' value='https:&#47;&#47;public.tableau.com&#47;static&#47;images&#47;20&#47;2019_09_06_pd_top3&#47;Dashboard1&#47;1.png' /> <param name='animate_transition' value='yes' /><param name='display_static_image' value='yes' /><param name='display_spinner' value='yes' /><param name='display_overlay' value='yes' /><param name='display_count' value='yes' /><param name='filter' value='publish=yes' /></object></div>                <script type='text/javascript'>                    var divElement = document.getElementById('viz1568580100057');                    var vizElement = divElement.getElementsByTagName('object')[0];                    vizElement.style.width='800px';vizElement.style.height='327px';                    var scriptElement = document.createElement('script');                    scriptElement.src = 'https://public.tableau.com/javascripts/api/viz_v1.js';                    vizElement.parentNode.insertBefore(scriptElement, vizElement);                </script>"
            ],
            "text/plain": [
              "<IPython.core.display.HTML object>"
            ]
          },
          "metadata": {
            "tags": []
          }
        }
      ]
    },
    {
      "cell_type": "markdown",
      "metadata": {
        "id": "l6yJdjB_QzPv",
        "colab_type": "text"
      },
      "source": [
        "#### TOP 3 Segments - Closer Look"
      ]
    },
    {
      "cell_type": "code",
      "metadata": {
        "id": "msatwhdaWjPl",
        "colab_type": "code",
        "outputId": "3ac1f861-3dd5-4510-9d4f-e0569e38d47f",
        "colab": {
          "base_uri": "https://localhost:8080/",
          "height": 584
        }
      },
      "source": [
        "%%HTML\n",
        "<div style=\"border-right: 600px solid WhiteSmoke;\"><div style=\"border-left: 100px solid WhiteSmoke;\"><div style=\"border-top: 20px solid WhiteSmoke;\"><div style=\"border-bottom: 20px solid WhiteSmoke;\"><param name=\"showShareOptions\" value=\"false\" />\n",
        "<div class='tableauPlaceholder' id='viz1568593199349' style='position: relative'><noscript><a href='#'><img alt=' ' src='https:&#47;&#47;public.tableau.com&#47;static&#47;images&#47;20&#47;2019_09_06_pd_dash&#47;Top3Segments&#47;1_rss.png' style='border: none' /></a></noscript><object class='tableauViz'  style='display:none;'><param name='host_url' value='https%3A%2F%2Fpublic.tableau.com%2F' /> <param name='embed_code_version' value='3' /> <param name='path' value='views&#47;2019_09_06_pd_dash&#47;Top3Segments?:embed=y&amp;:display_count=y&amp;publish=yes' /> <param name='toolbar' value='yes' /><param name=\"showShareOptions\" value=\"false\" /><param name='static_image' value='https:&#47;&#47;public.tableau.com&#47;static&#47;images&#47;20&#47;2019_09_06_pd_dash&#47;Top3Segments&#47;1.png' /> <param name='animate_transition' value='yes' /><param name='display_static_image' value='yes' /><param name='display_spinner' value='yes' /><param name='display_overlay' value='yes' /><param name='display_count' value='yes' /><param name='filter' value='publish=yes' /></object></div>                <script type='text/javascript'>                    var divElement = document.getElementById('viz1568593199349');                    var vizElement = divElement.getElementsByTagName('object')[0];                    if ( divElement.offsetWidth > 800 ) { vizElement.style.width='800px';vizElement.style.height='527px';} else if ( divElement.offsetWidth > 500 ) { vizElement.style.width='800px';vizElement.style.height='527px';} else { vizElement.style.width='100%';vizElement.style.height='1077px';}                     var scriptElement = document.createElement('script');                    scriptElement.src = 'https://public.tableau.com/javascripts/api/viz_v1.js';                    vizElement.parentNode.insertBefore(scriptElement, vizElement);                </script>"
      ],
      "execution_count": 0,
      "outputs": [
        {
          "output_type": "display_data",
          "data": {
            "text/html": [
              "<div style=\"border-right: 600px solid WhiteSmoke;\"><div style=\"border-left: 100px solid WhiteSmoke;\"><div style=\"border-top: 20px solid WhiteSmoke;\"><div style=\"border-bottom: 20px solid WhiteSmoke;\"><param name=\"showShareOptions\" value=\"false\" />\n",
              "<div class='tableauPlaceholder' id='viz1568593199349' style='position: relative'><noscript><a href='#'><img alt=' ' src='https:&#47;&#47;public.tableau.com&#47;static&#47;images&#47;20&#47;2019_09_06_pd_dash&#47;Top3Segments&#47;1_rss.png' style='border: none' /></a></noscript><object class='tableauViz'  style='display:none;'><param name='host_url' value='https%3A%2F%2Fpublic.tableau.com%2F' /> <param name='embed_code_version' value='3' /> <param name='path' value='views&#47;2019_09_06_pd_dash&#47;Top3Segments?:embed=y&amp;:display_count=y&amp;publish=yes' /> <param name='toolbar' value='yes' /><param name=\"showShareOptions\" value=\"false\" /><param name='static_image' value='https:&#47;&#47;public.tableau.com&#47;static&#47;images&#47;20&#47;2019_09_06_pd_dash&#47;Top3Segments&#47;1.png' /> <param name='animate_transition' value='yes' /><param name='display_static_image' value='yes' /><param name='display_spinner' value='yes' /><param name='display_overlay' value='yes' /><param name='display_count' value='yes' /><param name='filter' value='publish=yes' /></object></div>                <script type='text/javascript'>                    var divElement = document.getElementById('viz1568593199349');                    var vizElement = divElement.getElementsByTagName('object')[0];                    if ( divElement.offsetWidth > 800 ) { vizElement.style.width='800px';vizElement.style.height='527px';} else if ( divElement.offsetWidth > 500 ) { vizElement.style.width='800px';vizElement.style.height='527px';} else { vizElement.style.width='100%';vizElement.style.height='1077px';}                     var scriptElement = document.createElement('script');                    scriptElement.src = 'https://public.tableau.com/javascripts/api/viz_v1.js';                    vizElement.parentNode.insertBefore(scriptElement, vizElement);                </script>"
            ],
            "text/plain": [
              "<IPython.core.display.HTML object>"
            ]
          },
          "metadata": {
            "tags": []
          }
        }
      ]
    }
  ]
}
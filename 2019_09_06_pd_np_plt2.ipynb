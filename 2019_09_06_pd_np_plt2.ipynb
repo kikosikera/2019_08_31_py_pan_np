{
  "nbformat": 4,
  "nbformat_minor": 0,
  "metadata": {
    "colab": {
      "name": "2019_09_06_pd_np_plt2.ipynb",
      "provenance": [],
      "collapsed_sections": [],
      "toc_visible": true,
      "include_colab_link": true
    },
    "kernelspec": {
      "name": "python3",
      "display_name": "Python 3"
    }
  },
  "cells": [
    {
      "cell_type": "markdown",
      "metadata": {
        "id": "view-in-github",
        "colab_type": "text"
      },
      "source": [
        "<a href=\"https://colab.research.google.com/github/kikosikera/2019_08_31_py_pan_np/blob/master/2019_09_06_pd_np_plt2.ipynb\" target=\"_parent\"><img src=\"https://colab.research.google.com/assets/colab-badge.svg\" alt=\"Open In Colab\"/></a>"
      ]
    },
    {
      "cell_type": "markdown",
      "metadata": {
        "id": "Ik75HmI6YHSp",
        "colab_type": "text"
      },
      "source": [
        "# Phase 2 - Final Report \n",
        "#### Demographics Analysis\n",
        "Select Top 5 Cities to launch a New Security System"
      ]
    },
    {
      "cell_type": "markdown",
      "metadata": {
        "id": "AXkeO84v3SVd",
        "colab_type": "text"
      },
      "source": [
        "### Methodology\n",
        "•\tCreate a city wise master dataset with attributes like combine crime rate, population growth, housing growth and penetration of top segments\n",
        "\n",
        "•\tNormalize the variables to the same scale and calculate attractiveness score or opportunity for all cities\n",
        "\n",
        "•\tUsing the final score, rank the cities and create a combined strategy"
      ]
    },
    {
      "cell_type": "markdown",
      "metadata": {
        "id": "3jJLP34lz01G",
        "colab_type": "text"
      },
      "source": [
        "### Import Libraries and Datasets"
      ]
    },
    {
      "cell_type": "code",
      "metadata": {
        "id": "8wUecS_j1WGj",
        "colab_type": "code",
        "colab": {}
      },
      "source": [
        "import numpy as np\n",
        "import pandas as pd\n",
        "import matplotlib.pyplot as plt\n",
        "import seaborn as sns"
      ],
      "execution_count": 0,
      "outputs": []
    },
    {
      "cell_type": "code",
      "metadata": {
        "id": "0mMK5KikX3Kb",
        "colab_type": "code",
        "outputId": "d3d9a847-2e9b-49e7-8d3e-f3d6f58db82f",
        "colab": {
          "base_uri": "https://localhost:8080/",
          "height": 122
        }
      },
      "source": [
        "from google.colab import drive\n",
        "drive.mount('/gdrive/')"
      ],
      "execution_count": 0,
      "outputs": [
        {
          "output_type": "stream",
          "text": [
            "Go to this URL in a browser: https://accounts.google.com/o/oauth2/auth?client_id=947318989803-6bn6qk8qdgf4n4g3pfee6491hc0brc4i.apps.googleusercontent.com&redirect_uri=urn%3Aietf%3Awg%3Aoauth%3A2.0%3Aoob&scope=email%20https%3A%2F%2Fwww.googleapis.com%2Fauth%2Fdocs.test%20https%3A%2F%2Fwww.googleapis.com%2Fauth%2Fdrive%20https%3A%2F%2Fwww.googleapis.com%2Fauth%2Fdrive.photos.readonly%20https%3A%2F%2Fwww.googleapis.com%2Fauth%2Fpeopleapi.readonly&response_type=code\n",
            "\n",
            "Enter your authorization code:\n",
            "··········\n",
            "Mounted at /gdrive/\n"
          ],
          "name": "stdout"
        }
      ]
    },
    {
      "cell_type": "markdown",
      "metadata": {
        "id": "-TstGc0reYGm",
        "colab_type": "text"
      },
      "source": [
        "Download the datasets and read it all into a pandas dataframe."
      ]
    },
    {
      "cell_type": "code",
      "metadata": {
        "id": "MF2HATT8eajm",
        "colab_type": "code",
        "colab": {}
      },
      "source": [
        "# survey - Survey Data will have the segment distribution for the variables providing the right attribute which will be used to calculate propensity indices for the segments or markets\n",
        "df_survey = pd.read_csv(\"/gdrive/My Drive/Colab Notebooks/Data/PROJ/01_pandas/files/final/data/01_survey_data.csv\", sep = ',', low_memory=False)\n",
        "# segments - Segments and their description\n",
        "df_segments = pd.read_csv(\"/gdrive/My Drive/Colab Notebooks/Data/PROJ/01_pandas/files/final/data/02_city_segments.csv\", sep = ',', low_memory=False)\n",
        "# demographics - Market data will have attributes like combine crime rate, population growth, housing growth and penetration of top segments at state city level\n",
        "df_demographics = pd.read_csv(\"/gdrive/My Drive/Colab Notebooks/Data/PROJ/01_pandas/files/final/data/03_citywise_demographics.csv\", sep = ',', low_memory=False)"
      ],
      "execution_count": 0,
      "outputs": []
    },
    {
      "cell_type": "code",
      "metadata": {
        "id": "4o8HR12teiuY",
        "colab_type": "code",
        "outputId": "e5c972ef-fb51-4a93-9823-b139f5e8dedd",
        "colab": {
          "base_uri": "https://localhost:8080/",
          "height": 1000
        }
      },
      "source": [
        "# Demographics Master Dataset\n",
        "df_demographics.shape, list(df_demographics), df_demographics.notnull().sum()"
      ],
      "execution_count": 0,
      "outputs": [
        {
          "output_type": "execute_result",
          "data": {
            "text/plain": [
              "((6759, 28),\n",
              " ['Location',\n",
              "  'State',\n",
              "  'County',\n",
              "  'Land Area',\n",
              "  'WaterArea',\n",
              "  'Latitude',\n",
              "  'Longitude',\n",
              "  'Population Growth Rate',\n",
              "  'WhitePopulation',\n",
              "  'BlackPopulation',\n",
              "  'HispanicPopulation',\n",
              "  'AsianPopulation',\n",
              "  'HawaiianPopulation',\n",
              "  'IndianPopulation',\n",
              "  'OtherPopulation',\n",
              "  'MalePopulation',\n",
              "  'FemalePopulation',\n",
              "  'Number of Burgalaries reported',\n",
              "  'MedianAge',\n",
              "  'Crime Rate',\n",
              "  'Homicide Reported',\n",
              "  'CBSA_Type',\n",
              "  'FinanceNumber',\n",
              "  'Property Crime Rate',\n",
              "  'Housing Construction',\n",
              "  'HouseholdsPerZipCode',\n",
              "  'AverageHouseValue',\n",
              "  'Elevation'],\n",
              " Location                          6759\n",
              " State                             6756\n",
              " County                            6756\n",
              " Land Area                         6759\n",
              " WaterArea                         6759\n",
              " Latitude                          6756\n",
              " Longitude                         6756\n",
              " Population Growth Rate            6718\n",
              " WhitePopulation                   6756\n",
              " BlackPopulation                   6756\n",
              " HispanicPopulation                6756\n",
              " AsianPopulation                   6756\n",
              " HawaiianPopulation                6756\n",
              " IndianPopulation                  6756\n",
              " OtherPopulation                   6756\n",
              " MalePopulation                    6756\n",
              " FemalePopulation                  6756\n",
              " Number of Burgalaries reported    6726\n",
              " MedianAge                         6756\n",
              " Crime Rate                        6759\n",
              " Homicide Reported                 1386\n",
              " CBSA_Type                         5345\n",
              " FinanceNumber                     6756\n",
              " Property Crime Rate               6759\n",
              " Housing Construction              6718\n",
              " HouseholdsPerZipCode              6756\n",
              " AverageHouseValue                 6756\n",
              " Elevation                         6756\n",
              " dtype: int64)"
            ]
          },
          "metadata": {
            "tags": []
          },
          "execution_count": 4
        }
      ]
    },
    {
      "cell_type": "code",
      "metadata": {
        "id": "Wpui1n0mgqZi",
        "colab_type": "code",
        "outputId": "3d2642da-2a10-4234-8f27-a4f9b8f853b0",
        "colab": {
          "base_uri": "https://localhost:8080/",
          "height": 258
        }
      },
      "source": [
        "df_demographics.head(5)"
      ],
      "execution_count": 0,
      "outputs": [
        {
          "output_type": "execute_result",
          "data": {
            "text/html": [
              "<div>\n",
              "<style scoped>\n",
              "    .dataframe tbody tr th:only-of-type {\n",
              "        vertical-align: middle;\n",
              "    }\n",
              "\n",
              "    .dataframe tbody tr th {\n",
              "        vertical-align: top;\n",
              "    }\n",
              "\n",
              "    .dataframe thead th {\n",
              "        text-align: right;\n",
              "    }\n",
              "</style>\n",
              "<table border=\"1\" class=\"dataframe\">\n",
              "  <thead>\n",
              "    <tr style=\"text-align: right;\">\n",
              "      <th></th>\n",
              "      <th>Location</th>\n",
              "      <th>State</th>\n",
              "      <th>County</th>\n",
              "      <th>Land Area</th>\n",
              "      <th>WaterArea</th>\n",
              "      <th>Latitude</th>\n",
              "      <th>Longitude</th>\n",
              "      <th>Population Growth Rate</th>\n",
              "      <th>WhitePopulation</th>\n",
              "      <th>BlackPopulation</th>\n",
              "      <th>HispanicPopulation</th>\n",
              "      <th>AsianPopulation</th>\n",
              "      <th>HawaiianPopulation</th>\n",
              "      <th>IndianPopulation</th>\n",
              "      <th>OtherPopulation</th>\n",
              "      <th>MalePopulation</th>\n",
              "      <th>FemalePopulation</th>\n",
              "      <th>Number of Burgalaries reported</th>\n",
              "      <th>MedianAge</th>\n",
              "      <th>Crime Rate</th>\n",
              "      <th>Homicide Reported</th>\n",
              "      <th>CBSA_Type</th>\n",
              "      <th>FinanceNumber</th>\n",
              "      <th>Property Crime Rate</th>\n",
              "      <th>Housing Construction</th>\n",
              "      <th>HouseholdsPerZipCode</th>\n",
              "      <th>AverageHouseValue</th>\n",
              "      <th>Elevation</th>\n",
              "    </tr>\n",
              "  </thead>\n",
              "  <tbody>\n",
              "    <tr>\n",
              "      <th>0</th>\n",
              "      <td>Alabama|Abbeville</td>\n",
              "      <td>AL</td>\n",
              "      <td>Henry</td>\n",
              "      <td>107.7490</td>\n",
              "      <td>3.1280</td>\n",
              "      <td>31.593513</td>\n",
              "      <td>-85.228148</td>\n",
              "      <td>-1.41%</td>\n",
              "      <td>2186.0</td>\n",
              "      <td>1152.0</td>\n",
              "      <td>78.0</td>\n",
              "      <td>18.0</td>\n",
              "      <td>3.0</td>\n",
              "      <td>25.0</td>\n",
              "      <td>45.0</td>\n",
              "      <td>1647.0</td>\n",
              "      <td>1745.0</td>\n",
              "      <td>4.0</td>\n",
              "      <td>46.2</td>\n",
              "      <td>93</td>\n",
              "      <td>NaN</td>\n",
              "      <td>Metro</td>\n",
              "      <td>10020.0</td>\n",
              "      <td>42.5</td>\n",
              "      <td>0.93%</td>\n",
              "      <td>1412.0</td>\n",
              "      <td>88900.0</td>\n",
              "      <td>499.0</td>\n",
              "    </tr>\n",
              "    <tr>\n",
              "      <th>1</th>\n",
              "      <td>Alabama|Adamsville</td>\n",
              "      <td>AL</td>\n",
              "      <td>Jefferson</td>\n",
              "      <td>17.2545</td>\n",
              "      <td>0.1725</td>\n",
              "      <td>33.592857</td>\n",
              "      <td>-86.994015</td>\n",
              "      <td>-2.09%</td>\n",
              "      <td>2399.0</td>\n",
              "      <td>1511.0</td>\n",
              "      <td>79.0</td>\n",
              "      <td>17.0</td>\n",
              "      <td>3.0</td>\n",
              "      <td>41.0</td>\n",
              "      <td>45.0</td>\n",
              "      <td>1903.0</td>\n",
              "      <td>2068.0</td>\n",
              "      <td>10.0</td>\n",
              "      <td>39.6</td>\n",
              "      <td>403</td>\n",
              "      <td>NaN</td>\n",
              "      <td>Metro</td>\n",
              "      <td>10050.0</td>\n",
              "      <td>186.5</td>\n",
              "      <td>-0.69%</td>\n",
              "      <td>1534.0</td>\n",
              "      <td>97100.0</td>\n",
              "      <td>600.0</td>\n",
              "    </tr>\n",
              "    <tr>\n",
              "      <th>2</th>\n",
              "      <td>Alabama|Addison</td>\n",
              "      <td>AL</td>\n",
              "      <td>Winston</td>\n",
              "      <td>36.8680</td>\n",
              "      <td>0.2910</td>\n",
              "      <td>34.202745</td>\n",
              "      <td>-87.204788</td>\n",
              "      <td>-1.64%</td>\n",
              "      <td>1197.0</td>\n",
              "      <td>2.0</td>\n",
              "      <td>14.0</td>\n",
              "      <td>2.0</td>\n",
              "      <td>0.0</td>\n",
              "      <td>9.0</td>\n",
              "      <td>9.0</td>\n",
              "      <td>613.0</td>\n",
              "      <td>595.0</td>\n",
              "      <td>1.0</td>\n",
              "      <td>40.5</td>\n",
              "      <td>32</td>\n",
              "      <td>NaN</td>\n",
              "      <td>NaN</td>\n",
              "      <td>10060.0</td>\n",
              "      <td>15.5</td>\n",
              "      <td>2.64%</td>\n",
              "      <td>501.0</td>\n",
              "      <td>88700.0</td>\n",
              "      <td>827.0</td>\n",
              "    </tr>\n",
              "    <tr>\n",
              "      <th>3</th>\n",
              "      <td>Alabama|Alabaster</td>\n",
              "      <td>AL</td>\n",
              "      <td>Shelby</td>\n",
              "      <td>18.6895</td>\n",
              "      <td>0.3350</td>\n",
              "      <td>33.218709</td>\n",
              "      <td>-86.783546</td>\n",
              "      <td>1.25%</td>\n",
              "      <td>10545.0</td>\n",
              "      <td>1834.0</td>\n",
              "      <td>1338.0</td>\n",
              "      <td>154.0</td>\n",
              "      <td>12.0</td>\n",
              "      <td>108.0</td>\n",
              "      <td>696.0</td>\n",
              "      <td>6443.0</td>\n",
              "      <td>6670.0</td>\n",
              "      <td>19.0</td>\n",
              "      <td>35.6</td>\n",
              "      <td>670</td>\n",
              "      <td>0.5</td>\n",
              "      <td>Metro</td>\n",
              "      <td>10105.0</td>\n",
              "      <td>306</td>\n",
              "      <td>-2.25%</td>\n",
              "      <td>4590.0</td>\n",
              "      <td>160100.0</td>\n",
              "      <td>524.0</td>\n",
              "    </tr>\n",
              "    <tr>\n",
              "      <th>4</th>\n",
              "      <td>Alabama|Albertville</td>\n",
              "      <td>AL</td>\n",
              "      <td>Marshall</td>\n",
              "      <td>58.7030</td>\n",
              "      <td>0.5325</td>\n",
              "      <td>34.251568</td>\n",
              "      <td>-86.256980</td>\n",
              "      <td>-0.02%</td>\n",
              "      <td>8165.0</td>\n",
              "      <td>260.0</td>\n",
              "      <td>2794.0</td>\n",
              "      <td>62.0</td>\n",
              "      <td>30.0</td>\n",
              "      <td>181.0</td>\n",
              "      <td>1979.0</td>\n",
              "      <td>5206.0</td>\n",
              "      <td>5207.0</td>\n",
              "      <td>5.0</td>\n",
              "      <td>32.4</td>\n",
              "      <td>779</td>\n",
              "      <td>0.5</td>\n",
              "      <td>Micro</td>\n",
              "      <td>10120.0</td>\n",
              "      <td>378</td>\n",
              "      <td>0.70%</td>\n",
              "      <td>3720.0</td>\n",
              "      <td>101700.0</td>\n",
              "      <td>592.0</td>\n",
              "    </tr>\n",
              "  </tbody>\n",
              "</table>\n",
              "</div>"
            ],
            "text/plain": [
              "               Location State  ... AverageHouseValue  Elevation\n",
              "0    Alabama|Abbeville     AL  ...           88900.0      499.0\n",
              "1   Alabama|Adamsville     AL  ...           97100.0      600.0\n",
              "2      Alabama|Addison     AL  ...           88700.0      827.0\n",
              "3    Alabama|Alabaster     AL  ...          160100.0      524.0\n",
              "4  Alabama|Albertville     AL  ...          101700.0      592.0\n",
              "\n",
              "[5 rows x 28 columns]"
            ]
          },
          "metadata": {
            "tags": []
          },
          "execution_count": 5
        }
      ]
    },
    {
      "cell_type": "code",
      "metadata": {
        "id": "-qGKHsugiuON",
        "colab_type": "code",
        "outputId": "d68b21f3-fd2f-40df-8af4-5691c4bd2605",
        "colab": {
          "base_uri": "https://localhost:8080/",
          "height": 359
        }
      },
      "source": [
        "# Targeting\n",
        "# Based on discussions with key stakeholders, 4 Demographics are selected (index=Location)\n",
        "df_demographics_4 = df_demographics[['Location','Population Growth Rate','Number of Burgalaries reported','Property Crime Rate','Housing Construction']]\n",
        "df_demographics_4.head(10)"
      ],
      "execution_count": 0,
      "outputs": [
        {
          "output_type": "execute_result",
          "data": {
            "text/html": [
              "<div>\n",
              "<style scoped>\n",
              "    .dataframe tbody tr th:only-of-type {\n",
              "        vertical-align: middle;\n",
              "    }\n",
              "\n",
              "    .dataframe tbody tr th {\n",
              "        vertical-align: top;\n",
              "    }\n",
              "\n",
              "    .dataframe thead th {\n",
              "        text-align: right;\n",
              "    }\n",
              "</style>\n",
              "<table border=\"1\" class=\"dataframe\">\n",
              "  <thead>\n",
              "    <tr style=\"text-align: right;\">\n",
              "      <th></th>\n",
              "      <th>Location</th>\n",
              "      <th>Population Growth Rate</th>\n",
              "      <th>Number of Burgalaries reported</th>\n",
              "      <th>Property Crime Rate</th>\n",
              "      <th>Housing Construction</th>\n",
              "    </tr>\n",
              "  </thead>\n",
              "  <tbody>\n",
              "    <tr>\n",
              "      <th>0</th>\n",
              "      <td>Alabama|Abbeville</td>\n",
              "      <td>-1.41%</td>\n",
              "      <td>4.0</td>\n",
              "      <td>42.5</td>\n",
              "      <td>0.93%</td>\n",
              "    </tr>\n",
              "    <tr>\n",
              "      <th>1</th>\n",
              "      <td>Alabama|Adamsville</td>\n",
              "      <td>-2.09%</td>\n",
              "      <td>10.0</td>\n",
              "      <td>186.5</td>\n",
              "      <td>-0.69%</td>\n",
              "    </tr>\n",
              "    <tr>\n",
              "      <th>2</th>\n",
              "      <td>Alabama|Addison</td>\n",
              "      <td>-1.64%</td>\n",
              "      <td>1.0</td>\n",
              "      <td>15.5</td>\n",
              "      <td>2.64%</td>\n",
              "    </tr>\n",
              "    <tr>\n",
              "      <th>3</th>\n",
              "      <td>Alabama|Alabaster</td>\n",
              "      <td>1.25%</td>\n",
              "      <td>19.0</td>\n",
              "      <td>306</td>\n",
              "      <td>-2.25%</td>\n",
              "    </tr>\n",
              "    <tr>\n",
              "      <th>4</th>\n",
              "      <td>Alabama|Albertville</td>\n",
              "      <td>-0.02%</td>\n",
              "      <td>5.0</td>\n",
              "      <td>378</td>\n",
              "      <td>0.70%</td>\n",
              "    </tr>\n",
              "    <tr>\n",
              "      <th>5</th>\n",
              "      <td>Alabama|Alexander City</td>\n",
              "      <td>-0.16%</td>\n",
              "      <td>32.0</td>\n",
              "      <td>358</td>\n",
              "      <td>1.12%</td>\n",
              "    </tr>\n",
              "    <tr>\n",
              "      <th>6</th>\n",
              "      <td>Alabama|Aliceville</td>\n",
              "      <td>-0.99%</td>\n",
              "      <td>5.0</td>\n",
              "      <td>21.5</td>\n",
              "      <td>0.95%</td>\n",
              "    </tr>\n",
              "    <tr>\n",
              "      <th>7</th>\n",
              "      <td>Alabama|Anniston</td>\n",
              "      <td>-0.49%</td>\n",
              "      <td>207.0</td>\n",
              "      <td>855.5</td>\n",
              "      <td>0.25%</td>\n",
              "    </tr>\n",
              "    <tr>\n",
              "      <th>8</th>\n",
              "      <td>Alabama|Arab</td>\n",
              "      <td>-5.22%</td>\n",
              "      <td>15.0</td>\n",
              "      <td>283.5</td>\n",
              "      <td>-3.51%</td>\n",
              "    </tr>\n",
              "    <tr>\n",
              "      <th>9</th>\n",
              "      <td>Alabama|Ardmore</td>\n",
              "      <td>0.54%</td>\n",
              "      <td>1.0</td>\n",
              "      <td>11</td>\n",
              "      <td>-0.48%</td>\n",
              "    </tr>\n",
              "  </tbody>\n",
              "</table>\n",
              "</div>"
            ],
            "text/plain": [
              "                  Location  ... Housing Construction\n",
              "0       Alabama|Abbeville   ...                0.93%\n",
              "1      Alabama|Adamsville   ...               -0.69%\n",
              "2         Alabama|Addison   ...                2.64%\n",
              "3       Alabama|Alabaster   ...               -2.25%\n",
              "4     Alabama|Albertville   ...                0.70%\n",
              "5  Alabama|Alexander City   ...                1.12%\n",
              "6      Alabama|Aliceville   ...                0.95%\n",
              "7        Alabama|Anniston   ...                0.25%\n",
              "8            Alabama|Arab   ...               -3.51%\n",
              "9         Alabama|Ardmore   ...               -0.48%\n",
              "\n",
              "[10 rows x 5 columns]"
            ]
          },
          "metadata": {
            "tags": []
          },
          "execution_count": 6
        }
      ]
    },
    {
      "cell_type": "code",
      "metadata": {
        "id": "LPPW1XRsktS2",
        "colab_type": "code",
        "outputId": "0142600e-5cbe-474c-8b9a-b3df915a91ba",
        "colab": {
          "base_uri": "https://localhost:8080/",
          "height": 119
        }
      },
      "source": [
        "df_demographics_4.dtypes"
      ],
      "execution_count": 0,
      "outputs": [
        {
          "output_type": "execute_result",
          "data": {
            "text/plain": [
              "Location                           object\n",
              "Population Growth Rate             object\n",
              "Number of Burgalaries reported    float64\n",
              "Property Crime Rate                object\n",
              "Housing Construction               object\n",
              "dtype: object"
            ]
          },
          "metadata": {
            "tags": []
          },
          "execution_count": 9
        }
      ]
    },
    {
      "cell_type": "code",
      "metadata": {
        "id": "d75yHGzDsOID",
        "colab_type": "code",
        "colab": {}
      },
      "source": [
        "# Cleaning Data\n",
        "PGR = df_demographics_4['Population Growth Rate'].replace(to_replace ='%', value = '', regex = True).astype(float)\n",
        "PGR = PGR*(0.01)\n",
        "NBR = df_demographics_4['Number of Burgalaries reported'].astype(float)\n",
        "PCR = df_demographics_4['Property Crime Rate'].replace(to_replace =',', value = '.', regex = True).astype(float)\n",
        "HCO = df_demographics_4['Housing Construction'].replace(to_replace ='%', value = '', regex = True).astype(float)\n",
        "HCO = HCO*(0.01)"
      ],
      "execution_count": 0,
      "outputs": []
    },
    {
      "cell_type": "code",
      "metadata": {
        "id": "DsnT_rtPvorC",
        "colab_type": "code",
        "outputId": "d2d6e4e8-a80d-4eb1-8f0b-ff53167930b7",
        "colab": {
          "base_uri": "https://localhost:8080/",
          "height": 359
        }
      },
      "source": [
        "df_demographics_4 = pd.concat([df_demographics_4['Location'], PGR, NBR, PCR, HCO], axis=1)\n",
        "df_demographics_4.head(10)"
      ],
      "execution_count": 0,
      "outputs": [
        {
          "output_type": "execute_result",
          "data": {
            "text/html": [
              "<div>\n",
              "<style scoped>\n",
              "    .dataframe tbody tr th:only-of-type {\n",
              "        vertical-align: middle;\n",
              "    }\n",
              "\n",
              "    .dataframe tbody tr th {\n",
              "        vertical-align: top;\n",
              "    }\n",
              "\n",
              "    .dataframe thead th {\n",
              "        text-align: right;\n",
              "    }\n",
              "</style>\n",
              "<table border=\"1\" class=\"dataframe\">\n",
              "  <thead>\n",
              "    <tr style=\"text-align: right;\">\n",
              "      <th></th>\n",
              "      <th>Location</th>\n",
              "      <th>Population Growth Rate</th>\n",
              "      <th>Number of Burgalaries reported</th>\n",
              "      <th>Property Crime Rate</th>\n",
              "      <th>Housing Construction</th>\n",
              "    </tr>\n",
              "  </thead>\n",
              "  <tbody>\n",
              "    <tr>\n",
              "      <th>0</th>\n",
              "      <td>Alabama|Abbeville</td>\n",
              "      <td>-0.0141</td>\n",
              "      <td>4.0</td>\n",
              "      <td>42.5</td>\n",
              "      <td>0.0093</td>\n",
              "    </tr>\n",
              "    <tr>\n",
              "      <th>1</th>\n",
              "      <td>Alabama|Adamsville</td>\n",
              "      <td>-0.0209</td>\n",
              "      <td>10.0</td>\n",
              "      <td>186.5</td>\n",
              "      <td>-0.0069</td>\n",
              "    </tr>\n",
              "    <tr>\n",
              "      <th>2</th>\n",
              "      <td>Alabama|Addison</td>\n",
              "      <td>-0.0164</td>\n",
              "      <td>1.0</td>\n",
              "      <td>15.5</td>\n",
              "      <td>0.0264</td>\n",
              "    </tr>\n",
              "    <tr>\n",
              "      <th>3</th>\n",
              "      <td>Alabama|Alabaster</td>\n",
              "      <td>0.0125</td>\n",
              "      <td>19.0</td>\n",
              "      <td>306.0</td>\n",
              "      <td>-0.0225</td>\n",
              "    </tr>\n",
              "    <tr>\n",
              "      <th>4</th>\n",
              "      <td>Alabama|Albertville</td>\n",
              "      <td>-0.0002</td>\n",
              "      <td>5.0</td>\n",
              "      <td>378.0</td>\n",
              "      <td>0.0070</td>\n",
              "    </tr>\n",
              "    <tr>\n",
              "      <th>5</th>\n",
              "      <td>Alabama|Alexander City</td>\n",
              "      <td>-0.0016</td>\n",
              "      <td>32.0</td>\n",
              "      <td>358.0</td>\n",
              "      <td>0.0112</td>\n",
              "    </tr>\n",
              "    <tr>\n",
              "      <th>6</th>\n",
              "      <td>Alabama|Aliceville</td>\n",
              "      <td>-0.0099</td>\n",
              "      <td>5.0</td>\n",
              "      <td>21.5</td>\n",
              "      <td>0.0095</td>\n",
              "    </tr>\n",
              "    <tr>\n",
              "      <th>7</th>\n",
              "      <td>Alabama|Anniston</td>\n",
              "      <td>-0.0049</td>\n",
              "      <td>207.0</td>\n",
              "      <td>855.5</td>\n",
              "      <td>0.0025</td>\n",
              "    </tr>\n",
              "    <tr>\n",
              "      <th>8</th>\n",
              "      <td>Alabama|Arab</td>\n",
              "      <td>-0.0522</td>\n",
              "      <td>15.0</td>\n",
              "      <td>283.5</td>\n",
              "      <td>-0.0351</td>\n",
              "    </tr>\n",
              "    <tr>\n",
              "      <th>9</th>\n",
              "      <td>Alabama|Ardmore</td>\n",
              "      <td>0.0054</td>\n",
              "      <td>1.0</td>\n",
              "      <td>11.0</td>\n",
              "      <td>-0.0048</td>\n",
              "    </tr>\n",
              "  </tbody>\n",
              "</table>\n",
              "</div>"
            ],
            "text/plain": [
              "                  Location  ...  Housing Construction\n",
              "0       Alabama|Abbeville   ...                0.0093\n",
              "1      Alabama|Adamsville   ...               -0.0069\n",
              "2         Alabama|Addison   ...                0.0264\n",
              "3       Alabama|Alabaster   ...               -0.0225\n",
              "4     Alabama|Albertville   ...                0.0070\n",
              "5  Alabama|Alexander City   ...                0.0112\n",
              "6      Alabama|Aliceville   ...                0.0095\n",
              "7        Alabama|Anniston   ...                0.0025\n",
              "8            Alabama|Arab   ...               -0.0351\n",
              "9         Alabama|Ardmore   ...               -0.0048\n",
              "\n",
              "[10 rows x 5 columns]"
            ]
          },
          "metadata": {
            "tags": []
          },
          "execution_count": 11
        }
      ]
    },
    {
      "cell_type": "code",
      "metadata": {
        "id": "tE6zheevysrU",
        "colab_type": "code",
        "outputId": "fc9183b8-ff49-42f5-b738-fab562a49375",
        "colab": {
          "base_uri": "https://localhost:8080/",
          "height": 119
        }
      },
      "source": [
        "df_demographics_4.dtypes"
      ],
      "execution_count": 0,
      "outputs": [
        {
          "output_type": "execute_result",
          "data": {
            "text/plain": [
              "Location                           object\n",
              "Population Growth Rate            float64\n",
              "Number of Burgalaries reported    float64\n",
              "Property Crime Rate               float64\n",
              "Housing Construction              float64\n",
              "dtype: object"
            ]
          },
          "metadata": {
            "tags": []
          },
          "execution_count": 12
        }
      ]
    },
    {
      "cell_type": "markdown",
      "metadata": {
        "id": "CFJeWn3J27JN",
        "colab_type": "text"
      },
      "source": [
        "## Final Deliverable\n",
        "#### A Master Dataset study will be created combining Top 3 Segments (Phase 1) and Top 4 Demographics"
      ]
    },
    {
      "cell_type": "code",
      "metadata": {
        "id": "jt0iWvZa4Afz",
        "colab_type": "code",
        "outputId": "6ad4e76b-97da-487d-d7ca-fc39e03b57f7",
        "colab": {
          "base_uri": "https://localhost:8080/",
          "height": 142
        }
      },
      "source": [
        "# TOP 3 Segments (Phase 1)\n",
        "df_segmentation_top3seg = pd.read_csv(\"/gdrive/My Drive/Colab Notebooks/Data/PROJ/01_pandas/files/final/data/06_segmentation_perc_we.csv\", sep = ',', low_memory=False)\n",
        "df_segmentation_top3seg.sort_values('Total', axis = 0, ascending = False, \n",
        "                 inplace = True, na_position ='last')\n",
        "df_segmentation_top3seg = df_segmentation_top3seg.round(3)\n",
        "df_segmentation_top3seg.head(3)"
      ],
      "execution_count": 0,
      "outputs": [
        {
          "output_type": "execute_result",
          "data": {
            "text/html": [
              "<div>\n",
              "<style scoped>\n",
              "    .dataframe tbody tr th:only-of-type {\n",
              "        vertical-align: middle;\n",
              "    }\n",
              "\n",
              "    .dataframe tbody tr th {\n",
              "        vertical-align: top;\n",
              "    }\n",
              "\n",
              "    .dataframe thead th {\n",
              "        text-align: right;\n",
              "    }\n",
              "</style>\n",
              "<table border=\"1\" class=\"dataframe\">\n",
              "  <thead>\n",
              "    <tr style=\"text-align: right;\">\n",
              "      <th></th>\n",
              "      <th>Segments</th>\n",
              "      <th>Household Counts</th>\n",
              "      <th>Wants to buy Security Devices</th>\n",
              "      <th>Will Switch Brands</th>\n",
              "      <th>High &amp; Medium IPA</th>\n",
              "      <th>Pay more to buy Top Quality Electronics</th>\n",
              "      <th>Total</th>\n",
              "    </tr>\n",
              "  </thead>\n",
              "  <tbody>\n",
              "    <tr>\n",
              "      <th>0</th>\n",
              "      <td>Mass Markets</td>\n",
              "      <td>0.036</td>\n",
              "      <td>0.040</td>\n",
              "      <td>0.037</td>\n",
              "      <td>0.001</td>\n",
              "      <td>0.015</td>\n",
              "      <td>0.128</td>\n",
              "    </tr>\n",
              "    <tr>\n",
              "      <th>1</th>\n",
              "      <td>Diverse Workers</td>\n",
              "      <td>0.036</td>\n",
              "      <td>0.016</td>\n",
              "      <td>0.039</td>\n",
              "      <td>0.000</td>\n",
              "      <td>0.013</td>\n",
              "      <td>0.104</td>\n",
              "    </tr>\n",
              "    <tr>\n",
              "      <th>3</th>\n",
              "      <td>Well-heeled Affluents</td>\n",
              "      <td>0.011</td>\n",
              "      <td>0.058</td>\n",
              "      <td>0.009</td>\n",
              "      <td>0.014</td>\n",
              "      <td>0.005</td>\n",
              "      <td>0.097</td>\n",
              "    </tr>\n",
              "  </tbody>\n",
              "</table>\n",
              "</div>"
            ],
            "text/plain": [
              "                Segments  ...  Total\n",
              "0           Mass Markets  ...  0.128\n",
              "1        Diverse Workers  ...  0.104\n",
              "3  Well-heeled Affluents  ...  0.097\n",
              "\n",
              "[3 rows x 7 columns]"
            ]
          },
          "metadata": {
            "tags": []
          },
          "execution_count": 13
        }
      ]
    },
    {
      "cell_type": "code",
      "metadata": {
        "id": "K4cc9Fi4UANM",
        "colab_type": "code",
        "outputId": "e76d7d45-a390-4a14-9197-5482a404e4d1",
        "colab": {
          "base_uri": "https://localhost:8080/",
          "height": 85
        }
      },
      "source": [
        "df_segmentation_top3seg['Segments'].iloc[0:3]"
      ],
      "execution_count": 0,
      "outputs": [
        {
          "output_type": "execute_result",
          "data": {
            "text/plain": [
              "0             Mass Markets\n",
              "1          Diverse Workers\n",
              "3    Well-heeled Affluents\n",
              "Name: Segments, dtype: object"
            ]
          },
          "metadata": {
            "tags": []
          },
          "execution_count": 14
        }
      ]
    },
    {
      "cell_type": "code",
      "metadata": {
        "id": "ZDMkHnAK4-qV",
        "colab_type": "code",
        "outputId": "c18c8a6f-8e4a-430a-94d8-0dd37bef15af",
        "colab": {
          "base_uri": "https://localhost:8080/",
          "height": 204
        }
      },
      "source": [
        "# Segments by City/State\n",
        "df_segments.head(5)"
      ],
      "execution_count": 0,
      "outputs": [
        {
          "output_type": "execute_result",
          "data": {
            "text/html": [
              "<div>\n",
              "<style scoped>\n",
              "    .dataframe tbody tr th:only-of-type {\n",
              "        vertical-align: middle;\n",
              "    }\n",
              "\n",
              "    .dataframe tbody tr th {\n",
              "        vertical-align: top;\n",
              "    }\n",
              "\n",
              "    .dataframe thead th {\n",
              "        text-align: right;\n",
              "    }\n",
              "</style>\n",
              "<table border=\"1\" class=\"dataframe\">\n",
              "  <thead>\n",
              "    <tr style=\"text-align: right;\">\n",
              "      <th></th>\n",
              "      <th>Customer Segment</th>\n",
              "      <th>StateFullName</th>\n",
              "      <th>City</th>\n",
              "      <th>Household Counts</th>\n",
              "    </tr>\n",
              "  </thead>\n",
              "  <tbody>\n",
              "    <tr>\n",
              "      <th>0</th>\n",
              "      <td>Well-heeled Affluents</td>\n",
              "      <td>Pennsylvania</td>\n",
              "      <td>AARONSBURG</td>\n",
              "      <td>0</td>\n",
              "    </tr>\n",
              "    <tr>\n",
              "      <th>1</th>\n",
              "      <td>Modest Families</td>\n",
              "      <td>Pennsylvania</td>\n",
              "      <td>AARONSBURG</td>\n",
              "      <td>0</td>\n",
              "    </tr>\n",
              "    <tr>\n",
              "      <th>2</th>\n",
              "      <td>Elite Households</td>\n",
              "      <td>Pennsylvania</td>\n",
              "      <td>AARONSBURG</td>\n",
              "      <td>0</td>\n",
              "    </tr>\n",
              "    <tr>\n",
              "      <th>3</th>\n",
              "      <td>Mass Markets</td>\n",
              "      <td>Pennsylvania</td>\n",
              "      <td>AARONSBURG</td>\n",
              "      <td>90</td>\n",
              "    </tr>\n",
              "    <tr>\n",
              "      <th>4</th>\n",
              "      <td>Young Urban Masses</td>\n",
              "      <td>Pennsylvania</td>\n",
              "      <td>AARONSBURG</td>\n",
              "      <td>1</td>\n",
              "    </tr>\n",
              "  </tbody>\n",
              "</table>\n",
              "</div>"
            ],
            "text/plain": [
              "        Customer Segment StateFullName        City  Household Counts\n",
              "0  Well-heeled Affluents  Pennsylvania  AARONSBURG                 0\n",
              "1        Modest Families  Pennsylvania  AARONSBURG                 0\n",
              "2       Elite Households  Pennsylvania  AARONSBURG                 0\n",
              "3           Mass Markets  Pennsylvania  AARONSBURG                90\n",
              "4     Young Urban Masses  Pennsylvania  AARONSBURG                 1"
            ]
          },
          "metadata": {
            "tags": []
          },
          "execution_count": 15
        }
      ]
    },
    {
      "cell_type": "code",
      "metadata": {
        "id": "nBLUdjSSsovq",
        "colab_type": "code",
        "outputId": "2e02741d-bf0c-4f9b-cada-43404cb7198f",
        "colab": {
          "base_uri": "https://localhost:8080/",
          "height": 136
        }
      },
      "source": [
        "df_segments.shape, list(df_segments), df_segments.notnull().sum()"
      ],
      "execution_count": 0,
      "outputs": [
        {
          "output_type": "execute_result",
          "data": {
            "text/plain": [
              "((297240, 4),\n",
              " ['Customer Segment', 'StateFullName', 'City', 'Household Counts'],\n",
              " Customer Segment    297240\n",
              " StateFullName       297240\n",
              " City                297240\n",
              " Household Counts    297240\n",
              " dtype: int64)"
            ]
          },
          "metadata": {
            "tags": []
          },
          "execution_count": 16
        }
      ]
    },
    {
      "cell_type": "code",
      "metadata": {
        "id": "cvB0i1arXN-x",
        "colab_type": "code",
        "colab": {}
      },
      "source": [
        "df_segments_3 = pd.pivot_table(df_segments, values ='Household Counts', index =['City','StateFullName'], \n",
        "                         columns = ['Customer Segment'], aggfunc = np.sum)"
      ],
      "execution_count": 0,
      "outputs": []
    },
    {
      "cell_type": "code",
      "metadata": {
        "id": "J8JMGzgoXknA",
        "colab_type": "code",
        "outputId": "ad151fc9-be08-401d-8581-15527b024f7c",
        "colab": {
          "base_uri": "https://localhost:8080/",
          "height": 269
        }
      },
      "source": [
        "df_segments_3.head(5)"
      ],
      "execution_count": 0,
      "outputs": [
        {
          "output_type": "execute_result",
          "data": {
            "text/html": [
              "<div>\n",
              "<style scoped>\n",
              "    .dataframe tbody tr th:only-of-type {\n",
              "        vertical-align: middle;\n",
              "    }\n",
              "\n",
              "    .dataframe tbody tr th {\n",
              "        vertical-align: top;\n",
              "    }\n",
              "\n",
              "    .dataframe thead th {\n",
              "        text-align: right;\n",
              "    }\n",
              "</style>\n",
              "<table border=\"1\" class=\"dataframe\">\n",
              "  <thead>\n",
              "    <tr style=\"text-align: right;\">\n",
              "      <th></th>\n",
              "      <th>Customer Segment</th>\n",
              "      <th>Comfortable Retirees</th>\n",
              "      <th>Diverse Workers</th>\n",
              "      <th>Elder Midscale Class</th>\n",
              "      <th>Elite Households</th>\n",
              "      <th>Mass Markets</th>\n",
              "      <th>Modest Families</th>\n",
              "      <th>Prosperous Acheivers</th>\n",
              "      <th>Upscale Matures</th>\n",
              "      <th>Well-heeled Affluents</th>\n",
              "      <th>Young Affluent Mobiles</th>\n",
              "      <th>Young Upscale Families</th>\n",
              "      <th>Young Urban Masses</th>\n",
              "    </tr>\n",
              "    <tr>\n",
              "      <th>City</th>\n",
              "      <th>StateFullName</th>\n",
              "      <th></th>\n",
              "      <th></th>\n",
              "      <th></th>\n",
              "      <th></th>\n",
              "      <th></th>\n",
              "      <th></th>\n",
              "      <th></th>\n",
              "      <th></th>\n",
              "      <th></th>\n",
              "      <th></th>\n",
              "      <th></th>\n",
              "      <th></th>\n",
              "    </tr>\n",
              "  </thead>\n",
              "  <tbody>\n",
              "    <tr>\n",
              "      <th>AARONSBURG</th>\n",
              "      <th>Pennsylvania</th>\n",
              "      <td>4</td>\n",
              "      <td>4</td>\n",
              "      <td>67</td>\n",
              "      <td>0</td>\n",
              "      <td>90</td>\n",
              "      <td>0</td>\n",
              "      <td>2</td>\n",
              "      <td>2</td>\n",
              "      <td>0</td>\n",
              "      <td>2</td>\n",
              "      <td>5</td>\n",
              "      <td>1</td>\n",
              "    </tr>\n",
              "    <tr>\n",
              "      <th rowspan=\"4\" valign=\"top\">ABBEVILLE</th>\n",
              "      <th>Alabama</th>\n",
              "      <td>585</td>\n",
              "      <td>351</td>\n",
              "      <td>223</td>\n",
              "      <td>4</td>\n",
              "      <td>168</td>\n",
              "      <td>31</td>\n",
              "      <td>20</td>\n",
              "      <td>56</td>\n",
              "      <td>4</td>\n",
              "      <td>6</td>\n",
              "      <td>16</td>\n",
              "      <td>5</td>\n",
              "    </tr>\n",
              "    <tr>\n",
              "      <th>Georgia</th>\n",
              "      <td>198</td>\n",
              "      <td>175</td>\n",
              "      <td>22</td>\n",
              "      <td>1</td>\n",
              "      <td>58</td>\n",
              "      <td>3</td>\n",
              "      <td>3</td>\n",
              "      <td>5</td>\n",
              "      <td>1</td>\n",
              "      <td>1</td>\n",
              "      <td>7</td>\n",
              "      <td>4</td>\n",
              "    </tr>\n",
              "    <tr>\n",
              "      <th>Louisiana</th>\n",
              "      <td>402</td>\n",
              "      <td>651</td>\n",
              "      <td>599</td>\n",
              "      <td>43</td>\n",
              "      <td>911</td>\n",
              "      <td>340</td>\n",
              "      <td>256</td>\n",
              "      <td>76</td>\n",
              "      <td>7</td>\n",
              "      <td>54</td>\n",
              "      <td>1024</td>\n",
              "      <td>687</td>\n",
              "    </tr>\n",
              "    <tr>\n",
              "      <th>Mississippi</th>\n",
              "      <td>18</td>\n",
              "      <td>237</td>\n",
              "      <td>44</td>\n",
              "      <td>1</td>\n",
              "      <td>71</td>\n",
              "      <td>17</td>\n",
              "      <td>5</td>\n",
              "      <td>1</td>\n",
              "      <td>0</td>\n",
              "      <td>5</td>\n",
              "      <td>21</td>\n",
              "      <td>13</td>\n",
              "    </tr>\n",
              "  </tbody>\n",
              "</table>\n",
              "</div>"
            ],
            "text/plain": [
              "Customer Segment          Comfortable Retirees  ...  Young Urban Masses\n",
              "City       StateFullName                        ...                    \n",
              "AARONSBURG Pennsylvania                      4  ...                   1\n",
              "ABBEVILLE  Alabama                         585  ...                   5\n",
              "           Georgia                         198  ...                   4\n",
              "           Louisiana                       402  ...                 687\n",
              "           Mississippi                      18  ...                  13\n",
              "\n",
              "[5 rows x 12 columns]"
            ]
          },
          "metadata": {
            "tags": []
          },
          "execution_count": 18
        }
      ]
    },
    {
      "cell_type": "code",
      "metadata": {
        "id": "PZ_BHCHba3wF",
        "colab_type": "code",
        "colab": {}
      },
      "source": [
        "df_segments_top3 = df_segments_3[['Mass Markets','Diverse Workers','Well-heeled Affluents']]"
      ],
      "execution_count": 0,
      "outputs": []
    },
    {
      "cell_type": "code",
      "metadata": {
        "id": "TyY18UKjbWyR",
        "colab_type": "code",
        "colab": {}
      },
      "source": [
        "df_segments_top3.reset_index(inplace = True)"
      ],
      "execution_count": 0,
      "outputs": []
    },
    {
      "cell_type": "code",
      "metadata": {
        "id": "oSXtiNVvjeBW",
        "colab_type": "code",
        "colab": {}
      },
      "source": [
        "df_segments_top3 = df_segments_top3.rename(columns={'StateFullName': 'State'})\n",
        "df_segments_top3['City'] = df_segments_top3['City'].str.capitalize()\n",
        "df_segments_top3['State'] = df_segments_top3['State'].str.capitalize()"
      ],
      "execution_count": 0,
      "outputs": []
    },
    {
      "cell_type": "code",
      "metadata": {
        "id": "SIWM20EAI2An",
        "colab_type": "code",
        "colab": {}
      },
      "source": [
        "df_segments_top3['City'] = df_segments_top3['City'].str.strip()\n",
        "df_segments_top3['State'] = df_segments_top3['State'].str.strip()"
      ],
      "execution_count": 0,
      "outputs": []
    },
    {
      "cell_type": "code",
      "metadata": {
        "id": "S7elNQH5nZw1",
        "colab_type": "code",
        "outputId": "356f5dd4-4309-4d7e-9a87-b4333a96739a",
        "colab": {
          "base_uri": "https://localhost:8080/",
          "height": 153
        }
      },
      "source": [
        "df_segments_top3.head(5), df_segments_top3.shape"
      ],
      "execution_count": 0,
      "outputs": [
        {
          "output_type": "execute_result",
          "data": {
            "text/plain": [
              "(Customer Segment        City  ... Well-heeled Affluents\n",
              " 0                 Aaronsburg  ...                     0\n",
              " 1                  Abbeville  ...                     4\n",
              " 2                  Abbeville  ...                     1\n",
              " 3                  Abbeville  ...                     7\n",
              " 4                  Abbeville  ...                     0\n",
              " \n",
              " [5 rows x 5 columns], (24770, 5))"
            ]
          },
          "metadata": {
            "tags": []
          },
          "execution_count": 30
        }
      ]
    },
    {
      "cell_type": "code",
      "metadata": {
        "id": "SfkJTi2p5eMr",
        "colab_type": "code",
        "outputId": "c47ca2c2-96bb-4f67-8685-42903f4aa6d4",
        "colab": {
          "base_uri": "https://localhost:8080/",
          "height": 204
        }
      },
      "source": [
        "# Demographics by City/State\n",
        "df_demographics_4.head(5)"
      ],
      "execution_count": 0,
      "outputs": [
        {
          "output_type": "execute_result",
          "data": {
            "text/html": [
              "<div>\n",
              "<style scoped>\n",
              "    .dataframe tbody tr th:only-of-type {\n",
              "        vertical-align: middle;\n",
              "    }\n",
              "\n",
              "    .dataframe tbody tr th {\n",
              "        vertical-align: top;\n",
              "    }\n",
              "\n",
              "    .dataframe thead th {\n",
              "        text-align: right;\n",
              "    }\n",
              "</style>\n",
              "<table border=\"1\" class=\"dataframe\">\n",
              "  <thead>\n",
              "    <tr style=\"text-align: right;\">\n",
              "      <th></th>\n",
              "      <th>Location</th>\n",
              "      <th>Population Growth Rate</th>\n",
              "      <th>Number of Burgalaries reported</th>\n",
              "      <th>Property Crime Rate</th>\n",
              "      <th>Housing Construction</th>\n",
              "    </tr>\n",
              "  </thead>\n",
              "  <tbody>\n",
              "    <tr>\n",
              "      <th>0</th>\n",
              "      <td>Alabama|Abbeville</td>\n",
              "      <td>-0.0141</td>\n",
              "      <td>4.0</td>\n",
              "      <td>42.5</td>\n",
              "      <td>0.0093</td>\n",
              "    </tr>\n",
              "    <tr>\n",
              "      <th>1</th>\n",
              "      <td>Alabama|Adamsville</td>\n",
              "      <td>-0.0209</td>\n",
              "      <td>10.0</td>\n",
              "      <td>186.5</td>\n",
              "      <td>-0.0069</td>\n",
              "    </tr>\n",
              "    <tr>\n",
              "      <th>2</th>\n",
              "      <td>Alabama|Addison</td>\n",
              "      <td>-0.0164</td>\n",
              "      <td>1.0</td>\n",
              "      <td>15.5</td>\n",
              "      <td>0.0264</td>\n",
              "    </tr>\n",
              "    <tr>\n",
              "      <th>3</th>\n",
              "      <td>Alabama|Alabaster</td>\n",
              "      <td>0.0125</td>\n",
              "      <td>19.0</td>\n",
              "      <td>306.0</td>\n",
              "      <td>-0.0225</td>\n",
              "    </tr>\n",
              "    <tr>\n",
              "      <th>4</th>\n",
              "      <td>Alabama|Albertville</td>\n",
              "      <td>-0.0002</td>\n",
              "      <td>5.0</td>\n",
              "      <td>378.0</td>\n",
              "      <td>0.0070</td>\n",
              "    </tr>\n",
              "  </tbody>\n",
              "</table>\n",
              "</div>"
            ],
            "text/plain": [
              "               Location  ...  Housing Construction\n",
              "0    Alabama|Abbeville   ...                0.0093\n",
              "1   Alabama|Adamsville   ...               -0.0069\n",
              "2      Alabama|Addison   ...                0.0264\n",
              "3    Alabama|Alabaster   ...               -0.0225\n",
              "4  Alabama|Albertville   ...                0.0070\n",
              "\n",
              "[5 rows x 5 columns]"
            ]
          },
          "metadata": {
            "tags": []
          },
          "execution_count": 31
        }
      ]
    },
    {
      "cell_type": "code",
      "metadata": {
        "id": "GdJyIgxPAO_z",
        "colab_type": "code",
        "colab": {}
      },
      "source": [
        "df_demographics_4_cs = df_demographics_4[\"Location\"].str.split(\"|\", n = 1, expand = True)"
      ],
      "execution_count": 0,
      "outputs": []
    },
    {
      "cell_type": "code",
      "metadata": {
        "id": "rTQJNoba7_Fq",
        "colab_type": "code",
        "colab": {}
      },
      "source": [
        "df_demographics_4[\"State\"]= df_demographics_4_cs[0]\n",
        "df_demographics_4[\"City\"]= df_demographics_4_cs[1]"
      ],
      "execution_count": 0,
      "outputs": []
    },
    {
      "cell_type": "code",
      "metadata": {
        "id": "y9QFxIP5CAyh",
        "colab_type": "code",
        "colab": {}
      },
      "source": [
        "df_demographics_4.drop(columns =[\"Location\"], inplace = True)"
      ],
      "execution_count": 0,
      "outputs": []
    },
    {
      "cell_type": "code",
      "metadata": {
        "id": "qfxsncPc9Zd9",
        "colab_type": "code",
        "colab": {}
      },
      "source": [
        "df_demographics_4_cs = df_demographics_4[['City','State', 'Population Growth Rate',\n",
        " 'Number of Burgalaries reported',\n",
        " 'Property Crime Rate',\n",
        " 'Housing Construction']]"
      ],
      "execution_count": 0,
      "outputs": []
    },
    {
      "cell_type": "code",
      "metadata": {
        "id": "A2Gk9uOeHPHR",
        "colab_type": "code",
        "colab": {}
      },
      "source": [
        "df_demographics_4_cs['City'] = df_demographics_4_cs['City'].str.capitalize()\n",
        "df_demographics_4_cs['State'] = df_demographics_4_cs['State'].str.capitalize()"
      ],
      "execution_count": 0,
      "outputs": []
    },
    {
      "cell_type": "code",
      "metadata": {
        "id": "kfSKxwFKIPMC",
        "colab_type": "code",
        "colab": {}
      },
      "source": [
        "df_demographics_4_cs['City'] = df_demographics_4_cs['City'].str.strip()\n",
        "df_demographics_4_cs['State'] = df_demographics_4_cs['State'].str.strip()"
      ],
      "execution_count": 0,
      "outputs": []
    },
    {
      "cell_type": "code",
      "metadata": {
        "id": "gCOZtVWznHer",
        "colab_type": "code",
        "outputId": "47e244fe-d082-475d-86b2-1b7278edf0cb",
        "colab": {
          "base_uri": "https://localhost:8080/",
          "height": 153
        }
      },
      "source": [
        "df_demographics_4_cs.head(5), df_demographics_4_cs.shape"
      ],
      "execution_count": 0,
      "outputs": [
        {
          "output_type": "execute_result",
          "data": {
            "text/plain": [
              "(          City    State  ...  Property Crime Rate  Housing Construction\n",
              " 0    Abbeville  Alabama  ...                 42.5                0.0093\n",
              " 1   Adamsville  Alabama  ...                186.5               -0.0069\n",
              " 2      Addison  Alabama  ...                 15.5                0.0264\n",
              " 3    Alabaster  Alabama  ...                306.0               -0.0225\n",
              " 4  Albertville  Alabama  ...                378.0                0.0070\n",
              " \n",
              " [5 rows x 6 columns], (6759, 6))"
            ]
          },
          "metadata": {
            "tags": []
          },
          "execution_count": 38
        }
      ]
    },
    {
      "cell_type": "code",
      "metadata": {
        "id": "kasAnY5xFj-_",
        "colab_type": "code",
        "outputId": "fb6f950f-77d0-4c3d-b37b-9b92917678ca",
        "colab": {
          "base_uri": "https://localhost:8080/",
          "height": 359
        }
      },
      "source": [
        "# Demographics > Analysis Report >Seven Attributes selected to rank Cities\n",
        "# Combined Analysis: 4 Demographics and 3 Segments\n",
        "df_demographics_7 = df_demographics_4_cs.merge(df_segments_top3, how='outer', on=['City','State'])\n",
        "df_demographics_7.head(10)"
      ],
      "execution_count": 0,
      "outputs": [
        {
          "output_type": "execute_result",
          "data": {
            "text/html": [
              "<div>\n",
              "<style scoped>\n",
              "    .dataframe tbody tr th:only-of-type {\n",
              "        vertical-align: middle;\n",
              "    }\n",
              "\n",
              "    .dataframe tbody tr th {\n",
              "        vertical-align: top;\n",
              "    }\n",
              "\n",
              "    .dataframe thead th {\n",
              "        text-align: right;\n",
              "    }\n",
              "</style>\n",
              "<table border=\"1\" class=\"dataframe\">\n",
              "  <thead>\n",
              "    <tr style=\"text-align: right;\">\n",
              "      <th></th>\n",
              "      <th>City</th>\n",
              "      <th>State</th>\n",
              "      <th>Population Growth Rate</th>\n",
              "      <th>Number of Burgalaries reported</th>\n",
              "      <th>Property Crime Rate</th>\n",
              "      <th>Housing Construction</th>\n",
              "      <th>Mass Markets</th>\n",
              "      <th>Diverse Workers</th>\n",
              "      <th>Well-heeled Affluents</th>\n",
              "    </tr>\n",
              "  </thead>\n",
              "  <tbody>\n",
              "    <tr>\n",
              "      <th>0</th>\n",
              "      <td>Abbeville</td>\n",
              "      <td>Alabama</td>\n",
              "      <td>-0.0141</td>\n",
              "      <td>4.0</td>\n",
              "      <td>42.5</td>\n",
              "      <td>0.0093</td>\n",
              "      <td>168.0</td>\n",
              "      <td>351.0</td>\n",
              "      <td>4.0</td>\n",
              "    </tr>\n",
              "    <tr>\n",
              "      <th>1</th>\n",
              "      <td>Adamsville</td>\n",
              "      <td>Alabama</td>\n",
              "      <td>-0.0209</td>\n",
              "      <td>10.0</td>\n",
              "      <td>186.5</td>\n",
              "      <td>-0.0069</td>\n",
              "      <td>529.0</td>\n",
              "      <td>424.0</td>\n",
              "      <td>5.0</td>\n",
              "    </tr>\n",
              "    <tr>\n",
              "      <th>2</th>\n",
              "      <td>Addison</td>\n",
              "      <td>Alabama</td>\n",
              "      <td>-0.0164</td>\n",
              "      <td>1.0</td>\n",
              "      <td>15.5</td>\n",
              "      <td>0.0264</td>\n",
              "      <td>56.0</td>\n",
              "      <td>374.0</td>\n",
              "      <td>1.0</td>\n",
              "    </tr>\n",
              "    <tr>\n",
              "      <th>3</th>\n",
              "      <td>Alabaster</td>\n",
              "      <td>Alabama</td>\n",
              "      <td>0.0125</td>\n",
              "      <td>19.0</td>\n",
              "      <td>306.0</td>\n",
              "      <td>-0.0225</td>\n",
              "      <td>826.0</td>\n",
              "      <td>448.0</td>\n",
              "      <td>36.0</td>\n",
              "    </tr>\n",
              "    <tr>\n",
              "      <th>4</th>\n",
              "      <td>Albertville</td>\n",
              "      <td>Alabama</td>\n",
              "      <td>-0.0002</td>\n",
              "      <td>5.0</td>\n",
              "      <td>378.0</td>\n",
              "      <td>0.0070</td>\n",
              "      <td>804.0</td>\n",
              "      <td>2350.0</td>\n",
              "      <td>28.0</td>\n",
              "    </tr>\n",
              "    <tr>\n",
              "      <th>5</th>\n",
              "      <td>Alexander city</td>\n",
              "      <td>Alabama</td>\n",
              "      <td>-0.0016</td>\n",
              "      <td>32.0</td>\n",
              "      <td>358.0</td>\n",
              "      <td>0.0112</td>\n",
              "      <td>768.0</td>\n",
              "      <td>2001.0</td>\n",
              "      <td>24.0</td>\n",
              "    </tr>\n",
              "    <tr>\n",
              "      <th>6</th>\n",
              "      <td>Aliceville</td>\n",
              "      <td>Alabama</td>\n",
              "      <td>-0.0099</td>\n",
              "      <td>5.0</td>\n",
              "      <td>21.5</td>\n",
              "      <td>0.0095</td>\n",
              "      <td>91.0</td>\n",
              "      <td>342.0</td>\n",
              "      <td>6.0</td>\n",
              "    </tr>\n",
              "    <tr>\n",
              "      <th>7</th>\n",
              "      <td>Anniston</td>\n",
              "      <td>Alabama</td>\n",
              "      <td>-0.0049</td>\n",
              "      <td>207.0</td>\n",
              "      <td>855.5</td>\n",
              "      <td>0.0025</td>\n",
              "      <td>2242.0</td>\n",
              "      <td>1227.0</td>\n",
              "      <td>253.0</td>\n",
              "    </tr>\n",
              "    <tr>\n",
              "      <th>8</th>\n",
              "      <td>Arab</td>\n",
              "      <td>Alabama</td>\n",
              "      <td>-0.0522</td>\n",
              "      <td>15.0</td>\n",
              "      <td>283.5</td>\n",
              "      <td>-0.0351</td>\n",
              "      <td>743.0</td>\n",
              "      <td>518.0</td>\n",
              "      <td>55.0</td>\n",
              "    </tr>\n",
              "    <tr>\n",
              "      <th>9</th>\n",
              "      <td>Ardmore</td>\n",
              "      <td>Alabama</td>\n",
              "      <td>0.0054</td>\n",
              "      <td>1.0</td>\n",
              "      <td>11.0</td>\n",
              "      <td>-0.0048</td>\n",
              "      <td>362.0</td>\n",
              "      <td>286.0</td>\n",
              "      <td>6.0</td>\n",
              "    </tr>\n",
              "  </tbody>\n",
              "</table>\n",
              "</div>"
            ],
            "text/plain": [
              "             City    State  ...  Diverse Workers  Well-heeled Affluents\n",
              "0       Abbeville  Alabama  ...            351.0                    4.0\n",
              "1      Adamsville  Alabama  ...            424.0                    5.0\n",
              "2         Addison  Alabama  ...            374.0                    1.0\n",
              "3       Alabaster  Alabama  ...            448.0                   36.0\n",
              "4     Albertville  Alabama  ...           2350.0                   28.0\n",
              "5  Alexander city  Alabama  ...           2001.0                   24.0\n",
              "6      Aliceville  Alabama  ...            342.0                    6.0\n",
              "7        Anniston  Alabama  ...           1227.0                  253.0\n",
              "8            Arab  Alabama  ...            518.0                   55.0\n",
              "9         Ardmore  Alabama  ...            286.0                    6.0\n",
              "\n",
              "[10 rows x 9 columns]"
            ]
          },
          "metadata": {
            "tags": []
          },
          "execution_count": 186
        }
      ]
    },
    {
      "cell_type": "code",
      "metadata": {
        "id": "90x7iQ1YJ5ju",
        "colab_type": "code",
        "outputId": "37b99bdd-2606-4347-f656-385f61f9268a",
        "colab": {
          "base_uri": "https://localhost:8080/",
          "height": 357
        }
      },
      "source": [
        "df_demographics_7.shape, list(df_demographics_7), df_demographics_7.notnull().sum()"
      ],
      "execution_count": 0,
      "outputs": [
        {
          "output_type": "execute_result",
          "data": {
            "text/plain": [
              "((24903, 9),\n",
              " ['City',\n",
              "  'State',\n",
              "  'Population Growth Rate',\n",
              "  'Number of Burgalaries reported',\n",
              "  'Property Crime Rate',\n",
              "  'Housing Construction',\n",
              "  'Mass Markets',\n",
              "  'Diverse Workers',\n",
              "  'Well-heeled Affluents'],\n",
              " City                              24903\n",
              " State                             24903\n",
              " Population Growth Rate             6718\n",
              " Number of Burgalaries reported     6726\n",
              " Property Crime Rate                6759\n",
              " Housing Construction               6718\n",
              " Mass Markets                      24770\n",
              " Diverse Workers                   24770\n",
              " Well-heeled Affluents             24770\n",
              " dtype: int64)"
            ]
          },
          "metadata": {
            "tags": []
          },
          "execution_count": 187
        }
      ]
    },
    {
      "cell_type": "code",
      "metadata": {
        "id": "Oywh4ndYwwz8",
        "colab_type": "code",
        "outputId": "0b753357-cfd8-402e-8cc9-8d2da8842e57",
        "colab": {
          "base_uri": "https://localhost:8080/",
          "height": 142
        }
      },
      "source": [
        "df_demographics_7.set_index([\"City\", \"State\"], inplace = True, \n",
        "                            append = True, drop = True)\n",
        "df_demographics_7.head(2)"
      ],
      "execution_count": 0,
      "outputs": [
        {
          "output_type": "execute_result",
          "data": {
            "text/html": [
              "<div>\n",
              "<style scoped>\n",
              "    .dataframe tbody tr th:only-of-type {\n",
              "        vertical-align: middle;\n",
              "    }\n",
              "\n",
              "    .dataframe tbody tr th {\n",
              "        vertical-align: top;\n",
              "    }\n",
              "\n",
              "    .dataframe thead th {\n",
              "        text-align: right;\n",
              "    }\n",
              "</style>\n",
              "<table border=\"1\" class=\"dataframe\">\n",
              "  <thead>\n",
              "    <tr style=\"text-align: right;\">\n",
              "      <th></th>\n",
              "      <th></th>\n",
              "      <th></th>\n",
              "      <th>Population Growth Rate</th>\n",
              "      <th>Number of Burgalaries reported</th>\n",
              "      <th>Property Crime Rate</th>\n",
              "      <th>Housing Construction</th>\n",
              "      <th>Mass Markets</th>\n",
              "      <th>Diverse Workers</th>\n",
              "      <th>Well-heeled Affluents</th>\n",
              "    </tr>\n",
              "    <tr>\n",
              "      <th></th>\n",
              "      <th>City</th>\n",
              "      <th>State</th>\n",
              "      <th></th>\n",
              "      <th></th>\n",
              "      <th></th>\n",
              "      <th></th>\n",
              "      <th></th>\n",
              "      <th></th>\n",
              "      <th></th>\n",
              "    </tr>\n",
              "  </thead>\n",
              "  <tbody>\n",
              "    <tr>\n",
              "      <th>0</th>\n",
              "      <th>Abbeville</th>\n",
              "      <th>Alabama</th>\n",
              "      <td>-0.0141</td>\n",
              "      <td>4.0</td>\n",
              "      <td>42.5</td>\n",
              "      <td>0.0093</td>\n",
              "      <td>168.0</td>\n",
              "      <td>351.0</td>\n",
              "      <td>4.0</td>\n",
              "    </tr>\n",
              "    <tr>\n",
              "      <th>1</th>\n",
              "      <th>Adamsville</th>\n",
              "      <th>Alabama</th>\n",
              "      <td>-0.0209</td>\n",
              "      <td>10.0</td>\n",
              "      <td>186.5</td>\n",
              "      <td>-0.0069</td>\n",
              "      <td>529.0</td>\n",
              "      <td>424.0</td>\n",
              "      <td>5.0</td>\n",
              "    </tr>\n",
              "  </tbody>\n",
              "</table>\n",
              "</div>"
            ],
            "text/plain": [
              "                      Population Growth Rate  ...  Well-heeled Affluents\n",
              "  City       State                            ...                       \n",
              "0 Abbeville  Alabama                 -0.0141  ...                    4.0\n",
              "1 Adamsville Alabama                 -0.0209  ...                    5.0\n",
              "\n",
              "[2 rows x 7 columns]"
            ]
          },
          "metadata": {
            "tags": []
          },
          "execution_count": 188
        }
      ]
    },
    {
      "cell_type": "code",
      "metadata": {
        "id": "lP2duRMgvehN",
        "colab_type": "code",
        "outputId": "69bd7004-042c-422d-c82e-41152183b477",
        "colab": {
          "base_uri": "https://localhost:8080/",
          "height": 173
        }
      },
      "source": [
        "# A data normalization is necessary to put all variables to the same scale.\n",
        "df_demographics_7.loc[:,:]= df_demographics_7.loc[:,:]/df_demographics_7.loc[:,:].sum()\n",
        "df_demographics_7.round(6).head(3)"
      ],
      "execution_count": 0,
      "outputs": [
        {
          "output_type": "execute_result",
          "data": {
            "text/html": [
              "<div>\n",
              "<style scoped>\n",
              "    .dataframe tbody tr th:only-of-type {\n",
              "        vertical-align: middle;\n",
              "    }\n",
              "\n",
              "    .dataframe tbody tr th {\n",
              "        vertical-align: top;\n",
              "    }\n",
              "\n",
              "    .dataframe thead th {\n",
              "        text-align: right;\n",
              "    }\n",
              "</style>\n",
              "<table border=\"1\" class=\"dataframe\">\n",
              "  <thead>\n",
              "    <tr style=\"text-align: right;\">\n",
              "      <th></th>\n",
              "      <th></th>\n",
              "      <th></th>\n",
              "      <th>Population Growth Rate</th>\n",
              "      <th>Number of Burgalaries reported</th>\n",
              "      <th>Property Crime Rate</th>\n",
              "      <th>Housing Construction</th>\n",
              "      <th>Mass Markets</th>\n",
              "      <th>Diverse Workers</th>\n",
              "      <th>Well-heeled Affluents</th>\n",
              "    </tr>\n",
              "    <tr>\n",
              "      <th></th>\n",
              "      <th>City</th>\n",
              "      <th>State</th>\n",
              "      <th></th>\n",
              "      <th></th>\n",
              "      <th></th>\n",
              "      <th></th>\n",
              "      <th></th>\n",
              "      <th></th>\n",
              "      <th></th>\n",
              "    </tr>\n",
              "  </thead>\n",
              "  <tbody>\n",
              "    <tr>\n",
              "      <th>0</th>\n",
              "      <th>Abbeville</th>\n",
              "      <th>Alabama</th>\n",
              "      <td>-0.000392</td>\n",
              "      <td>0.000015</td>\n",
              "      <td>0.000018</td>\n",
              "      <td>0.000261</td>\n",
              "      <td>0.000019</td>\n",
              "      <td>0.000039</td>\n",
              "      <td>0.000002</td>\n",
              "    </tr>\n",
              "    <tr>\n",
              "      <th>1</th>\n",
              "      <th>Adamsville</th>\n",
              "      <th>Alabama</th>\n",
              "      <td>-0.000582</td>\n",
              "      <td>0.000037</td>\n",
              "      <td>0.000077</td>\n",
              "      <td>-0.000194</td>\n",
              "      <td>0.000059</td>\n",
              "      <td>0.000047</td>\n",
              "      <td>0.000002</td>\n",
              "    </tr>\n",
              "    <tr>\n",
              "      <th>2</th>\n",
              "      <th>Addison</th>\n",
              "      <th>Alabama</th>\n",
              "      <td>-0.000456</td>\n",
              "      <td>0.000004</td>\n",
              "      <td>0.000006</td>\n",
              "      <td>0.000741</td>\n",
              "      <td>0.000006</td>\n",
              "      <td>0.000041</td>\n",
              "      <td>0.000000</td>\n",
              "    </tr>\n",
              "  </tbody>\n",
              "</table>\n",
              "</div>"
            ],
            "text/plain": [
              "                      Population Growth Rate  ...  Well-heeled Affluents\n",
              "  City       State                            ...                       \n",
              "0 Abbeville  Alabama               -0.000392  ...               0.000002\n",
              "1 Adamsville Alabama               -0.000582  ...               0.000002\n",
              "2 Addison    Alabama               -0.000456  ...               0.000000\n",
              "\n",
              "[3 rows x 7 columns]"
            ]
          },
          "metadata": {
            "tags": []
          },
          "execution_count": 190
        }
      ]
    },
    {
      "cell_type": "code",
      "metadata": {
        "id": "PW3kfucZz03r",
        "colab_type": "code",
        "colab": {}
      },
      "source": [
        "# Weighted scoring method\n",
        "# Based on relevance degree, appropriate weights are applied on the  variables to calculate final weighted average scores\n",
        "df_final_dem_10 = df_demographics_7[['Population Growth Rate','Number of Burgalaries reported','Property Crime Rate','Housing Construction']]*0.10\n",
        "df_final_seg_10 = df_demographics_7[['Mass Markets','Diverse Workers','Well-heeled Affluents']]*0.20"
      ],
      "execution_count": 0,
      "outputs": []
    },
    {
      "cell_type": "code",
      "metadata": {
        "id": "xrXDijjS18gT",
        "colab_type": "code",
        "colab": {}
      },
      "source": [
        "df_final = pd.concat([df_final_dem_10, df_final_seg_10], axis=1)"
      ],
      "execution_count": 0,
      "outputs": []
    },
    {
      "cell_type": "code",
      "metadata": {
        "id": "Ppn98JsZ2Y57",
        "colab_type": "code",
        "outputId": "6aabe8a4-64b0-463d-cef5-0195eff9a77c",
        "colab": {
          "base_uri": "https://localhost:8080/",
          "height": 173
        }
      },
      "source": [
        "df_final = df_final.round(6)\n",
        "df_final.head(3)"
      ],
      "execution_count": 0,
      "outputs": [
        {
          "output_type": "execute_result",
          "data": {
            "text/html": [
              "<div>\n",
              "<style scoped>\n",
              "    .dataframe tbody tr th:only-of-type {\n",
              "        vertical-align: middle;\n",
              "    }\n",
              "\n",
              "    .dataframe tbody tr th {\n",
              "        vertical-align: top;\n",
              "    }\n",
              "\n",
              "    .dataframe thead th {\n",
              "        text-align: right;\n",
              "    }\n",
              "</style>\n",
              "<table border=\"1\" class=\"dataframe\">\n",
              "  <thead>\n",
              "    <tr style=\"text-align: right;\">\n",
              "      <th></th>\n",
              "      <th></th>\n",
              "      <th></th>\n",
              "      <th>Population Growth Rate</th>\n",
              "      <th>Number of Burgalaries reported</th>\n",
              "      <th>Property Crime Rate</th>\n",
              "      <th>Housing Construction</th>\n",
              "      <th>Mass Markets</th>\n",
              "      <th>Diverse Workers</th>\n",
              "      <th>Well-heeled Affluents</th>\n",
              "    </tr>\n",
              "    <tr>\n",
              "      <th></th>\n",
              "      <th>City</th>\n",
              "      <th>State</th>\n",
              "      <th></th>\n",
              "      <th></th>\n",
              "      <th></th>\n",
              "      <th></th>\n",
              "      <th></th>\n",
              "      <th></th>\n",
              "      <th></th>\n",
              "    </tr>\n",
              "  </thead>\n",
              "  <tbody>\n",
              "    <tr>\n",
              "      <th>0</th>\n",
              "      <th>Abbeville</th>\n",
              "      <th>Alabama</th>\n",
              "      <td>-0.000039</td>\n",
              "      <td>0.000001</td>\n",
              "      <td>0.000002</td>\n",
              "      <td>0.000026</td>\n",
              "      <td>0.000004</td>\n",
              "      <td>0.000008</td>\n",
              "      <td>0.0</td>\n",
              "    </tr>\n",
              "    <tr>\n",
              "      <th>1</th>\n",
              "      <th>Adamsville</th>\n",
              "      <th>Alabama</th>\n",
              "      <td>-0.000058</td>\n",
              "      <td>0.000004</td>\n",
              "      <td>0.000008</td>\n",
              "      <td>-0.000019</td>\n",
              "      <td>0.000012</td>\n",
              "      <td>0.000009</td>\n",
              "      <td>0.0</td>\n",
              "    </tr>\n",
              "    <tr>\n",
              "      <th>2</th>\n",
              "      <th>Addison</th>\n",
              "      <th>Alabama</th>\n",
              "      <td>-0.000046</td>\n",
              "      <td>0.000000</td>\n",
              "      <td>0.000001</td>\n",
              "      <td>0.000074</td>\n",
              "      <td>0.000001</td>\n",
              "      <td>0.000008</td>\n",
              "      <td>0.0</td>\n",
              "    </tr>\n",
              "  </tbody>\n",
              "</table>\n",
              "</div>"
            ],
            "text/plain": [
              "                      Population Growth Rate  ...  Well-heeled Affluents\n",
              "  City       State                            ...                       \n",
              "0 Abbeville  Alabama               -0.000039  ...                    0.0\n",
              "1 Adamsville Alabama               -0.000058  ...                    0.0\n",
              "2 Addison    Alabama               -0.000046  ...                    0.0\n",
              "\n",
              "[3 rows x 7 columns]"
            ]
          },
          "metadata": {
            "tags": []
          },
          "execution_count": 213
        }
      ]
    },
    {
      "cell_type": "code",
      "metadata": {
        "id": "xbbENAqa5izd",
        "colab_type": "code",
        "colab": {}
      },
      "source": [
        "df_final.to_csv(r\"/gdrive/My Drive/Colab Notebooks/Data/PROJ/01_pandas/files/final/data/07_final_result_.csv\", sep = ',', encoding='utf-8')"
      ],
      "execution_count": 0,
      "outputs": []
    },
    {
      "cell_type": "code",
      "metadata": {
        "id": "GILWFv_X5zYl",
        "colab_type": "code",
        "colab": {}
      },
      "source": [
        "df_final_result = pd.read_csv(\"/gdrive/My Drive/Colab Notebooks/Data/PROJ/01_pandas/files/final/data/07_final_result.csv\", sep = ',', low_memory=False)"
      ],
      "execution_count": 0,
      "outputs": []
    },
    {
      "cell_type": "code",
      "metadata": {
        "id": "b56tVbn94JRv",
        "colab_type": "code",
        "outputId": "04ec1fc7-73d7-44e7-9411-462a9e843f9b",
        "colab": {
          "base_uri": "https://localhost:8080/",
          "height": 238
        }
      },
      "source": [
        "# Using the final weighted score, a new Ranking of cities is created, a combined strategy to identify the TOP 5 Locations/Regions to target\n",
        "df_final_result['Total'] = df_final_result.sum(axis=1)\n",
        "df_final_result.sort_values('Total', axis = 0, ascending = False, \n",
        "                 inplace = True, na_position ='last')\n",
        "df_final_result.round(6).head(5)"
      ],
      "execution_count": 0,
      "outputs": [
        {
          "output_type": "execute_result",
          "data": {
            "text/html": [
              "<div>\n",
              "<style scoped>\n",
              "    .dataframe tbody tr th:only-of-type {\n",
              "        vertical-align: middle;\n",
              "    }\n",
              "\n",
              "    .dataframe tbody tr th {\n",
              "        vertical-align: top;\n",
              "    }\n",
              "\n",
              "    .dataframe thead th {\n",
              "        text-align: right;\n",
              "    }\n",
              "</style>\n",
              "<table border=\"1\" class=\"dataframe\">\n",
              "  <thead>\n",
              "    <tr style=\"text-align: right;\">\n",
              "      <th></th>\n",
              "      <th>City</th>\n",
              "      <th>State</th>\n",
              "      <th>Population Growth Rate</th>\n",
              "      <th>Number of Burgalaries reported</th>\n",
              "      <th>Property Crime Rate</th>\n",
              "      <th>Housing Construction</th>\n",
              "      <th>Mass Markets2</th>\n",
              "      <th>Diverse Workers2</th>\n",
              "      <th>Well-heeled Affluents2</th>\n",
              "      <th>Total</th>\n",
              "    </tr>\n",
              "  </thead>\n",
              "  <tbody>\n",
              "    <tr>\n",
              "      <th>354</th>\n",
              "      <td>Chicago</td>\n",
              "      <td>Illinois</td>\n",
              "      <td>0.0000</td>\n",
              "      <td>0.0023</td>\n",
              "      <td>0.0016</td>\n",
              "      <td>0.0</td>\n",
              "      <td>0.0149</td>\n",
              "      <td>0.003933</td>\n",
              "      <td>0.005667</td>\n",
              "      <td>0.028400</td>\n",
              "    </tr>\n",
              "    <tr>\n",
              "      <th>3312</th>\n",
              "      <td>New York</td>\n",
              "      <td>New York</td>\n",
              "      <td>0.0000</td>\n",
              "      <td>0.0029</td>\n",
              "      <td>0.0026</td>\n",
              "      <td>0.0</td>\n",
              "      <td>0.0146</td>\n",
              "      <td>0.001127</td>\n",
              "      <td>0.001478</td>\n",
              "      <td>0.022705</td>\n",
              "    </tr>\n",
              "    <tr>\n",
              "      <th>2348</th>\n",
              "      <td>Las Vegas</td>\n",
              "      <td>Nevada</td>\n",
              "      <td>0.0000</td>\n",
              "      <td>0.0026</td>\n",
              "      <td>0.0008</td>\n",
              "      <td>0.0</td>\n",
              "      <td>0.0091</td>\n",
              "      <td>0.003965</td>\n",
              "      <td>0.000778</td>\n",
              "      <td>0.017243</td>\n",
              "    </tr>\n",
              "    <tr>\n",
              "      <th>156</th>\n",
              "      <td>Bronx</td>\n",
              "      <td>New York</td>\n",
              "      <td>0.0001</td>\n",
              "      <td>0.0011</td>\n",
              "      <td>0.0015</td>\n",
              "      <td>0.0</td>\n",
              "      <td>0.0090</td>\n",
              "      <td>0.003257</td>\n",
              "      <td>0.002282</td>\n",
              "      <td>0.017239</td>\n",
              "    </tr>\n",
              "    <tr>\n",
              "      <th>2566</th>\n",
              "      <td>Los Angeles</td>\n",
              "      <td>California</td>\n",
              "      <td>0.0000</td>\n",
              "      <td>0.0018</td>\n",
              "      <td>0.0016</td>\n",
              "      <td>0.0</td>\n",
              "      <td>0.0090</td>\n",
              "      <td>0.001679</td>\n",
              "      <td>0.002011</td>\n",
              "      <td>0.016090</td>\n",
              "    </tr>\n",
              "  </tbody>\n",
              "</table>\n",
              "</div>"
            ],
            "text/plain": [
              "             City       State  ...  Well-heeled Affluents2     Total\n",
              "354       Chicago    Illinois  ...                0.005667  0.028400\n",
              "3312     New York    New York  ...                0.001478  0.022705\n",
              "2348    Las Vegas      Nevada  ...                0.000778  0.017243\n",
              "156         Bronx    New York  ...                0.002282  0.017239\n",
              "2566  Los Angeles  California  ...                0.002011  0.016090\n",
              "\n",
              "[5 rows x 10 columns]"
            ]
          },
          "metadata": {
            "tags": []
          },
          "execution_count": 246
        }
      ]
    },
    {
      "cell_type": "markdown",
      "metadata": {
        "id": "c4vzMVSFXLPo",
        "colab_type": "text"
      },
      "source": [
        "#### > The TOP 5 CITIES (regions) selected to launch a New Home Security System are:\n",
        "1. Chicago\n",
        "2. New York\n",
        "3. Las Vegas\n",
        "4. Bronx\n",
        "5. Los Angeles"
      ]
    },
    {
      "cell_type": "code",
      "metadata": {
        "id": "wq797uY0SlmH",
        "colab_type": "code",
        "outputId": "fc036813-8956-4c40-ac8c-630f0a7c5774",
        "colab": {
          "base_uri": "https://localhost:8080/",
          "height": 684
        }
      },
      "source": [
        "%%HTML\n",
        "<div style=\"border-right: 600px solid WhiteSmoke;\"><div style=\"border-left: 100px solid WhiteSmoke;\"><div style=\"border-top: 20px solid WhiteSmoke;\"><div style=\"border-bottom: 20px solid WhiteSmoke;\"><param name=\"showShareOptions\" value=\"false\" />\n",
        "<div class='tableauPlaceholder' id='viz1568760016175' style='position: relative'><noscript><a href='#'><img alt=' ' src='https:&#47;&#47;public.tableau.com&#47;static&#47;images&#47;HF&#47;HF97RKJ5J&#47;1_rss.png' style='border: none' /></a></noscript><object class='tableauViz'  style='display:none;'><param name='host_url' value='https%3A%2F%2Fpublic.tableau.com%2F' /> <param name='embed_code_version' value='3' /><param name=\"showShareOptions\" value=\"false\" /><param name='path' value='shared&#47;HF97RKJ5J' /> <param name='toolbar' value='yes' /><param name='static_image' value='https:&#47;&#47;public.tableau.com&#47;static&#47;images&#47;HF&#47;HF97RKJ5J&#47;1.png' /> <param name='animate_transition' value='yes' /><param name='display_static_image' value='yes' /><param name='display_spinner' value='yes' /><param name='display_overlay' value='yes' /><param name='display_count' value='yes' /><param name='filter' value='publish=yes' /></object></div>                <script type='text/javascript'>                    var divElement = document.getElementById('viz1568760016175');                    var vizElement = divElement.getElementsByTagName('object')[0];                    vizElement.style.width='960px';vizElement.style.height='627px';                    var scriptElement = document.createElement('script');                    scriptElement.src = 'https://public.tableau.com/javascripts/api/viz_v1.js';                    vizElement.parentNode.insertBefore(scriptElement, vizElement);                </script>"
      ],
      "execution_count": 0,
      "outputs": [
        {
          "output_type": "display_data",
          "data": {
            "text/html": [
              "<div style=\"border-right: 600px solid WhiteSmoke;\"><div style=\"border-left: 100px solid WhiteSmoke;\"><div style=\"border-top: 20px solid WhiteSmoke;\"><div style=\"border-bottom: 20px solid WhiteSmoke;\"><param name=\"showShareOptions\" value=\"false\" />\n",
              "<div class='tableauPlaceholder' id='viz1568760016175' style='position: relative'><noscript><a href='#'><img alt=' ' src='https:&#47;&#47;public.tableau.com&#47;static&#47;images&#47;HF&#47;HF97RKJ5J&#47;1_rss.png' style='border: none' /></a></noscript><object class='tableauViz'  style='display:none;'><param name='host_url' value='https%3A%2F%2Fpublic.tableau.com%2F' /> <param name='embed_code_version' value='3' /><param name=\"showShareOptions\" value=\"false\" /><param name='path' value='shared&#47;HF97RKJ5J' /> <param name='toolbar' value='yes' /><param name='static_image' value='https:&#47;&#47;public.tableau.com&#47;static&#47;images&#47;HF&#47;HF97RKJ5J&#47;1.png' /> <param name='animate_transition' value='yes' /><param name='display_static_image' value='yes' /><param name='display_spinner' value='yes' /><param name='display_overlay' value='yes' /><param name='display_count' value='yes' /><param name='filter' value='publish=yes' /></object></div>                <script type='text/javascript'>                    var divElement = document.getElementById('viz1568760016175');                    var vizElement = divElement.getElementsByTagName('object')[0];                    vizElement.style.width='960px';vizElement.style.height='627px';                    var scriptElement = document.createElement('script');                    scriptElement.src = 'https://public.tableau.com/javascripts/api/viz_v1.js';                    vizElement.parentNode.insertBefore(scriptElement, vizElement);                </script>"
            ],
            "text/plain": [
              "<IPython.core.display.HTML object>"
            ]
          },
          "metadata": {
            "tags": []
          }
        }
      ]
    },
    {
      "cell_type": "markdown",
      "metadata": {
        "id": "5V0vyan1QjrJ",
        "colab_type": "text"
      },
      "source": [
        "### Insights Generated\n",
        "\n",
        "### Top 3 Customer Segments selected\n",
        "1. HIGH household counts\n",
        "\n",
        "2. HIGH willingness to buy security devices or switch brands\n",
        "\n",
        "3. HIGH propensity to pay more to buy quality products\n",
        "\n",
        "\n",
        "### Top 5 Cities selected\n",
        "\n",
        "1. HIGH population growth and housing construction\n",
        "\n",
        "2. HIGH property crime rate or burglaries reported\n",
        "\n",
        "3. HIGH percentage of top 3 customer segments\n"
      ]
    },
    {
      "cell_type": "code",
      "metadata": {
        "id": "NcabrnkGutUL",
        "colab_type": "code",
        "outputId": "bfd4c0ba-ba5a-4ce1-ab52-679845e67e8d",
        "colab": {
          "base_uri": "https://localhost:8080/",
          "height": 421
        }
      },
      "source": [
        "%%HTML\n",
        "<iframe width=\"1280\" height=\"400\" src=\"https://app.powerbi.com/view?r=eyJrIjoiZTYwOTM3ZmUtZDM4Ni00NmI3LTg0ZGQtMjg3ZTdkOGVlOGY0IiwidCI6ImMzYTZiMzgzLTg0ZjctNDYyYi1hMWEzLTlhODU0M2EzYzMyYSIsImMiOjZ9\" frameborder=\"0\" allowFullScreen=\"true\"></iframe>"
      ],
      "execution_count": 0,
      "outputs": [
        {
          "output_type": "display_data",
          "data": {
            "text/html": [
              "<iframe width=\"1280\" height=\"400\" src=\"https://app.powerbi.com/view?r=eyJrIjoiZTYwOTM3ZmUtZDM4Ni00NmI3LTg0ZGQtMjg3ZTdkOGVlOGY0IiwidCI6ImMzYTZiMzgzLTg0ZjctNDYyYi1hMWEzLTlhODU0M2EzYzMyYSIsImMiOjZ9\" frameborder=\"0\" allowFullScreen=\"true\"></iframe>"
            ],
            "text/plain": [
              "<IPython.core.display.HTML object>"
            ]
          },
          "metadata": {
            "tags": []
          }
        }
      ]
    }
  ]
}